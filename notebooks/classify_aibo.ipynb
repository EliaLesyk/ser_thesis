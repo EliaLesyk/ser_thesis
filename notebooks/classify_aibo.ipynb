{
 "cells": [
  {
   "cell_type": "code",
   "execution_count": 1,
   "id": "fe16bdba-50af-46a9-8ae4-b29ea35cd3bd",
   "metadata": {},
   "outputs": [],
   "source": [
    "import numpy as np\n",
    "import torch as t\n",
    "import torch.nn.functional as F\n",
    "import os\n",
    "import os.path\n",
    "import itertools\n",
    "\n",
    "from tqdm.autonotebook import tqdm\n",
    "from time import gmtime, strftime, time\n",
    "from matplotlib import pyplot as plt\n",
    "from torch import nn\n",
    "from torch.optim import Adam\n",
    "# from torchvision import datasets, transforms\n",
    "from torch.utils.data import DataLoader, TensorDataset\n",
    "from sklearn.metrics import confusion_matrix, f1_score, accuracy_score, precision_score, recall_score, classification_report\n",
    "from sklearn.utils import class_weight\n",
    "# from tqdm.autonotebook import tqdm"
   ]
  },
  {
   "cell_type": "code",
   "execution_count": 2,
   "id": "10bb16c1-9288-4056-9605-bb936d882b09",
   "metadata": {},
   "outputs": [],
   "source": [
    "#ft_df = np.load(\"data/AIBO/w2v/\" + \"aibo_ft.npy\")\n",
    "# hs_df = np.load(\"/Users/el/embrace/data/data_wav2vec2/icp/\" + \"icp_hs.npy\")\n",
    "#labels_df = np.load(\"data/AIBO/w2v/\" + \"aibo_labels.npy\")\n",
    "\n",
    "# labels_dict = {'ang': 1, 'exc': 3, 'fea': 2, 'fru': 4, 'hap': 3, 'neu': 0, 'oth': 6, 'sad': 4, 'sur': 5, 'xxx': 6}\n",
    "CLASS_TO_ID = {'A': 0, 'E': 1, 'N': 2, 'P': 3, 'R': 4}\n",
    "ID_TO_CLASS = {v: k for k, v in CLASS_TO_ID.items()}\n",
    "w2v_classes = list(ID_TO_CLASS.keys())\n",
    "\n",
    "#lb_df = np.array([labels_dict[letter] for letter in labels_df])"
   ]
  },
  {
   "cell_type": "code",
   "execution_count": 3,
   "id": "3174d84c-aaab-4b48-a015-d69af9aa79f6",
   "metadata": {},
   "outputs": [
    {
     "data": {
      "text/plain": [
       "['A', 'E', 'N', 'P', 'R']"
      ]
     },
     "execution_count": 3,
     "metadata": {},
     "output_type": "execute_result"
    }
   ],
   "source": [
    "w2v_classnames = list(CLASS_TO_ID.keys())\n",
    "w2v_classnames"
   ]
  },
  {
   "cell_type": "code",
   "execution_count": 4,
   "id": "453c5fd5-0993-4063-97d3-61842440af61",
   "metadata": {},
   "outputs": [],
   "source": [
    "BATCH_SIZE = 64\n",
    "#BATCH_SIZE = 32\n",
    "EPOCHS = 100"
   ]
  },
  {
   "cell_type": "code",
   "execution_count": 5,
   "id": "ee309e5e-3aa1-4626-8925-f31008eb3e43",
   "metadata": {},
   "outputs": [],
   "source": [
    "#model_option = 'xvec'\n",
    "#model_option = 'base'\n",
    "model_option = 'xlsr'\n",
    "#model_option = 'xlsr-de'"
   ]
  },
  {
   "cell_type": "code",
   "execution_count": 6,
   "id": "fd7ab4df-c235-4479-b8a9-b9a626f662da",
   "metadata": {},
   "outputs": [],
   "source": [
    "AIBO_PATH = os.getcwd() + \"/data/AIBO/wav2vec/\""
   ]
  },
  {
   "cell_type": "code",
   "execution_count": 7,
   "id": "e4acb268-3e72-434b-bb5a-0e4b4ad16900",
   "metadata": {},
   "outputs": [],
   "source": [
    "def balanced_sample_maker(X, y, random_seed=42):\n",
    "    '''\n",
    "    Take N of samples from each class\n",
    "    :param X: X_train\n",
    "    :param y: y_train\n",
    "    :param sample_size: N of samples to take\n",
    "    :param random_seed: save the randomness mode\n",
    "    :return: resampled dataset\n",
    "    '''\n",
    "    uniq_levels = np.unique(y)\n",
    "    #uniq_counts = {level: sum(y == level) for level in uniq_levels}\n",
    "\n",
    "    if not random_seed is None:\n",
    "        np.random.seed(random_seed)\n",
    "\n",
    "    # find observation index of each class levels\n",
    "    groupby_levels = {}\n",
    "    # take sample size based on the class with the smallest amount\n",
    "    #sample_size = np.inf\n",
    "    sample_size = 0\n",
    "    for ii, level in enumerate(uniq_levels):\n",
    "        obs_idx = [idx for idx, val in enumerate(y) if val == level]\n",
    "        groupby_levels[level] = obs_idx\n",
    "        #if len(obs_idx) < sample_size:\n",
    "        if len(obs_idx) > sample_size:  # take the class with the largest amount\n",
    "            sample_size = len(obs_idx)\n",
    "\n",
    "    # oversampling on observations of each label\n",
    "    balanced_copy_idx = []\n",
    "    for gb_level, gb_idx in groupby_levels.items():\n",
    "        over_sample_idx = np.random.choice(gb_idx, size=sample_size, replace=True).tolist()\n",
    "        # replace=False ?\n",
    "        balanced_copy_idx += over_sample_idx\n",
    "    np.random.shuffle(balanced_copy_idx)\n",
    "\n",
    "    data_train = X[balanced_copy_idx]\n",
    "    labels_train = y[balanced_copy_idx]\n",
    "    if len(data_train) == (sample_size * len(uniq_levels)):\n",
    "        print('Number of samples: ', sample_size * len(uniq_levels), 'Number of samples per class: ', \\\n",
    "              sample_size, ' #classes: ', len(list(set(uniq_levels))))\n",
    "    else:\n",
    "        print('Number of samples is wrong!')\n",
    "\n",
    "    labels, values = zip(*Counter(labels_train).items())\n",
    "    #print('Number of classes: ', len(list(set(labels_train))))\n",
    "    check = all(x == values[0] for x in values)\n",
    "    if check:\n",
    "        print('Good, all classes have the same number of examples')\n",
    "    else:\n",
    "        print('Repeat again your sampling, your classes are not balanced')\n",
    "    # show the distribution between classes\n",
    "    #indexes = np.arange(len(labels))\n",
    "    #width = 0.5\n",
    "    #plt.bar(indexes, values, width)\n",
    "    #plt.xticks(indexes + width * 0.5, labels)\n",
    "    #plt.show()\n",
    "    return data_train, labels_train"
   ]
  },
  {
   "cell_type": "code",
   "execution_count": 8,
   "id": "6e47c084-d80f-4700-8e42-5345a8006bc7",
   "metadata": {},
   "outputs": [],
   "source": [
    "# sample same number of samples per class\n",
    "#x_train, y_train = balanced_sample_maker(x_train, y_train)\n",
    "#x_val, y_val = balanced_sample_maker(x_val, y_val)\n",
    "#x_test, y_test = balanced_sample_maker(x_test, y_test)"
   ]
  },
  {
   "cell_type": "code",
   "execution_count": 9,
   "id": "23d9a02b-febb-4154-98d4-40789d4e69ae",
   "metadata": {},
   "outputs": [],
   "source": [
    "#merged_list = [(x_val[i], y_val[i]) for i in range(0, len(x_val))]\n",
    "\n",
    "#a = 0\n",
    "#for i in range(len(merged_list)):\n",
    " #   if merged_list[i][1]==4:\n",
    "  #      a+=1\n",
    "#print(a)"
   ]
  },
  {
   "cell_type": "code",
   "execution_count": 7,
   "id": "1cbc7b59-71ee-4bd4-86f8-37a26c04b992",
   "metadata": {},
   "outputs": [],
   "source": [
    "x_train = np.load(AIBO_PATH + model_option + \"_aibo_ft_train.npy\")\n",
    "x_val = np.load(AIBO_PATH + model_option + \"_aibo_ft_val.npy\")\n",
    "\n",
    "y_train = np.load(AIBO_PATH + model_option + \"_aibo_lb_train.npy\", allow_pickle=True)\n",
    "y_val = np.load(AIBO_PATH + model_option + \"_aibo_lb_val.npy\", allow_pickle=True)"
   ]
  },
  {
   "cell_type": "code",
   "execution_count": 8,
   "id": "4a56bb4e-0871-4eac-a4b0-8c06199a7edc",
   "metadata": {},
   "outputs": [],
   "source": [
    "x_test = np.load(AIBO_PATH +  model_option + \"_aibo_ft_test.npy\")\n",
    "y_test = np.load(AIBO_PATH +  model_option + \"_aibo_lb_test.npy\")"
   ]
  },
  {
   "cell_type": "code",
   "execution_count": 9,
   "id": "6aa4df9c-fcd8-4859-a70b-5678a9411427",
   "metadata": {},
   "outputs": [
    {
     "name": "stdout",
     "output_type": "stream",
     "text": [
      "(12284,) (2261,) (3671,)\n",
      "(12284, 3072) (2261, 3072) (3671, 3072)\n"
     ]
    }
   ],
   "source": [
    "print(y_train.shape, y_val.shape, y_test.shape)       # (4696,) (935,) (1407,)\n",
    "print(x_train.shape, x_val.shape, x_test.shape)       # (4696, 3072) (935, 3072) (1407, 3072)\n",
    "\n",
    "train_dataset = TensorDataset(t.tensor(x_train), t.tensor(y_train))\n",
    "# train_dataset = TensorDataset(torch.from_numpy(x_train_eval).float(), torch.from_numpy(y_train_eval).float())\n",
    "val_dataset = TensorDataset(t.tensor(x_val), t.tensor(y_val))\n",
    "test_dataset = TensorDataset(t.tensor(x_test), t.tensor(y_test))\n",
    "\n",
    "train_loader = DataLoader(dataset=train_dataset, batch_size=BATCH_SIZE, shuffle=True) # num_workers\n",
    "val_loader = DataLoader(dataset=val_dataset, batch_size=BATCH_SIZE, shuffle=False)\n",
    "test_loader = DataLoader(dataset=test_dataset, batch_size=BATCH_SIZE, shuffle=False)"
   ]
  },
  {
   "cell_type": "code",
   "execution_count": 10,
   "id": "196d19a0-145e-4ce0-8073-ec72f6e17c55",
   "metadata": {},
   "outputs": [
    {
     "data": {
      "text/plain": [
       "dict_keys(['A', 'E', 'N', 'P', 'R'])"
      ]
     },
     "execution_count": 10,
     "metadata": {},
     "output_type": "execute_result"
    }
   ],
   "source": [
    "CLASS_TO_ID.keys()"
   ]
  },
  {
   "cell_type": "code",
   "execution_count": 11,
   "id": "42388a35-44d4-4654-8016-9575ef96d957",
   "metadata": {},
   "outputs": [
    {
     "data": {
      "text/plain": [
       "dict_values([0, 1, 2, 3, 4])"
      ]
     },
     "execution_count": 11,
     "metadata": {},
     "output_type": "execute_result"
    }
   ],
   "source": [
    "CLASS_TO_ID.values()"
   ]
  },
  {
   "cell_type": "code",
   "execution_count": 15,
   "id": "c9a4edfa-e2e5-480e-82b0-4954bd187c0d",
   "metadata": {},
   "outputs": [],
   "source": [
    "#my_x = ft_df\n",
    "#my_y = lb_df\n",
    "\n",
    "#split_index = int(my_y.shape[0]*0.8)\n",
    "#print(split_index)\n",
    "\n",
    "#all_indexes = list(range(my_x.shape[0]))\n",
    "#test_indexes = all_indexes[(split_index + 1):]\n",
    "#x_test = my_x[test_indexes]\n",
    "#y_test = my_y[test_indexes]\n",
    "\n",
    "#train_indexes = all_indexes[:(split_index + 1)]\n",
    "#x_train = my_x[train_indexes]\n",
    "#y_train = my_y[train_indexes]\n",
    "\n",
    "#eval_split_index = 934\n",
    "#all_indexes = list(range(x_train.shape[0]))\n",
    "#eval_indexes = all_indexes[(eval_split_index + 1):]\n",
    "#eval_train_indexes = all_indexes[:(eval_split_index + 1)]\n",
    "\n",
    "#x_train_eval = x_train[eval_indexes]\n",
    "#y_train_eval = y_train[eval_indexes]\n",
    "#x_eval = x_train[eval_train_indexes]\n",
    "#y_eval = y_train[eval_train_indexes]\n",
    "\n",
    "# x_train_eval=np.vstack(x_train_eval).astype(np.float)\n",
    "# y_train_eval=np.vstack(y_train_eval).astype(np.str)"
   ]
  },
  {
   "cell_type": "code",
   "execution_count": 16,
   "id": "ca952110-e687-4d1f-bc4e-baed2ce80523",
   "metadata": {},
   "outputs": [],
   "source": [
    "#print(y_train_eval.shape, y_eval.shape, y_test.shape)       # (4696,) (935,) (1407,)\n",
    "#print(x_train_eval.shape, x_eval.shape, x_test.shape)       # (4696, 3072) (935, 3072) (1407, 3072)"
   ]
  },
  {
   "cell_type": "code",
   "execution_count": 12,
   "id": "016ab04a-7051-4953-a85d-43527e6fb446",
   "metadata": {},
   "outputs": [],
   "source": [
    "def get_device():\n",
    "    if t.cuda.is_available():\n",
    "        return \"cuda\"\n",
    "    else:\n",
    "        return \"cpu\""
   ]
  },
  {
   "cell_type": "code",
   "execution_count": 13,
   "id": "875b24d9-d68b-4665-a6f3-999b745c93ce",
   "metadata": {},
   "outputs": [],
   "source": [
    "class Trainer:\n",
    "\n",
    "    def __init__(self,\n",
    "                 model,  # Model to be trained.\n",
    "                 model_name,\n",
    "                 dataset,\n",
    "                 crit,  # Loss function\n",
    "                 optim=None,  # Optimizer\n",
    "                 train_dl=None,  # Training data set\n",
    "                 val_test_dl=None,  # Validation data set\n",
    "                 test_dl=None,  # Test data set\n",
    "                 cuda=True,  # Whether to use the GPU\n",
    "                 early_stopping_patience=-1):   # The patience for early stopping\n",
    "                 #unsqueeze_needed=True\n",
    "        self._model = model\n",
    "        self.model_name = model_name\n",
    "        self.dataset = dataset\n",
    "        self._crit = crit\n",
    "        self._optim = optim\n",
    "        self._train_dl = train_dl\n",
    "        self._val_test_dl = val_test_dl\n",
    "        self._test_dl = test_dl\n",
    "        self._cuda = cuda\n",
    "        self._early_stopping_patience = early_stopping_patience\n",
    "        #self._unsqueeze_needed = unsqueeze_needed\n",
    "\n",
    "        if cuda:\n",
    "            self._model = model.cuda()\n",
    "            self._crit = crit.cuda()\n",
    "\n",
    "    #def save_checkpoint(self, epoch):\n",
    "     #   t.save({'state_dict': self._model.state_dict()}, 'checkpoints/checkpoint_{:03d}.ckp'.format(epoch))\n",
    "\n",
    "    #def restore_checkpoint(self, epoch_n):\n",
    "    def restore_checkpoint(self):\n",
    "        path = 'checkpoints/' + self.model_name + '_checkpoint_{}.ckp'.format(get_datetime())\n",
    "        if os.path.exists(path):\n",
    "            #ckp = t.load('checkpoints/checkpoint_{:03d}.ckp'.format(epoch_n), 'cuda' if self._cuda else None)\n",
    "            ckp = t.load(path, 'cuda' if self._cuda else None)\n",
    "            self._model.load_state_dict(ckp['state_dict'])\n",
    "\n",
    "    def save_onnx(self, fn):\n",
    "        m = self._model.cpu()\n",
    "        m.eval()\n",
    "        x = t.randn(1, 3, 300, 300, requires_grad=True)\n",
    "        y = self._model(x)\n",
    "        t.onnx.export(m,  # model being run\n",
    "                      x,  # model input (or a tuple for multiple inputs)\n",
    "                      fn,  # where to save the model (can be a file or file-like object)\n",
    "                      export_params=True,  # store the trained parameter weights inside the model file\n",
    "                      opset_version=10,  # the ONNX version to export the model to\n",
    "                      do_constant_folding=True,  # whether to execute constant folding for optimization\n",
    "                      input_names=['input'],  # the model's input names\n",
    "                      output_names=['output'],  # the model's output names\n",
    "                      dynamic_axes={'input': {0: 'batch_size'},  # variable lenght axes\n",
    "                                    'output': {0: 'batch_size'}})\n",
    "\n",
    "    def train_step(self, x, y):\n",
    "        # perform following steps:\n",
    "        # -reset the gradients / clear the gradients of all optimized variables\n",
    "        self._optim.zero_grad()\n",
    "        # -propagate through the network / forward pass: compute predicted outputs by passing inputs to the model\n",
    "        output = self._model.forward(x)\n",
    "        # -calculate the loss\n",
    "        #y=y.to(t.int64)\n",
    "        \n",
    "        \n",
    "        loss = self._crit(output, y)\n",
    "        # -compute gradient by backprop / backward pass: compute gradient of the loss with respect to model parameters\n",
    "        loss.backward()\n",
    "        # -update weights / perform a single optimization step (parameter update)\n",
    "        self._optim.step()\n",
    "        # -return the loss\n",
    "        return loss, output\n",
    "\n",
    "    def val_test_step(self, x, y):\n",
    "        # predict\n",
    "        # propagate through the network and calculate the loss and predictions\n",
    "        pred = self._model.forward(x)\n",
    "        # calculate the loss\n",
    "        #y=y.to(t.int64)\n",
    "        \n",
    "        loss = self._crit(pred, y)\n",
    "        # return the loss and the predictions\n",
    "        return loss, pred\n",
    "\n",
    "    def train_epoch(self):\n",
    "        # set training mode / prepare model for training\n",
    "        self._model.train()\n",
    "        # iterate through the training set\n",
    "        # clear lists to track next epoch\n",
    "        total_loss = 0\n",
    "        total_acc = 0\n",
    "        for x, y in self._train_dl:\n",
    "            # transfer the batch to \"cuda()\" -> the gpu if a gpu is given\n",
    "            if self._cuda:\n",
    "                x = x.cuda()\n",
    "                y = y.cuda()\n",
    "           # if self._unsqueeze_needed:\n",
    "            #    x = x.unsqueeze(1)\n",
    "            # perform a training step\n",
    "            #print(y.dtype)\n",
    "            loss, pred = self.train_step(x, y)\n",
    "            total_loss += loss.item()\n",
    "            #total_acc += accuracy_score(y.cpu().detach().numpy(), np.hstack(pred))\n",
    "            #total_acc += accuracy_score(y.cpu(), pred.cpu() > 0.5)\n",
    "        # calculate the average loss for the epoch and return it\n",
    "        total_loss = total_loss / len(self._train_dl)\n",
    "        #total_acc = total_acc / len(self._train_dl)\n",
    "        #print(\"Train: loss: {}, accuracy: {}\".format(total_loss, total_acc))\n",
    "        print(\"Train: loss: {}\".format(total_loss))\n",
    "        return total_loss\n",
    "\n",
    "    def val_test(self, mode=False):\n",
    "        # set eval mode / prepare model for evaluation\n",
    "        self._model.eval()\n",
    "        \n",
    "        all_preds = []\n",
    "        # disable gradient computation (disable autograd engine)\n",
    "        with t.no_grad():\n",
    "            # iterate through the validation set\n",
    "            # clear lists to track next epoch\n",
    "            total_loss = 0\n",
    "            total_acc = 0\n",
    "            total_f1 = 0\n",
    "            if mode:\n",
    "                dataset = self._test_dl\n",
    "            else:\n",
    "                dataset = self._val_test_dl\n",
    "            for x, y in dataset:\n",
    "                # transfer the batch to the gpu if given\n",
    "                if self._cuda:\n",
    "                    x = x.cuda()\n",
    "                    y = y.cuda()\n",
    "                #if self._unsqueeze_needed:\n",
    "                 #   x = x.unsqueeze(1)\n",
    "\n",
    "                # perform a validation step / forward pass: compute predicted outputs by passing inputs to the model\n",
    "                loss, pred = self.val_test_step(x, y)       # pred.shape torch.Size([8, 5]) = bs, num_cl\n",
    "                # calculate metrics for this iteration\n",
    "                total_loss += loss.item()\n",
    "\n",
    "                # deal with multilabel\n",
    "                activation = t.nn.Softmax(dim=1)\n",
    "                pred = activation(pred.data)\n",
    "                pred = t.max(pred, 1)[1]    # choose maximum class index for the most predominant index\n",
    "                # pred: tensor([4, 3, 2, 4, 0, 3, 4, 3])\n",
    "                #pred = pred.cpu().detach()\n",
    "                pred = pred.cpu().detach().numpy()\n",
    "\n",
    "                # prepare to count predictions for each class\n",
    "                correct_pred = {classname: 0 for classname in w2v_classes}\n",
    "                total_pred = {classname: 0 for classname in w2v_classes}\n",
    "                # collect the correct predictions for each class\n",
    "                for label, prediction in zip(y, pred):\n",
    "                    if label == prediction:\n",
    "                        correct_pred[w2v_classes[label]] += 1\n",
    "                    total_pred[w2v_classes[label]] += 1   # {0: 3, 1: 14, 2: 20, 3: 2, 4: 1}\n",
    "\n",
    "                # print accuracy for each class\n",
    "                #for classname, correct_count in correct_pred.items():\n",
    "                 #   accuracy = 100 * float(correct_count) / total_pred[classname]\n",
    "                    #print(\"Accuracy for class {:5s} is: {:.1f} %\".format(classname, accuracy))\n",
    "                  #  print(\"Accuracy for class {} is: {} %\".format(classname, accuracy))\n",
    "\n",
    "                #total_acc += accuracy_score(y.cpu(), pred.cpu() > 0.5)\n",
    "                total_acc += accuracy_score(y.cpu().detach().numpy(), np.hstack(pred))\n",
    "                #total_f1 += f1_score(y.cpu(), pred.cpu() > 0.5, average=None)\n",
    "                total_f1 += f1_score(y.cpu().detach().numpy(), np.hstack(pred), average='weighted')\n",
    "                \n",
    "                # save the predictions and the labels for each batch\n",
    "                all_preds = np.hstack([all_preds, pred])\n",
    "\n",
    "            # calculate the average loss and average metrics\n",
    "            total_loss = total_loss / len(dataset)\n",
    "            total_acc = total_acc / len(dataset)\n",
    "            total_f1 = total_f1 / len(dataset)\n",
    "\n",
    "            # return the loss and print the calculated metrics\n",
    "            if mode:\n",
    "                print(\"Test: loss: {}, accuracy: {}%, f-score: {}\".format(total_loss, total_acc * 100, total_f1))\n",
    "            else:\n",
    "                print(\"Validation: loss: {}, accuracy: {}%, f-score: {}\".format(total_loss, total_acc * 100, total_f1))\n",
    "\n",
    "        t.enable_grad()\n",
    "        \n",
    "        if mode:\n",
    "            return total_loss, all_preds\n",
    "        else:\n",
    "            return total_loss\n",
    "\n",
    "    def fit(self, n_epochs):\n",
    "        # to track the training loss as the model trains\n",
    "        #train_losses = []\n",
    "        # to track the validation loss as the model trains\n",
    "        #valid_losses = []\n",
    "        # to track the average training loss per epoch as the model trains\n",
    "        avg_train_losses = []\n",
    "        # to track the average validation loss per epoch as the model trains\n",
    "        avg_valid_losses = []\n",
    "        # store results\n",
    "        #res = open('./results/' + self.model_name + '_results.txt', 'w')\n",
    "        #res.write(50 * '=')\n",
    "        #res.write('Model \\n')\n",
    "        #res.write(str(self._model) + '\\n')\n",
    "\n",
    "        # load the last checkpoint with the best model\n",
    "        self.restore_checkpoint()\n",
    "\n",
    "        # initialize the early_stopping object\n",
    "        early_stopping = EarlyStopping(patience=self._early_stopping_patience, verbose=True)\n",
    "\n",
    "        for epoch in range(1, n_epochs + 1):\n",
    "            # train the model\n",
    "            train_loss = self.train_epoch()\n",
    "            # validate the model\n",
    "            valid_loss = self.val_test(mode=False)\n",
    "\n",
    "            # calculate average loss over an epoch\n",
    "            #train_loss = np.average(train_losses)\n",
    "            #train_loss = train_losses / len(self._train_dl)\n",
    "            #valid_loss = np.average(valid_losses)\n",
    "\n",
    "            avg_train_losses.append(train_loss)\n",
    "            avg_valid_losses.append(valid_loss)\n",
    "\n",
    "            \"\"\"\n",
    "            # print training/validation statistics\n",
    "            epoch_len = len(str(n_epochs))\n",
    "\n",
    "            print_msg = (f'[{epoch:>{epoch_len}}/{n_epochs:>{epoch_len}}] ' +\n",
    "                         f'train_loss: {train_loss:.5f} ' +\n",
    "                         f'valid_loss: {valid_loss:.5f}')\n",
    "\n",
    "            print(print_msg)\n",
    "            \"\"\"\n",
    "\n",
    "            # early_stopping needs the validation loss to check if it has decreased,\n",
    "            # if it has, it will make a checkpoint of the current model\n",
    "            early_stopping(valid_loss, self._model, self.model_name, self.dataset)\n",
    "\n",
    "            \"\"\"\n",
    "            # use the save_checkpoint function to save the model for each epoch\n",
    "            save_flag = self._early_stopping_cb.step(l_dev)\n",
    "\n",
    "            if save_flag:\n",
    "                res.write(50 * '=')\n",
    "                res.write('Epoch: ' + str(self.epoch) + ' Training Loss :' + str(l_train) + ' Development Loss :' + str(\n",
    "                    l_dev))\n",
    "                Trainer.save_checkpoint(self, self.epoch + 1, model_name)\n",
    "                self.epoch_n = self.epoch + 1\n",
    "            \"\"\"\n",
    "\n",
    "            if early_stopping.early_stop:\n",
    "                print(\"Early stopping has been reached\")\n",
    "                break\n",
    "\n",
    "            # load the last checkpoint with the best model\n",
    "            #self._model.load_state_dict(t.load('checkpoint.pt'))\n",
    "            #self.restore_checkpoint()\n",
    "\n",
    "        # return model, avg_train_losses, avg_valid_losses\n",
    "        #res.close()\n",
    "        return avg_train_losses, avg_valid_losses\n",
    "    \n",
    "    def test(self):\n",
    "\n",
    "        # load the last checkpoint with the best model\n",
    "        self.restore_checkpoint()\n",
    "\n",
    "        # test the model\n",
    "        test_loss, all_preds = self.val_test(mode=True)\n",
    "        return test_loss, all_preds"
   ]
  },
  {
   "cell_type": "code",
   "execution_count": 14,
   "id": "b8973642-b64e-4e08-bfe7-5468ca267965",
   "metadata": {},
   "outputs": [],
   "source": [
    "class EarlyStopping:\n",
    "    # https://github.com/Bjarten/early-stopping-pytorch/blob/master/pytorchtools.py\n",
    "    \"\"\"Early stops the training if validation loss doesn't improve after a given patience.\"\"\"\n",
    "    def __init__(self, patience=7, epoch=-1, verbose=False, delta=0, trace_func=print):\n",
    "    #def __init__(self, patience=7, epoch=0, verbose=False, delta=0, path='checkpoint.pt', trace_func=print):\n",
    "        \"\"\"\n",
    "        Args:\n",
    "            patience (int): How long to wait after last time validation loss improved.\n",
    "                            Default: 7\n",
    "            verbose (bool): If True, prints a message for each validation loss improvement.\n",
    "                            Default: False\n",
    "            delta (float): Minimum change in the monitored quantity to qualify as an improvement.\n",
    "                            Default: 0\n",
    "            path (str): Path for the checkpoint to be saved to.\n",
    "                            Default: 'checkpoint.pt'\n",
    "            trace_func (function): trace print function.\n",
    "                            Default: print\n",
    "        \"\"\"\n",
    "        self.patience = patience\n",
    "        self.epoch = epoch\n",
    "        self.verbose = verbose\n",
    "        self.counter = 0\n",
    "        self.best_score = None\n",
    "        self.early_stop = False\n",
    "        self.val_loss_min = np.Inf\n",
    "        self.delta = delta\n",
    "        self.trace_func = trace_func\n",
    "\n",
    "    def __call__(self, val_loss, model, model_name, dataset):\n",
    "\n",
    "        score = -val_loss\n",
    "\n",
    "        if self.best_score is None:\n",
    "            self.best_score = score\n",
    "            self.save_checkpoint(val_loss, model, model_name, dataset)\n",
    "        elif score < self.best_score + self.delta:\n",
    "            self.counter += 1\n",
    "            self.trace_func(f'EarlyStopping counter: {self.counter} out of {self.patience}')\n",
    "            if self.counter >= self.patience:\n",
    "                print(\"EarlyStopping counter is higher than patience\")\n",
    "                self.early_stop = True\n",
    "        else:\n",
    "            self.best_score = score\n",
    "            self.save_checkpoint(val_loss, model, model_name, dataset)\n",
    "            self.counter = 0\n",
    "\n",
    "    def save_checkpoint(self, val_loss, model, model_name, dataset):\n",
    "        \"\"\"\n",
    "        Saves model when validation loss decreases\n",
    "        \"\"\"\n",
    "        if not os.path.isdir('./checkpoints/'):\n",
    "            os.makedirs('./checkpoints/')\n",
    "        if self.verbose:\n",
    "            self.trace_func(f'Validation loss decreased ({self.val_loss_min:.6f} --> {val_loss:.6f}).  Saving model ...')\n",
    "        #a.save(model.state_dict(), self.path)\n",
    "        path = 'checkpoints/' + model_name + dataset + '_checkpoint_{}.ckp'.format(get_datetime())\n",
    "        t.save({'state_dict': model.state_dict()}, path)\n",
    "        self.val_loss_min = val_loss\n",
    "        #t.save({'state_dict': self._model.state_dict()}, 'checkpoints/' + model_name + 'checkpoint.ckp')\n",
    "\n",
    "\n",
    "def get_datetime():\n",
    "    #return strftime(\"%Y-%m-%d_%H:%M:%S\", gmtime())\n",
    "    # storing per day to have different runs from different days\n",
    "    return strftime(\"%Y-%m-%d\", gmtime())"
   ]
  },
  {
   "cell_type": "code",
   "execution_count": 15,
   "id": "65cc25f1-21c5-4513-b19d-c23b7e84e0bf",
   "metadata": {},
   "outputs": [],
   "source": [
    "device = get_device()"
   ]
  },
  {
   "cell_type": "code",
   "execution_count": 16,
   "id": "53664f11-c569-4677-a9cb-00e045aa0c59",
   "metadata": {},
   "outputs": [],
   "source": [
    "\n",
    "class SimpleMLP(nn.Module):\n",
    "    def __init__(self):\n",
    "        super(SimpleMLP, self).__init__()\n",
    "        self.layers = nn.Sequential(\n",
    "            nn.Linear(3072, 1500),     # icp_ft.npy\n",
    "            #nn.Linear(6144, 1000),\n",
    "            nn.ELU(),\n",
    "            nn.Linear(1500, 500),\n",
    "            nn.GELU(),\n",
    "            nn.Dropout(0.2),\n",
    "            nn.Linear(500,5)\n",
    "        )\n",
    "\n",
    "    def forward(self, x):\n",
    "        # convert tensor (128, 1, 28, 28) --> (128, 1*28*28)\n",
    "        x = x.view(x.size(0), -1)\n",
    "        #print(x.shape)\n",
    "        x = self.layers(x)\n",
    "        return x\n",
    "\n",
    "\n",
    "\n",
    "# defining model\n",
    "class MLP(nn.Module):\n",
    "    def __init__(self, in_dim, hidden_dim_1, hidden_dim_2, out_dim=2):\n",
    "        super(MLP, self).__init__()\n",
    "\n",
    "        self.in_dim = in_dim\n",
    "        self.hidden_dim_1 = hidden_dim_1\n",
    "        self.hidden_dim_2 = hidden_dim_2\n",
    "        self.out_dim = out_dim\n",
    "\n",
    "        ## 1st hidden layer\n",
    "        self.linear_1 = nn.Linear(self.in_dim, self.hidden_dim_1)\n",
    "        self.linear_1.weight.detach().normal_(0.0, 0.1)\n",
    "        self.linear_1.bias.detach().zero_()\n",
    "        self.linear_1_bn = nn.BatchNorm1d(self.hidden_dim_1, momentum=0.6)\n",
    "\n",
    "        ## 2nd hidden layer\n",
    "        self.linear_2 = nn.Linear(self.hidden_dim_1, self.hidden_dim_2)\n",
    "        self.linear_2.weight.detach().normal_(0.0, 0.1)\n",
    "        self.linear_2.bias.detach().zero_()\n",
    "        self.linear_2_bn = nn.BatchNorm1d(self.hidden_dim_2, momentum=0.6)\n",
    "\n",
    "        ## Out layer\n",
    "        self.linear_out = nn.Linear(self.hidden_dim_2, self.out_dim)\n",
    "        self.linear_out.weight.detach().normal_(0.0, 0.1)\n",
    "        self.linear_out.bias.detach().zero_()\n",
    "\n",
    "    def forward(self, x):\n",
    "        out = self.linear_1(x)\n",
    "        out = self.linear_1_bn(out)\n",
    "        out = F.relu(out)\n",
    "\n",
    "        out = self.linear_2(out)\n",
    "        out = self.linear_2_bn(out)\n",
    "        out = F.relu(out)\n",
    "        out = F.dropout(out, p=0.175, training=self.training)\n",
    "\n",
    "        out = self.linear_out(out)\n",
    "        return out\n"
   ]
  },
  {
   "cell_type": "markdown",
   "id": "fb697aae-fde5-41aa-8ea1-036c000c5438",
   "metadata": {
    "jp-MarkdownHeadingCollapsed": true,
    "tags": []
   },
   "source": [
    "## With hidden states"
   ]
  },
  {
   "cell_type": "code",
   "execution_count": 124,
   "id": "ef4109e8-9eed-49f0-ba06-2db1f08da50b",
   "metadata": {},
   "outputs": [
    {
     "data": {
      "text/plain": [
       "((13495,), (2122,), (3418,))"
      ]
     },
     "execution_count": 124,
     "metadata": {},
     "output_type": "execute_result"
    }
   ],
   "source": [
    "y_train.shape, y_val.shape, y_test.shape"
   ]
  },
  {
   "cell_type": "code",
   "execution_count": 125,
   "id": "9a4f76d9-9144-488a-b005-ade30ba53e71",
   "metadata": {},
   "outputs": [
    {
     "data": {
      "text/plain": [
       "(19035,)"
      ]
     },
     "execution_count": 125,
     "metadata": {},
     "output_type": "execute_result"
    }
   ],
   "source": [
    "y = np.hstack((y_train, y_val, y_test))\n",
    "y.shape"
   ]
  },
  {
   "cell_type": "code",
   "execution_count": 135,
   "id": "453e7159-1483-457b-b7a5-5874f4fe22c0",
   "metadata": {},
   "outputs": [
    {
     "name": "stdout",
     "output_type": "stream",
     "text": [
      "tensor([2.4577, 1.0198, 0.3337, 3.8571, 2.8013])\n"
     ]
    }
   ],
   "source": [
    "class_weights = class_weight.compute_class_weight('balanced', classes=np.unique(y), y=y)\n",
    "class_weights = t.tensor(class_weights, dtype=t.float)\n",
    " \n",
    "print(class_weights)"
   ]
  },
  {
   "cell_type": "code",
   "execution_count": 137,
   "id": "8b76170b-6ac7-4fed-bd95-59ab6158c2da",
   "metadata": {},
   "outputs": [
    {
     "name": "stdout",
     "output_type": "stream",
     "text": [
      "MLP(\n",
      "  (linear_1): Linear(in_features=6144, out_features=3000, bias=True)\n",
      "  (linear_1_bn): BatchNorm1d(3000, eps=1e-05, momentum=0.6, affine=True, track_running_stats=True)\n",
      "  (linear_2): Linear(in_features=3000, out_features=1000, bias=True)\n",
      "  (linear_2_bn): BatchNorm1d(1000, eps=1e-05, momentum=0.6, affine=True, track_running_stats=True)\n",
      "  (linear_out): Linear(in_features=1000, out_features=5, bias=True)\n",
      ")\n",
      "Train: loss: 2.3030495519321676\n",
      "Test: loss: 1.6950796106282402, accuracy: 27.141544117647058%, f-score: 0.32084446657483884\n",
      "Validation loss decreased (inf --> 1.695080).  Saving model ...\n",
      "Train: loss: 1.8742342650607864\n",
      "Test: loss: 2.186129562995013, accuracy: 27.408088235294116%, f-score: 0.3025567829283217\n",
      "EarlyStopping counter: 1 out of 20\n",
      "Train: loss: 1.7370360010608112\n",
      "Test: loss: 1.8635990339166977, accuracy: 19.770220588235293%, f-score: 0.22452692506057004\n",
      "EarlyStopping counter: 2 out of 20\n",
      "Train: loss: 1.7203147049763756\n",
      "Test: loss: 1.7021770862972034, accuracy: 39.466911764705884%, f-score: 0.4021205103908765\n",
      "EarlyStopping counter: 3 out of 20\n",
      "Train: loss: 1.5982302054409732\n",
      "Test: loss: 1.8052419529241674, accuracy: 25.03676470588235%, f-score: 0.29348674876541675\n",
      "EarlyStopping counter: 4 out of 20\n",
      "Train: loss: 1.5315574577069395\n",
      "Test: loss: 1.8472001973320455, accuracy: 26.44301470588235%, f-score: 0.2933954964464027\n",
      "EarlyStopping counter: 5 out of 20\n",
      "Train: loss: 1.4716351150901397\n",
      "Test: loss: 1.7850582634701448, accuracy: 25.0%, f-score: 0.2863963081467855\n",
      "EarlyStopping counter: 6 out of 20\n",
      "Train: loss: 1.3986542397200779\n",
      "Test: loss: 1.9697912019841812, accuracy: 31.268382352941178%, f-score: 0.35088475522835544\n",
      "EarlyStopping counter: 7 out of 20\n",
      "Train: loss: 1.3819245941831038\n",
      "Test: loss: 2.0145688547807583, accuracy: 24.954044117647058%, f-score: 0.2893269468231371\n",
      "EarlyStopping counter: 8 out of 20\n",
      "Train: loss: 1.3352474310386802\n",
      "Test: loss: 2.1781392167596256, accuracy: 22.977941176470587%, f-score: 0.28081366686262255\n",
      "EarlyStopping counter: 9 out of 20\n",
      "Train: loss: 1.2495669211256561\n",
      "Test: loss: 2.349568594904507, accuracy: 23.38235294117647%, f-score: 0.26689943640297864\n",
      "EarlyStopping counter: 10 out of 20\n",
      "Train: loss: 1.2244237528593054\n",
      "Test: loss: 2.60820667182698, accuracy: 27.03125%, f-score: 0.2808546315018297\n",
      "EarlyStopping counter: 11 out of 20\n",
      "Train: loss: 1.1647405494445873\n",
      "Test: loss: 2.2084821041892555, accuracy: 30.90073529411765%, f-score: 0.34870045496488866\n",
      "EarlyStopping counter: 12 out of 20\n",
      "Train: loss: 1.1299210964785933\n",
      "Test: loss: 2.151706849827486, accuracy: 20.542279411764707%, f-score: 0.2274096864787811\n",
      "EarlyStopping counter: 13 out of 20\n",
      "Train: loss: 1.11879490789079\n",
      "Test: loss: 2.343090940924252, accuracy: 29.172794117647054%, f-score: 0.3190732971706948\n",
      "EarlyStopping counter: 14 out of 20\n",
      "Train: loss: 1.0993576874665174\n",
      "Test: loss: 2.184035227579229, accuracy: 28.96139705882353%, f-score: 0.3358851748832714\n",
      "EarlyStopping counter: 15 out of 20\n",
      "Train: loss: 1.1547455030594957\n",
      "Test: loss: 2.1689239004079033, accuracy: 34.650735294117645%, f-score: 0.3779355728929974\n",
      "EarlyStopping counter: 16 out of 20\n",
      "Train: loss: 1.094532257290248\n",
      "Test: loss: 2.725539835060344, accuracy: 22.90441176470588%, f-score: 0.25459138133113557\n",
      "EarlyStopping counter: 17 out of 20\n",
      "Train: loss: 1.1220391997228867\n",
      "Test: loss: 2.4834021435064426, accuracy: 31.856617647058826%, f-score: 0.35924382607896393\n",
      "EarlyStopping counter: 18 out of 20\n",
      "Train: loss: 1.0519095162079797\n",
      "Test: loss: 2.3409710982266594, accuracy: 31.60845588235294%, f-score: 0.355589240069938\n",
      "EarlyStopping counter: 19 out of 20\n",
      "Train: loss: 1.103018822545689\n",
      "Test: loss: 2.1515861995079937, accuracy: 30.762867647058822%, f-score: 0.3437505080041838\n",
      "EarlyStopping counter: 20 out of 20\n",
      "EarlyStopping counter is higher than patience\n",
      "Early stopping has been reached\n"
     ]
    }
   ],
   "source": [
    "model = MLP(6144, 3000, 1000, 5)\n",
    "#model = MLP()\n",
    "#model = MLP(3072, 3000, 1000, 7)\n",
    "\n",
    "print(model)\n",
    "\n",
    "criterion = nn.CrossEntropyLoss(weight=class_weights,reduction='mean')\n",
    "#ce_loss = nn.functional.cross_entropy(outputs, targets, reduction='none') # important to add reduction='none' to keep per-batch-item loss\n",
    "#pt = t.exp(-ce_loss)\n",
    "#focal_loss = (alpha * (1-pt)**gamma * ce_loss).mean() # mean over the batch\n",
    "#criterion = focal_loss\n",
    "\n",
    "# set up the optimizer\n",
    "optimizer = Adam(model.parameters(), lr=0.001, weight_decay=0)\n",
    "\n",
    "trainer = Trainer(model, \"w2v\", \"aibo\", criterion, optimizer, train_loader, val_loader, test_loader, \n",
    "                  cuda=t.cuda.is_available(),\\\n",
    "                  early_stopping_patience=20)\n",
    "\n",
    "# go, go, go... call fit on trainer\n",
    "res = trainer.fit(100)"
   ]
  },
  {
   "cell_type": "code",
   "execution_count": 145,
   "id": "aff27a6f-c643-4223-bf6d-08eb6c84ff36",
   "metadata": {},
   "outputs": [
    {
     "data": {
      "text/plain": [
       "21"
      ]
     },
     "execution_count": 145,
     "metadata": {},
     "output_type": "execute_result"
    }
   ],
   "source": [
    "len(res[1])"
   ]
  },
  {
   "cell_type": "code",
   "execution_count": 140,
   "id": "b3b2a225-a20a-4b61-85fe-cd4fb584bb0d",
   "metadata": {},
   "outputs": [
    {
     "data": {
      "image/png": "[encoded data removed]",
      "text/plain": [
       "<Figure size 640x480 with 1 Axes>"
      ]
     },
     "metadata": {},
     "output_type": "display_data"
    }
   ],
   "source": [
    "# plot the results\n",
    "plt.plot(np.arange(len(res[0])), res[0], label='train loss')\n",
    "plt.plot(np.arange(len(res[1])), res[1], label='val loss')\n",
    "plt.yscale('log')\n",
    "plt.legend()\n",
    "plt.show()\n",
    "plt.savefig('{}_losses_{}_hid_states.png'.format(\"aibo\", \"w2v\"))"
   ]
  },
  {
   "cell_type": "code",
   "execution_count": 138,
   "id": "f013b8f3-d3ef-49ba-bc35-3a88a1cb94f8",
   "metadata": {},
   "outputs": [
    {
     "name": "stdout",
     "output_type": "stream",
     "text": [
      "Starting testing\n",
      "Test: loss: 2.1515861995079937, accuracy: 30.762867647058822%, f-score: 0.3437505080041838\n"
     ]
    }
   ],
   "source": [
    "print(\"Starting testing\")\n",
    "test_res = trainer.test()"
   ]
  },
  {
   "cell_type": "markdown",
   "id": "1fc43002-51ee-4c45-a604-a44e05fad632",
   "metadata": {},
   "source": [
    "## With extracted features"
   ]
  },
  {
   "cell_type": "code",
   "execution_count": 41,
   "id": "f82afca3-0f2a-477e-b830-5a560118867f",
   "metadata": {},
   "outputs": [],
   "source": [
    "#x_train = np.load(PATH + model_option + \"_aibo_ft_train.npy\")\n",
    "#x_val = np.load(PATH + model_option + \"_aibo_ft_val.npy\")\n",
    "#x_test = np.load(PATH + model_option + \"_aibo_ft_test.npy\")\n",
    "\n",
    "#y_train = np.load(PATH + model_option + \"_aibo_lb_train.npy\", allow_pickle=True)\n",
    "#y_val = np.load(PATH + model_option + \"_aibo_lb_val.npy\", allow_pickle=True)\n",
    "#y_test = np.load(PATH + model_option + \"_aibo_lb_test.npy\", allow_pickle=True)"
   ]
  },
  {
   "cell_type": "code",
   "execution_count": 17,
   "id": "21ad4d5a-2602-4851-aae6-c4300e581020",
   "metadata": {},
   "outputs": [
    {
     "name": "stdout",
     "output_type": "stream",
     "text": [
      "(12284,) (2261,) (3671,)\n",
      "(12284, 3072) (2261, 3072) (3671, 3072)\n"
     ]
    }
   ],
   "source": [
    "print(y_train.shape, y_val.shape, y_test.shape)       # (4696,) (935,) (1407,)\n",
    "print(x_train.shape, x_val.shape, x_test.shape)       # (4696, 3072) (935, 3072) (1407, 3072)\n",
    "\n",
    "train_dataset = TensorDataset(t.tensor(x_train), t.tensor(y_train))\n",
    "# train_dataset = TensorDataset(torch.from_numpy(x_train_eval).float(), torch.from_numpy(y_train_eval).float())\n",
    "val_dataset = TensorDataset(t.tensor(x_val), t.tensor(y_val))\n",
    "test_dataset = TensorDataset(t.tensor(x_test), t.tensor(y_test))\n",
    "\n",
    "train_loader = DataLoader(dataset=train_dataset, batch_size=BATCH_SIZE, shuffle=True) # num_workers\n",
    "val_loader = DataLoader(dataset=val_dataset, batch_size=BATCH_SIZE, shuffle=False)\n",
    "test_loader = DataLoader(dataset=test_dataset, batch_size=BATCH_SIZE, shuffle=False)"
   ]
  },
  {
   "cell_type": "code",
   "execution_count": 18,
   "id": "bda3b1aa-f871-445d-ab84-8297f3b228e9",
   "metadata": {},
   "outputs": [
    {
     "data": {
      "text/plain": [
       "((12284,), (2261,))"
      ]
     },
     "execution_count": 18,
     "metadata": {},
     "output_type": "execute_result"
    }
   ],
   "source": [
    "y_train.shape, y_val.shape"
   ]
  },
  {
   "cell_type": "code",
   "execution_count": 19,
   "id": "575832c3-10a4-4ec6-81c1-d9faf1e4b62e",
   "metadata": {},
   "outputs": [
    {
     "data": {
      "text/plain": [
       "(14545,)"
      ]
     },
     "execution_count": 19,
     "metadata": {},
     "output_type": "execute_result"
    }
   ],
   "source": [
    "y = np.hstack((y_train, y_val))\n",
    "y.shape"
   ]
  },
  {
   "cell_type": "code",
   "execution_count": 20,
   "id": "1384aa76-6cfc-4c41-8f8b-ce6af24d2207",
   "metadata": {},
   "outputs": [
    {
     "name": "stdout",
     "output_type": "stream",
     "text": [
      "tensor([2.3612, 0.9966, 0.3321, 4.1796, 3.1013])\n"
     ]
    }
   ],
   "source": [
    "class_weights = class_weight.compute_class_weight('balanced', classes=np.unique(y), y=y)\n",
    "class_weights = t.tensor(class_weights, dtype=t.float)\n",
    " \n",
    "print(class_weights)"
   ]
  },
  {
   "cell_type": "code",
   "execution_count": 22,
   "id": "a9bf0e1b-ddde-4ec3-8f95-4ec05bd2a0c9",
   "metadata": {},
   "outputs": [
    {
     "name": "stdout",
     "output_type": "stream",
     "text": [
      "MLP(\n",
      "  (linear_1): Linear(in_features=3072, out_features=3000, bias=True)\n",
      "  (linear_1_bn): BatchNorm1d(3000, eps=1e-05, momentum=0.6, affine=True, track_running_stats=True)\n",
      "  (linear_2): Linear(in_features=3000, out_features=1000, bias=True)\n",
      "  (linear_2_bn): BatchNorm1d(1000, eps=1e-05, momentum=0.6, affine=True, track_running_stats=True)\n",
      "  (linear_out): Linear(in_features=1000, out_features=5, bias=True)\n",
      ")\n",
      "Train: loss: 2.290297885114948\n",
      "Validation: loss: 2.1671919690238104, accuracy: 29.96858465608466%, f-score: 0.32642930432847767\n",
      "Validation loss decreased (inf --> 2.167192).  Saving model ...\n",
      "Train: loss: 0.8501620713310937\n",
      "Validation: loss: 2.018209692504671, accuracy: 49.19808201058202%, f-score: 0.513309874061246\n",
      "Validation loss decreased (2.167192 --> 2.018210).  Saving model ...\n",
      "Train: loss: 0.4838210712186992\n",
      "Validation: loss: 2.3411444193787045, accuracy: 43.9442791005291%, f-score: 0.46432541637475466\n",
      "EarlyStopping counter: 1 out of 20\n",
      "Train: loss: 0.3003737469358991\n",
      "Validation: loss: 2.6334876683023243, accuracy: 47.197420634920626%, f-score: 0.4893428847201654\n",
      "EarlyStopping counter: 2 out of 20\n",
      "Train: loss: 0.2168555868556723\n",
      "Validation: loss: 2.810804761118359, accuracy: 47.11681547619048%, f-score: 0.49273596159316174\n",
      "EarlyStopping counter: 3 out of 20\n",
      "Train: loss: 0.15135505822642395\n",
      "Validation: loss: 2.9572512408097587, accuracy: 51.27728174603175%, f-score: 0.5159721976623122\n",
      "EarlyStopping counter: 4 out of 20\n",
      "Train: loss: 0.14346144862550622\n",
      "Validation: loss: 2.9322772887017994, accuracy: 46.11235119047619%, f-score: 0.48334824509487245\n",
      "EarlyStopping counter: 5 out of 20\n",
      "Train: loss: 0.12566040184659263\n",
      "Validation: loss: 3.1932009557882943, accuracy: 51.01893187830687%, f-score: 0.5156324150296219\n",
      "EarlyStopping counter: 6 out of 20\n",
      "Train: loss: 0.0820689333777409\n",
      "Validation: loss: 3.373201757669449, accuracy: 54.96445105820106%, f-score: 0.5357574949352316\n",
      "EarlyStopping counter: 7 out of 20\n",
      "Train: loss: 0.08628982582013123\n",
      "Validation: loss: 3.9580786691771612, accuracy: 54.536623677248684%, f-score: 0.5426731579263397\n",
      "EarlyStopping counter: 8 out of 20\n",
      "Train: loss: 0.12048862304072827\n",
      "Validation: loss: 4.3852967123190565, accuracy: 51.96552579365079%, f-score: 0.49781458134240975\n",
      "EarlyStopping counter: 9 out of 20\n",
      "Train: loss: 0.32668375317007303\n",
      "Validation: loss: 3.8242450025346546, accuracy: 46.72205687830687%, f-score: 0.4884499161633925\n",
      "EarlyStopping counter: 10 out of 20\n",
      "Train: loss: 0.3076694765283416\n",
      "Validation: loss: 3.742275661892361, accuracy: 44.85987103174603%, f-score: 0.4753429685962052\n",
      "EarlyStopping counter: 11 out of 20\n",
      "Train: loss: 0.10443865498139833\n",
      "Validation: loss: 3.3912685877747006, accuracy: 47.333829365079374%, f-score: 0.49845797167270334\n",
      "EarlyStopping counter: 12 out of 20\n",
      "Train: loss: 0.04827525276535501\n",
      "Validation: loss: 3.855007472965452, accuracy: 51.49636243386243%, f-score: 0.5249915343951485\n",
      "EarlyStopping counter: 13 out of 20\n",
      "Train: loss: 0.02743418228662146\n",
      "Validation: loss: 4.595553795496623, accuracy: 57.225529100529094%, f-score: 0.534942656259179\n",
      "EarlyStopping counter: 14 out of 20\n",
      "Train: loss: 0.016090171580193175\n",
      "Validation: loss: 4.680288877752092, accuracy: 56.53315145502646%, f-score: 0.5324846538657069\n",
      "EarlyStopping counter: 15 out of 20\n",
      "Train: loss: 0.011477733385011865\n",
      "Validation: loss: 4.176788098282284, accuracy: 56.88450727513228%, f-score: 0.5434709047518743\n",
      "EarlyStopping counter: 16 out of 20\n",
      "Train: loss: 0.005991040939079539\n",
      "Validation: loss: 4.316865189207925, accuracy: 54.19146825396825%, f-score: 0.5361406167348264\n",
      "EarlyStopping counter: 17 out of 20\n",
      "Train: loss: 0.00500186699415887\n",
      "Validation: loss: 3.9914088514116077, accuracy: 56.78736772486772%, f-score: 0.530793561436272\n",
      "EarlyStopping counter: 18 out of 20\n",
      "Train: loss: 0.004653568374124006\n",
      "Validation: loss: 4.769840353065067, accuracy: 56.190062830687836%, f-score: 0.5414742598249518\n",
      "EarlyStopping counter: 19 out of 20\n",
      "Train: loss: 0.004447674489711062\n",
      "Validation: loss: 5.090105202462938, accuracy: 57.31440145502646%, f-score: 0.5407790065323126\n",
      "EarlyStopping counter: 20 out of 20\n",
      "EarlyStopping counter is higher than patience\n",
      "Early stopping has been reached\n"
     ]
    }
   ],
   "source": [
    "#model = MLP(6144, 3000, 1000, 5)\n",
    "#model = SimpleMLP()\n",
    "model = MLP(3072, 3000, 1000, 5)\n",
    "\n",
    "print(model)\n",
    "\n",
    "#criterion = nn.CrossEntropyLoss()\n",
    "criterion = nn.CrossEntropyLoss(weight=class_weights,reduction='mean')\n",
    "\n",
    "# set up the optimizer\n",
    "optimizer = Adam(model.parameters(), lr=0.001, weight_decay=0)\n",
    "\n",
    "trainer = Trainer(model, \"w2v\", \"aibo\", criterion, optimizer, train_loader, val_loader, test_loader, \n",
    "                  cuda=t.cuda.is_available(),\\\n",
    "                  early_stopping_patience=20)\n",
    "\n",
    "# go, go, go... call fit on trainer\n",
    "res = trainer.fit(100)"
   ]
  },
  {
   "cell_type": "code",
   "execution_count": 23,
   "id": "020b7af2-6371-4c32-950b-99f43b02b410",
   "metadata": {},
   "outputs": [
    {
     "data": {
      "image/png": "[encoded data removed]",
      "text/plain": [
       "<Figure size 640x480 with 1 Axes>"
      ]
     },
     "metadata": {},
     "output_type": "display_data"
    }
   ],
   "source": [
    "# plot the results\n",
    "plt.plot(np.arange(len(res[0])), res[0], label='train loss')\n",
    "plt.plot(np.arange(len(res[1])), res[1], label='val loss')\n",
    "plt.yscale('log')\n",
    "plt.legend()\n",
    "plt.show()\n",
    "plt.savefig('res/{}_losses_{}_extracted_features.png'.format(\"aibo\", \"w2v\"))"
   ]
  },
  {
   "cell_type": "code",
   "execution_count": 24,
   "id": "574aa1eb-7f2c-4b11-8101-4ad6de33f8af",
   "metadata": {},
   "outputs": [
    {
     "name": "stdout",
     "output_type": "stream",
     "text": [
      "Starting testing\n",
      "Test: loss: 4.645706676203629, accuracy: 58.91585457271364%, f-score: 0.5583919277829076\n"
     ]
    }
   ],
   "source": [
    "print(\"Starting testing\")\n",
    "test_res = trainer.test()"
   ]
  },
  {
   "cell_type": "code",
   "execution_count": 25,
   "id": "7cefd916-568d-4701-b733-0d10b2253071",
   "metadata": {},
   "outputs": [
    {
     "name": "stdout",
     "output_type": "stream",
     "text": [
      "Test: loss: 4.645706676203629, accuracy: 58.91585457271364%, f-score: 0.5583919277829076\n"
     ]
    }
   ],
   "source": [
    "test_res, pred = trainer.test()"
   ]
  },
  {
   "cell_type": "code",
   "execution_count": 26,
   "id": "87321aad-db5b-4a29-9f5f-0a2385c0e314",
   "metadata": {},
   "outputs": [],
   "source": [
    "model_version = 'SimpleMLP'\n",
    "#model_version = 'MLP'"
   ]
  },
  {
   "cell_type": "code",
   "execution_count": 27,
   "id": "2e4cba88-f19c-4b11-80d5-df1c9a86d43a",
   "metadata": {},
   "outputs": [],
   "source": [
    "def plot_confusion_matrix(cm, classes, normalize=False,\n",
    "                          title='Confusion matrix for ' + model_version,\n",
    "                          cmap=plt.cm.RdPu):\n",
    "    \"\"\"\n",
    "    This function prints and plots the confusion matrix.\n",
    "    Normalization can be applied by setting `normalize=True`.\n",
    "    \"\"\"\n",
    "    # plt.figure(figsize=(8,8))\n",
    "    plt.imshow(cm, interpolation='nearest', cmap=cmap)\n",
    "    plt.title(title)\n",
    "    plt.colorbar()\n",
    "    tick_marks = np.arange(len(classes))\n",
    "    plt.xticks(tick_marks, classes, rotation=45)\n",
    "    plt.yticks(tick_marks, classes)\n",
    "\n",
    "    #if normalize:\n",
    "    #    cm = cm.astype('float') / cm.sum(axis=1)[:, np.newaxis]\n",
    "     #   print(\"Normalized confusion matrix\")\n",
    "    #else:\n",
    "     #   print('Confusion matrix, without normalization')\n",
    "    \n",
    "    #print('Confusion matrix')\n",
    "    #print(cm)\n",
    "\n",
    "    thresh = cm.max() / 2.\n",
    "    for i, j in itertools.product(range(cm.shape[0]), range(cm.shape[1])):\n",
    "        plt.text(j, i, cm[i, j],\n",
    "                 horizontalalignment=\"center\",\n",
    "                 color=\"white\" if cm[i, j] > thresh else \"black\")\n",
    "\n",
    "    plt.tight_layout()\n",
    "    plt.ylabel('True label')\n",
    "    plt.xlabel('Predicted label')\n",
    "    plt.savefig('res/conf_matrix_{}.png'.format(\"aibo\"))\n",
    "    plt.show()\n",
    "    return cm\n",
    "    \n",
    "def one_hot_encoder(true_labels, num_records, num_classes):\n",
    "    temp = np.array(true_labels[:num_records])\n",
    "    true_labels = np.zeros((num_records, num_classes))\n",
    "    true_labels[np.arange(num_records), temp] = 1\n",
    "    return true_labels\n",
    "\n",
    "def display_results(y_test, pred_probs):\n",
    "    #pred = np.argmax(pred_probs, axis=-1)\n",
    "    #one_hot_true = one_hot_encoder(y_test, len(pred), len(CLASS_TO_ID))\n",
    "    one_hot_true = one_hot_encoder(y_test, len(pred_probs), len(CLASS_TO_ID))\n",
    "    acc = 'Test Set Accuracy =  {0:.3f}'.format(accuracy_score(y_test, pred_probs))\n",
    "    fscore = 'Test Set F-score =  {0:.3f}'.format(f1_score(y_test, pred_probs, average='macro'))\n",
    "    prec = 'Test Set Precision =  {0:.3f}'.format(precision_score(y_test, pred_probs, average='macro'))\n",
    "    rec = 'Test Set Recall =  {0:.3f}'.format(recall_score(y_test, pred_probs, average='macro'))\n",
    "    metrics = [acc, fscore, prec, rec]\n",
    "    #if cm:\n",
    "    cr = classification_report(y_true=y_test, y_pred=pred_probs, target_names=w2v_classnames)\n",
    "    cm = plot_confusion_matrix(confusion_matrix(y_test, pred), classes=list(ID_TO_CLASS.values()))\n",
    "    f = open('res/report_{}.txt'.format('aibo'), 'w')\n",
    "    f.write('RESULTS\\n\\nMetrics\\n\\n{}\\n\\nClassification Report\\n\\n{}\\n\\nConfusion Matrix\\n\\n{}\\n'.format(metrics, cr, cm))\n",
    "    f.close()\n",
    "    print(cr)\n",
    "    plot_confusion_matrix(confusion_matrix(y_test, pred), classes=list(ID_TO_CLASS.values()))"
   ]
  },
  {
   "cell_type": "code",
   "execution_count": 28,
   "id": "c086bc7e-3e5a-477e-90a4-00eacdd73ffb",
   "metadata": {},
   "outputs": [
    {
     "data": {
      "image/png": "[encoded data removed]",
      "text/plain": [
       "<Figure size 640x480 with 2 Axes>"
      ]
     },
     "metadata": {},
     "output_type": "display_data"
    },
    {
     "name": "stdout",
     "output_type": "stream",
     "text": [
      "              precision    recall  f1-score   support\n",
      "\n",
      "           A       0.27      0.46      0.34       260\n",
      "           E       0.43      0.21      0.28       682\n",
      "           N       0.69      0.82      0.75      2207\n",
      "           P       0.40      0.23      0.29       193\n",
      "           R       0.24      0.11      0.15       329\n",
      "\n",
      "    accuracy                           0.59      3671\n",
      "   macro avg       0.41      0.37      0.36      3671\n",
      "weighted avg       0.56      0.59      0.56      3671\n",
      "\n"
     ]
    },
    {
     "data": {
      "image/png": "[encoded data removed]",
      "text/plain": [
       "<Figure size 640x480 with 2 Axes>"
      ]
     },
     "metadata": {},
     "output_type": "display_data"
    }
   ],
   "source": [
    "display_results(y_test, pred)"
   ]
  },
  {
   "cell_type": "code",
   "execution_count": null,
   "id": "d6b36faa-7283-4500-8899-456018a0bf99",
   "metadata": {},
   "outputs": [],
   "source": []
  }
 ],
 "metadata": {
  "kernelspec": {
   "display_name": "env:Python",
   "language": "python",
   "name": "conda-env-env-py"
  },
  "language_info": {
   "codemirror_mode": {
    "name": "ipython",
    "version": 3
   },
   "file_extension": ".py",
   "mimetype": "text/x-python",
   "name": "python",
   "nbconvert_exporter": "python",
   "pygments_lexer": "ipython3",
   "version": "3.8.12"
  }
 },
 "nbformat": 4,
 "nbformat_minor": 5
}
