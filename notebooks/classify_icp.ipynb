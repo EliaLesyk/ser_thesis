{
 "cells": [
  {
   "cell_type": "code",
   "execution_count": 1,
   "id": "fe16bdba-50af-46a9-8ae4-b29ea35cd3bd",
   "metadata": {},
   "outputs": [],
   "source": [
    "import numpy as np\n",
    "import torch as t\n",
    "import torch.nn.functional as F\n",
    "import os\n",
    "import os.path\n",
    "import itertools\n",
    "\n",
    "from tqdm.autonotebook import tqdm\n",
    "from time import gmtime, strftime, time\n",
    "from matplotlib import pyplot as plt\n",
    "from torch import nn\n",
    "from torch.optim import Adam\n",
    "# from torchvision import datasets, transforms\n",
    "from torch.utils.data import DataLoader, TensorDataset\n",
    "from sklearn.metrics import confusion_matrix, f1_score, accuracy_score, precision_score, recall_score, classification_report\n",
    "from sklearn.utils import class_weight\n",
    "# from tqdm.autonotebook import tqdm"
   ]
  },
  {
   "cell_type": "code",
   "execution_count": 2,
   "id": "10bb16c1-9288-4056-9605-bb936d882b09",
   "metadata": {},
   "outputs": [
    {
     "data": {
      "text/plain": [
       "[0, 1, 2, 3, 4]"
      ]
     },
     "execution_count": 2,
     "metadata": {},
     "output_type": "execute_result"
    }
   ],
   "source": [
    "#ft_df = np.load(\"data/AIBO/w2v/\" + \"aibo_ft.npy\")\n",
    "# hs_df = np.load(\"/Users/el/embrace/data/data_wav2vec2/icp/\" + \"icp_hs.npy\")\n",
    "#labels_df = np.load(\"data/AIBO/w2v/\" + \"aibo_labels.npy\")\n",
    "\n",
    "#labels_dict = {'ang': 1, 'exc': 3, 'fea': 2, 'fru': 4, 'hap': 3, 'neu': 0, 'oth': 6, 'sad': 4, 'sur': 5, 'xxx': 6}\n",
    "USED_CLASSES = [\"neu\", \"hap\", \"sad\", \"ang\", \"fru\", \"exc\"]\n",
    "CLASS_TO_ID = {\"neu\": 0, \"hap\": 1, \"sad\": 2, \"fru\": 3, \"ang\": 4}\n",
    "#labels_dict = {'A': 0, 'E': 1, 'N': 2, 'P': 3, 'R': 4}\n",
    "ID_TO_CLASS = {v: k for k, v in CLASS_TO_ID.items()}\n",
    "w2v_classes = list(ID_TO_CLASS.keys())\n",
    "w2v_classes\n",
    "\n",
    "#lb_df = np.array([labels_dict[letter] for letter in labels_df])"
   ]
  },
  {
   "cell_type": "code",
   "execution_count": 3,
   "id": "8b160f9b-4a25-4a76-b3e4-8aee6dfffcf9",
   "metadata": {},
   "outputs": [],
   "source": [
    "w2v_classnames = list(CLASS_TO_ID.keys())"
   ]
  },
  {
   "cell_type": "code",
   "execution_count": 4,
   "id": "453c5fd5-0993-4063-97d3-61842440af61",
   "metadata": {},
   "outputs": [],
   "source": [
    "BATCH_SIZE = 64\n",
    "EPOCHS = 201"
   ]
  },
  {
   "cell_type": "code",
   "execution_count": 5,
   "id": "20867ce4-d824-457c-864f-e92739a4a720",
   "metadata": {},
   "outputs": [],
   "source": [
    "#model_option = 'xvec'\n",
    "#model_option = 'base'\n",
    "model_option = 'xlsr'\n",
    "#model_option = 'xlsr-de'"
   ]
  },
  {
   "cell_type": "code",
   "execution_count": 6,
   "id": "3a623a4f-305f-49ba-8bfa-c1a6ce2bb212",
   "metadata": {},
   "outputs": [],
   "source": [
    "PATH = \"data/IEMOCAP/wav2vec/\"\n",
    "\n",
    "#x_train = np.load(PATH + model_option + \"_icp_hs_train.npy\")\n",
    "#x_val = np.load(PATH + model_option + \"_icp_hs_val.npy\")\n",
    "#x_test = np.load(PATH + model_option + \"_icp_hs_test.npy\")\n",
    "\n",
    "x_train = np.load(PATH + model_option + \"_icp_ft_train.npy\")\n",
    "x_val = np.load(PATH + model_option + \"_icp_ft_val.npy\")\n",
    "x_test = np.load(PATH + model_option + \"_icp_ft_test.npy\")"
   ]
  },
  {
   "cell_type": "code",
   "execution_count": 7,
   "id": "fd7ab4df-c235-4479-b8a9-b9a626f662da",
   "metadata": {},
   "outputs": [
    {
     "name": "stdout",
     "output_type": "stream",
     "text": [
      "(4520,) (1348,) (1512,)\n",
      "(4520, 3072) (1348, 3072) (1512, 3072)\n"
     ]
    }
   ],
   "source": [
    "y_train = np.load(PATH + model_option + \"_icp_lb_train.npy\", allow_pickle=True)\n",
    "y_val = np.load(PATH + model_option + \"_icp_lb_val.npy\", allow_pickle=True)\n",
    "y_test = np.load(PATH + model_option + \"_icp_lb_test.npy\", allow_pickle=True)\n",
    "\n",
    "print(y_train.shape, y_val.shape, y_test.shape)       # (4696,) (935,) (1407,)\n",
    "print(x_train.shape, x_val.shape, x_test.shape)       # (4696, 3072) (935, 3072) (1407, 3072)"
   ]
  },
  {
   "cell_type": "code",
   "execution_count": 8,
   "id": "da70bdff-b51b-445e-8c80-34f65b84efe5",
   "metadata": {},
   "outputs": [],
   "source": [
    "train_dataset = TensorDataset(t.tensor(x_train), t.from_numpy(y_train))\n",
    "# train_dataset = TensorDataset(torch.from_numpy(x_train_eval).float(), torch.from_numpy(y_train_eval).float())\n",
    "val_dataset = TensorDataset(t.tensor(x_val), t.from_numpy(y_val))\n",
    "test_dataset = TensorDataset(t.tensor(x_test), t.from_numpy(y_test))\n",
    "\n",
    "train_loader = DataLoader(dataset=train_dataset, batch_size=BATCH_SIZE, shuffle=True)\n",
    "val_loader = DataLoader(dataset=val_dataset, batch_size=BATCH_SIZE, shuffle=False)\n",
    "test_loader = DataLoader(dataset=test_dataset, batch_size=BATCH_SIZE, shuffle=False)"
   ]
  },
  {
   "cell_type": "code",
   "execution_count": 9,
   "id": "7993694b-259e-4e5d-a65a-4fc53f3f08df",
   "metadata": {},
   "outputs": [],
   "source": [
    "#np.unique(y_train)"
   ]
  },
  {
   "cell_type": "code",
   "execution_count": 10,
   "id": "b36d38f6-071b-4e7d-8cf7-7a4a72f2b9ea",
   "metadata": {},
   "outputs": [],
   "source": [
    "#np.unique(y_test)"
   ]
  },
  {
   "cell_type": "code",
   "execution_count": 11,
   "id": "a64f31b3-6757-454f-aef3-fa076dc3fd84",
   "metadata": {},
   "outputs": [],
   "source": [
    "#type(y_test[3])"
   ]
  },
  {
   "cell_type": "code",
   "execution_count": 12,
   "id": "c9a4edfa-e2e5-480e-82b0-4954bd187c0d",
   "metadata": {},
   "outputs": [],
   "source": [
    "#my_x = ft_df\n",
    "#my_y = lb_df\n",
    "\n",
    "#split_index = int(my_y.shape[0]*0.8)\n",
    "#print(split_index)\n",
    "\n",
    "#all_indexes = list(range(my_x.shape[0]))\n",
    "#test_indexes = all_indexes[(split_index + 1):]\n",
    "#x_test = my_x[test_indexes]\n",
    "#y_test = my_y[test_indexes]\n",
    "\n",
    "#train_indexes = all_indexes[:(split_index + 1)]\n",
    "#x_train = my_x[train_indexes]\n",
    "#y_train = my_y[train_indexes]\n",
    "\n",
    "#eval_split_index = 934\n",
    "#all_indexes = list(range(x_train.shape[0]))\n",
    "#eval_indexes = all_indexes[(eval_split_index + 1):]\n",
    "#eval_train_indexes = all_indexes[:(eval_split_index + 1)]\n",
    "\n",
    "#x_train_eval = x_train[eval_indexes]\n",
    "#y_train_eval = y_train[eval_indexes]\n",
    "#x_eval = x_train[eval_train_indexes]\n",
    "#y_eval = y_train[eval_train_indexes]\n",
    "\n",
    "# x_train_eval=np.vstack(x_train_eval).astype(np.float)\n",
    "# y_train_eval=np.vstack(y_train_eval).astype(np.str)"
   ]
  },
  {
   "cell_type": "code",
   "execution_count": 13,
   "id": "ca952110-e687-4d1f-bc4e-baed2ce80523",
   "metadata": {},
   "outputs": [],
   "source": [
    "#print(y_train_eval.shape, y_eval.shape, y_test.shape)       # (4696,) (935,) (1407,)\n",
    "#print(x_train_eval.shape, x_eval.shape, x_test.shape)       # (4696, 3072) (935, 3072) (1407, 3072)"
   ]
  },
  {
   "cell_type": "code",
   "execution_count": 14,
   "id": "016ab04a-7051-4953-a85d-43527e6fb446",
   "metadata": {},
   "outputs": [],
   "source": [
    "def get_device():\n",
    "    if t.cuda.is_available():\n",
    "        return \"cuda\"\n",
    "    else:\n",
    "        return \"cpu\""
   ]
  },
  {
   "cell_type": "code",
   "execution_count": 15,
   "id": "875b24d9-d68b-4665-a6f3-999b745c93ce",
   "metadata": {},
   "outputs": [],
   "source": [
    "class Trainer:\n",
    "\n",
    "    def __init__(self,\n",
    "                 model,  # Model to be trained.\n",
    "                 model_name,\n",
    "                 dataset,\n",
    "                 crit,  # Loss function\n",
    "                 optim=None,  # Optimizer\n",
    "                 train_dl=None,  # Training data set\n",
    "                 val_test_dl=None,  # Validation data set\n",
    "                 test_dl=None,  # Test data set\n",
    "                 cuda=True,  # Whether to use the GPU\n",
    "                 early_stopping_patience=-1):   # The patience for early stopping\n",
    "                 #unsqueeze_needed=True\n",
    "        self._model = model\n",
    "        self.model_name = model_name\n",
    "        self.dataset = dataset\n",
    "        self._crit = crit\n",
    "        self._optim = optim\n",
    "        self._train_dl = train_dl\n",
    "        self._val_test_dl = val_test_dl\n",
    "        self._test_dl = test_dl\n",
    "        self._cuda = cuda\n",
    "        self._early_stopping_patience = early_stopping_patience\n",
    "        #self._unsqueeze_needed = unsqueeze_needed\n",
    "\n",
    "        if cuda:\n",
    "            self._model = model.cuda()\n",
    "            self._crit = crit.cuda()\n",
    "\n",
    "    #def save_checkpoint(self, epoch):\n",
    "     #   t.save({'state_dict': self._model.state_dict()}, 'checkpoints/checkpoint_{:03d}.ckp'.format(epoch))\n",
    "\n",
    "    #def restore_checkpoint(self, epoch_n):\n",
    "    def restore_checkpoint(self):\n",
    "        path = 'checkpoints/' + self.model_name + '_checkpoint_{}.ckp'.format(get_datetime())\n",
    "        if os.path.exists(path):\n",
    "            #ckp = t.load('checkpoints/checkpoint_{:03d}.ckp'.format(epoch_n), 'cuda' if self._cuda else None)\n",
    "            ckp = t.load(path, 'cuda' if self._cuda else None)\n",
    "            self._model.load_state_dict(ckp['state_dict'])\n",
    "\n",
    "    def save_onnx(self, fn):\n",
    "        m = self._model.cpu()\n",
    "        m.eval()\n",
    "        x = t.randn(1, 3, 300, 300, requires_grad=True)\n",
    "        y = self._model(x)\n",
    "        t.onnx.export(m,  # model being run\n",
    "                      x,  # model input (or a tuple for multiple inputs)\n",
    "                      fn,  # where to save the model (can be a file or file-like object)\n",
    "                      export_params=True,  # store the trained parameter weights inside the model file\n",
    "                      opset_version=10,  # the ONNX version to export the model to\n",
    "                      do_constant_folding=True,  # whether to execute constant folding for optimization\n",
    "                      input_names=['input'],  # the model's input names\n",
    "                      output_names=['output'],  # the model's output names\n",
    "                      dynamic_axes={'input': {0: 'batch_size'},  # variable lenght axes\n",
    "                                    'output': {0: 'batch_size'}})\n",
    "\n",
    "    def train_step(self, x, y):\n",
    "        # perform following steps:\n",
    "        # -reset the gradients / clear the gradients of all optimized variables\n",
    "        self._optim.zero_grad()\n",
    "        # -propagate through the network / forward pass: compute predicted outputs by passing inputs to the model\n",
    "        output = self._model.forward(x)\n",
    "        # -calculate the loss\n",
    "        #y=y.to(t.int64)\n",
    "        \n",
    "        \n",
    "        loss = self._crit(output, y)\n",
    "        # -compute gradient by backprop / backward pass: compute gradient of the loss with respect to model parameters\n",
    "        loss.backward()\n",
    "        # -update weights / perform a single optimization step (parameter update)\n",
    "        self._optim.step()\n",
    "        # -return the loss\n",
    "        return loss, output\n",
    "\n",
    "    def val_test_step(self, x, y):\n",
    "        # predict\n",
    "        # propagate through the network and calculate the loss and predictions\n",
    "        pred = self._model.forward(x)\n",
    "        # calculate the loss\n",
    "        #y=y.to(t.int64)\n",
    "        \n",
    "        loss = self._crit(pred, y)\n",
    "        # return the loss and the predictions\n",
    "        return loss, pred\n",
    "\n",
    "    def train_epoch(self):\n",
    "        # set training mode / prepare model for training\n",
    "        self._model.train()\n",
    "        # iterate through the training set\n",
    "        # clear lists to track next epoch\n",
    "        total_loss = 0\n",
    "        total_acc = 0\n",
    "        for x, y in self._train_dl:\n",
    "            # transfer the batch to \"cuda()\" -> the gpu if a gpu is given\n",
    "            if self._cuda:\n",
    "                x = x.cuda()\n",
    "                y = y.cuda()\n",
    "           # if self._unsqueeze_needed:\n",
    "            #    x = x.unsqueeze(1)\n",
    "            # perform a training step\n",
    "            #print(y.dtype)\n",
    "            loss, pred = self.train_step(x, y)\n",
    "            total_loss += loss.item()\n",
    "            #total_acc += accuracy_score(y.cpu().detach().numpy(), np.hstack(pred))\n",
    "            #total_acc += accuracy_score(y.cpu(), pred.cpu() > 0.5)\n",
    "        # calculate the average loss for the epoch and return it\n",
    "        total_loss = total_loss / len(self._train_dl)\n",
    "        #total_acc = total_acc / len(self._train_dl)\n",
    "        #print(\"Train: loss: {}, accuracy: {}\".format(total_loss, total_acc))\n",
    "        print(\"Train: loss: {}\".format(total_loss))\n",
    "        return total_loss\n",
    "\n",
    "    def val_test(self, mode=False):\n",
    "        # set eval mode / prepare model for evaluation\n",
    "        self._model.eval()\n",
    "        \n",
    "        all_preds = []\n",
    "        # disable gradient computation (disable autograd engine)\n",
    "        with t.no_grad():\n",
    "            # iterate through the validation set\n",
    "            # clear lists to track next epoch\n",
    "            total_loss = 0\n",
    "            total_acc = 0\n",
    "            total_f1 = 0\n",
    "            if mode:\n",
    "                dataset = self._test_dl\n",
    "            else:\n",
    "                dataset = self._val_test_dl\n",
    "            for x, y in dataset:\n",
    "                # transfer the batch to the gpu if given\n",
    "                if self._cuda:\n",
    "                    x = x.cuda()\n",
    "                    y = y.cuda()\n",
    "                #if self._unsqueeze_needed:\n",
    "                 #   x = x.unsqueeze(1)\n",
    "\n",
    "                # perform a validation step / forward pass: compute predicted outputs by passing inputs to the model\n",
    "                loss, pred = self.val_test_step(x, y)       # pred.shape torch.Size([8, 5]) = bs, num_cl\n",
    "                # calculate metrics for this iteration\n",
    "                total_loss += loss.item()\n",
    "\n",
    "                # deal with multilabel\n",
    "                activation = t.nn.Softmax(dim=1)\n",
    "                pred = activation(pred.data)\n",
    "                pred = t.max(pred, 1)[1]    # choose maximum class index for the most predominant index\n",
    "                # pred: tensor([4, 3, 2, 4, 0, 3, 4, 3])\n",
    "                #pred = pred.cpu().detach()\n",
    "                pred = pred.cpu().detach().numpy()\n",
    "\n",
    "                # prepare to count predictions for each class\n",
    "                correct_pred = {classname: 0 for classname in w2v_classes}\n",
    "                total_pred = {classname: 0 for classname in w2v_classes}\n",
    "                # collect the correct predictions for each class\n",
    "                for label, prediction in zip(y, pred):\n",
    "                    if label == prediction:\n",
    "                        correct_pred[w2v_classes[label]] += 1\n",
    "                    total_pred[w2v_classes[label]] += 1   # {0: 3, 1: 14, 2: 20, 3: 2, 4: 1}\n",
    "\n",
    "                # print accuracy for each class\n",
    "                #for classname, correct_count in correct_pred.items():\n",
    "                 #   accuracy = 100 * float(correct_count) / total_pred[classname]\n",
    "                    #print(\"Accuracy for class {:5s} is: {:.1f} %\".format(classname, accuracy))\n",
    "                  #  print(\"Accuracy for class {} is: {} %\".format(classname, accuracy))\n",
    "\n",
    "                #total_acc += accuracy_score(y.cpu(), pred.cpu() > 0.5)\n",
    "                total_acc += accuracy_score(y.cpu().detach().numpy(), np.hstack(pred))\n",
    "                #total_f1 += f1_score(y.cpu(), pred.cpu() > 0.5, average=None)\n",
    "                total_f1 += f1_score(y.cpu().detach().numpy(), np.hstack(pred), average='weighted')\n",
    "                \n",
    "                # save the predictions and the labels for each batch\n",
    "                all_preds = np.hstack([all_preds, pred])\n",
    "\n",
    "            # calculate the average loss and average metrics\n",
    "            total_loss = total_loss / len(dataset)\n",
    "            total_acc = total_acc / len(dataset)\n",
    "            total_f1 = total_f1 / len(dataset)\n",
    "\n",
    "            # return the loss and print the calculated metrics\n",
    "            if mode:\n",
    "                print(\"Test: loss: {}, accuracy: {}%, f-score: {}\".format(total_loss, total_acc * 100, total_f1))\n",
    "            else:\n",
    "                print(\"Validation: loss: {}, accuracy: {}%, f-score: {}\".format(total_loss, total_acc * 100, total_f1))\n",
    "\n",
    "        t.enable_grad()\n",
    "        \n",
    "        if mode:\n",
    "            return total_loss, all_preds\n",
    "        else:\n",
    "            return total_loss\n",
    "\n",
    "    def fit(self, n_epochs):\n",
    "        # to track the training loss as the model trains\n",
    "        #train_losses = []\n",
    "        # to track the validation loss as the model trains\n",
    "        #valid_losses = []\n",
    "        # to track the average training loss per epoch as the model trains\n",
    "        avg_train_losses = []\n",
    "        # to track the average validation loss per epoch as the model trains\n",
    "        avg_valid_losses = []\n",
    "        # store results\n",
    "        #res = open('./results/' + self.model_name + '_results.txt', 'w')\n",
    "        #res.write(50 * '=')\n",
    "        #res.write('Model \\n')\n",
    "        #res.write(str(self._model) + '\\n')\n",
    "\n",
    "        # load the last checkpoint with the best model\n",
    "        self.restore_checkpoint()\n",
    "\n",
    "        # initialize the early_stopping object\n",
    "        early_stopping = EarlyStopping(patience=self._early_stopping_patience, verbose=True)\n",
    "\n",
    "        for epoch in range(1, n_epochs + 1):\n",
    "            # train the model\n",
    "            train_loss = self.train_epoch()\n",
    "            # validate the model\n",
    "            valid_loss = self.val_test(mode=False)\n",
    "\n",
    "            # calculate average loss over an epoch\n",
    "            #train_loss = np.average(train_losses)\n",
    "            #train_loss = train_losses / len(self._train_dl)\n",
    "            #valid_loss = np.average(valid_losses)\n",
    "\n",
    "            avg_train_losses.append(train_loss)\n",
    "            avg_valid_losses.append(valid_loss)\n",
    "\n",
    "            \"\"\"\n",
    "            # print training/validation statistics\n",
    "            epoch_len = len(str(n_epochs))\n",
    "\n",
    "            print_msg = (f'[{epoch:>{epoch_len}}/{n_epochs:>{epoch_len}}] ' +\n",
    "                         f'train_loss: {train_loss:.5f} ' +\n",
    "                         f'valid_loss: {valid_loss:.5f}')\n",
    "\n",
    "            print(print_msg)\n",
    "            \"\"\"\n",
    "\n",
    "            # early_stopping needs the validation loss to check if it has decreased,\n",
    "            # if it has, it will make a checkpoint of the current model\n",
    "            early_stopping(valid_loss, self._model, self.model_name, self.dataset)\n",
    "\n",
    "            \"\"\"\n",
    "            # use the save_checkpoint function to save the model for each epoch\n",
    "            save_flag = self._early_stopping_cb.step(l_dev)\n",
    "\n",
    "            if save_flag:\n",
    "                res.write(50 * '=')\n",
    "                res.write('Epoch: ' + str(self.epoch) + ' Training Loss :' + str(l_train) + ' Development Loss :' + str(\n",
    "                    l_dev))\n",
    "                Trainer.save_checkpoint(self, self.epoch + 1, model_name)\n",
    "                self.epoch_n = self.epoch + 1\n",
    "            \"\"\"\n",
    "\n",
    "            if early_stopping.early_stop:\n",
    "                print(\"Early stopping has been reached\")\n",
    "                break\n",
    "\n",
    "            # load the last checkpoint with the best model\n",
    "            #self._model.load_state_dict(t.load('checkpoint.pt'))\n",
    "            #self.restore_checkpoint()\n",
    "\n",
    "        # return model, avg_train_losses, avg_valid_losses\n",
    "        #res.close()\n",
    "        return avg_train_losses, avg_valid_losses\n",
    "    \n",
    "    def test(self):\n",
    "\n",
    "        # load the last checkpoint with the best model\n",
    "        self.restore_checkpoint()\n",
    "\n",
    "        # test the model\n",
    "        test_loss, all_preds = self.val_test(mode=True)\n",
    "        return test_loss, all_preds"
   ]
  },
  {
   "cell_type": "code",
   "execution_count": 16,
   "id": "b8973642-b64e-4e08-bfe7-5468ca267965",
   "metadata": {},
   "outputs": [],
   "source": [
    "class EarlyStopping:\n",
    "    # https://github.com/Bjarten/early-stopping-pytorch/blob/master/pytorchtools.py\n",
    "    \"\"\"Early stops the training if validation loss doesn't improve after a given patience.\"\"\"\n",
    "    def __init__(self, patience=7, epoch=-1, verbose=False, delta=0, trace_func=print):\n",
    "    #def __init__(self, patience=7, epoch=0, verbose=False, delta=0, path='checkpoint.pt', trace_func=print):\n",
    "        \"\"\"\n",
    "        Args:\n",
    "            patience (int): How long to wait after last time validation loss improved.\n",
    "                            Default: 7\n",
    "            verbose (bool): If True, prints a message for each validation loss improvement.\n",
    "                            Default: False\n",
    "            delta (float): Minimum change in the monitored quantity to qualify as an improvement.\n",
    "                            Default: 0\n",
    "            path (str): Path for the checkpoint to be saved to.\n",
    "                            Default: 'checkpoint.pt'\n",
    "            trace_func (function): trace print function.\n",
    "                            Default: print\n",
    "        \"\"\"\n",
    "        self.patience = patience\n",
    "        self.epoch = epoch\n",
    "        self.verbose = verbose\n",
    "        self.counter = 0\n",
    "        self.best_score = None\n",
    "        self.early_stop = False\n",
    "        self.val_loss_min = np.Inf\n",
    "        self.delta = delta\n",
    "        self.trace_func = trace_func\n",
    "\n",
    "    def __call__(self, val_loss, model, model_name, dataset):\n",
    "\n",
    "        score = -val_loss\n",
    "\n",
    "        if self.best_score is None:\n",
    "            self.best_score = score\n",
    "            self.save_checkpoint(val_loss, model, model_name, dataset)\n",
    "        elif score < self.best_score + self.delta:\n",
    "            self.counter += 1\n",
    "            self.trace_func(f'EarlyStopping counter: {self.counter} out of {self.patience}')\n",
    "            if self.counter >= self.patience:\n",
    "                print(\"EarlyStopping counter is higher than patience\")\n",
    "                self.early_stop = True\n",
    "        else:\n",
    "            self.best_score = score\n",
    "            self.save_checkpoint(val_loss, model, model_name, dataset)\n",
    "            self.counter = 0\n",
    "\n",
    "    def save_checkpoint(self, val_loss, model, model_name, dataset):\n",
    "        \"\"\"\n",
    "        Saves model when validation loss decreases\n",
    "        \"\"\"\n",
    "        if not os.path.isdir('./checkpoints/'):\n",
    "            os.makedirs('./checkpoints/')\n",
    "        if self.verbose:\n",
    "            self.trace_func(f'Validation loss decreased ({self.val_loss_min:.6f} --> {val_loss:.6f}).  Saving model ...')\n",
    "        #a.save(model.state_dict(), self.path)\n",
    "        path = 'checkpoints/' + model_name + dataset + '_checkpoint_{}.ckp'.format(get_datetime())\n",
    "        t.save({'state_dict': model.state_dict()}, path)\n",
    "        self.val_loss_min = val_loss\n",
    "        #t.save({'state_dict': self._model.state_dict()}, 'checkpoints/' + model_name + 'checkpoint.ckp')\n",
    "\n",
    "\n",
    "def get_datetime():\n",
    "    #return strftime(\"%Y-%m-%d_%H:%M:%S\", gmtime())\n",
    "    # storing per day to have different runs from different days\n",
    "    return strftime(\"%Y-%m-%d\", gmtime())"
   ]
  },
  {
   "cell_type": "code",
   "execution_count": 17,
   "id": "65cc25f1-21c5-4513-b19d-c23b7e84e0bf",
   "metadata": {},
   "outputs": [],
   "source": [
    "device = get_device()"
   ]
  },
  {
   "cell_type": "code",
   "execution_count": 18,
   "id": "53664f11-c569-4677-a9cb-00e045aa0c59",
   "metadata": {},
   "outputs": [],
   "source": [
    "\n",
    "class SimpleMLP(nn.Module):\n",
    "    def __init__(self):\n",
    "        super(SimpleMLP, self).__init__()\n",
    "        self.layers = nn.Sequential(\n",
    "            nn.Linear(3072, 1500),     # icp_ft.npy\n",
    "            #nn.Linear(6144, 1000),\n",
    "            nn.ELU(),\n",
    "            nn.Linear(1500, 500),\n",
    "            #nn.GELU(),\n",
    "            nn.Dropout(0.2),\n",
    "            nn.Linear(500,5)\n",
    "        )\n",
    "\n",
    "    def forward(self, x):\n",
    "        # convert tensor (128, 1, 28, 28) --> (128, 1*28*28)\n",
    "        x = x.view(x.size(0), -1)\n",
    "        #print(x.shape)\n",
    "        x = self.layers(x)\n",
    "        return x\n",
    "\n",
    "    \n",
    "# defining model\n",
    "class MLP(nn.Module):\n",
    "    def __init__(self, in_dim, hidden_dim_1, hidden_dim_2, out_dim=2):\n",
    "        super(MLP, self).__init__()\n",
    "\n",
    "        self.in_dim = in_dim\n",
    "        self.hidden_dim_1 = hidden_dim_1\n",
    "        self.hidden_dim_2 = hidden_dim_2\n",
    "        self.out_dim = out_dim\n",
    "\n",
    "        ## 1st hidden layer\n",
    "        self.linear_1 = nn.Linear(self.in_dim, self.hidden_dim_1)\n",
    "        self.linear_1.weight.detach().normal_(0.0, 0.1)\n",
    "        self.linear_1.bias.detach().zero_()\n",
    "        self.linear_1_bn = nn.BatchNorm1d(self.hidden_dim_1, momentum=0.6)\n",
    "\n",
    "        ## 2nd hidden layer\n",
    "        self.linear_2 = nn.Linear(self.hidden_dim_1, self.hidden_dim_2)\n",
    "        self.linear_2.weight.detach().normal_(0.0, 0.1)\n",
    "        self.linear_2.bias.detach().zero_()\n",
    "        self.linear_2_bn = nn.BatchNorm1d(self.hidden_dim_2, momentum=0.6)\n",
    "\n",
    "        ## Out layer\n",
    "        self.linear_out = nn.Linear(self.hidden_dim_2, self.out_dim)\n",
    "        self.linear_out.weight.detach().normal_(0.0, 0.1)\n",
    "        self.linear_out.bias.detach().zero_()\n",
    "\n",
    "    def forward(self, x):\n",
    "        out = self.linear_1(x)\n",
    "        out = self.linear_1_bn(out)\n",
    "        out = F.relu(out)\n",
    "\n",
    "        out = self.linear_2(out)\n",
    "        out = self.linear_2_bn(out)\n",
    "        out = F.relu(out)\n",
    "        out = F.dropout(out, p=0.175, training=self.training)\n",
    "\n",
    "        out = self.linear_out(out)\n",
    "        return out\n"
   ]
  },
  {
   "cell_type": "markdown",
   "id": "bf63fdc7-8911-4ac0-9e9f-6241a5aa649a",
   "metadata": {
    "jp-MarkdownHeadingCollapsed": true,
    "tags": []
   },
   "source": [
    "## Without weight in loss function"
   ]
  },
  {
   "cell_type": "code",
   "execution_count": 35,
   "id": "a9bf0e1b-ddde-4ec3-8f95-4ec05bd2a0c9",
   "metadata": {},
   "outputs": [
    {
     "ename": "TypeError",
     "evalue": "__init__() takes 1 positional argument but 5 were given",
     "output_type": "error",
     "traceback": [
      "\u001b[0;31m---------------------------------------------------------------------------\u001b[0m",
      "\u001b[0;31mTypeError\u001b[0m                                 Traceback (most recent call last)",
      "Input \u001b[0;32mIn [35]\u001b[0m, in \u001b[0;36m<cell line: 2>\u001b[0;34m()\u001b[0m\n\u001b[1;32m      1\u001b[0m \u001b[38;5;66;03m#model = MLP(6144, 3000, 1000, 7)\u001b[39;00m\n\u001b[0;32m----> 2\u001b[0m model \u001b[38;5;241m=\u001b[39m \u001b[43mMLP\u001b[49m\u001b[43m(\u001b[49m\u001b[38;5;241;43m3072\u001b[39;49m\u001b[43m,\u001b[49m\u001b[43m \u001b[49m\u001b[38;5;241;43m3000\u001b[39;49m\u001b[43m,\u001b[49m\u001b[43m \u001b[49m\u001b[38;5;241;43m1000\u001b[39;49m\u001b[43m,\u001b[49m\u001b[43m \u001b[49m\u001b[38;5;241;43m5\u001b[39;49m\u001b[43m)\u001b[49m\n\u001b[1;32m      3\u001b[0m \u001b[38;5;28mprint\u001b[39m(model)\n\u001b[1;32m      5\u001b[0m criterion \u001b[38;5;241m=\u001b[39m nn\u001b[38;5;241m.\u001b[39mCrossEntropyLoss()\n",
      "\u001b[0;31mTypeError\u001b[0m: __init__() takes 1 positional argument but 5 were given"
     ]
    }
   ],
   "source": [
    "#model = MLP(6144, 3000, 1000, 7)\n",
    "model = MLP(3072, 3000, 1000, 5)\n",
    "print(model)\n",
    "\n",
    "criterion = nn.CrossEntropyLoss()\n",
    "\n",
    "# set up the optimizer\n",
    "optimizer = Adam(model.parameters(), lr=0.001, weight_decay=0)\n",
    "\n",
    "trainer = Trainer(model, \"w2v\", \"icp\", criterion, optimizer, train_loader, val_loader, test_loader, \n",
    "                  cuda=t.cuda.is_available(),\\\n",
    "                  early_stopping_patience=20)\n",
    "\n",
    "# go, go, go... call fit on trainer\n",
    "res = trainer.fit(EPOCHS)"
   ]
  },
  {
   "cell_type": "code",
   "execution_count": 34,
   "id": "b32b2028-d91c-41e8-b442-5150e42abd29",
   "metadata": {},
   "outputs": [
    {
     "data": {
      "image/png": "[encoded data removed]",
      "text/plain": [
       "<Figure size 640x480 with 1 Axes>"
      ]
     },
     "metadata": {},
     "output_type": "display_data"
    }
   ],
   "source": [
    "# plot the results\n",
    "plt.plot(np.arange(len(res[0])), res[0], label='train loss')\n",
    "plt.plot(np.arange(len(res[1])), res[1], label='val loss')\n",
    "plt.yscale('log')\n",
    "plt.legend()\n",
    "plt.show()\n",
    "plt.savefig('{}_losses_{}.png'.format(\"icp\", \"w2v\"))"
   ]
  },
  {
   "cell_type": "code",
   "execution_count": 45,
   "id": "574aa1eb-7f2c-4b11-8101-4ad6de33f8af",
   "metadata": {},
   "outputs": [
    {
     "name": "stdout",
     "output_type": "stream",
     "text": [
      "Starting testing\n",
      "Test: loss: 4.444942275683085, accuracy: 42.604166666666664%, f-score: 0.4589094569255079\n"
     ]
    }
   ],
   "source": [
    "print(\"Starting testing\")\n",
    "test_res = trainer.test()"
   ]
  },
  {
   "cell_type": "markdown",
   "id": "97138321-d3a0-4371-ab82-aa655a1d7a80",
   "metadata": {},
   "source": [
    "## With Weighted Loss Function"
   ]
  },
  {
   "cell_type": "code",
   "execution_count": 19,
   "id": "0dfbd349-8b17-49ef-bc64-9b471887c87f",
   "metadata": {},
   "outputs": [
    {
     "data": {
      "text/plain": [
       "((4520,), (1348,), (1512,))"
      ]
     },
     "execution_count": 19,
     "metadata": {},
     "output_type": "execute_result"
    }
   ],
   "source": [
    "y_train.shape, y_val.shape, y_test.shape"
   ]
  },
  {
   "cell_type": "code",
   "execution_count": 20,
   "id": "4a0533f7-bb2f-47f9-a04c-90c4894707e8",
   "metadata": {},
   "outputs": [
    {
     "data": {
      "text/plain": [
       "(7380,)"
      ]
     },
     "execution_count": 20,
     "metadata": {},
     "output_type": "execute_result"
    }
   ],
   "source": [
    "y = np.hstack((y_train, y_val, y_test))\n",
    "y.shape"
   ]
  },
  {
   "cell_type": "code",
   "execution_count": 21,
   "id": "9b1afff7-1139-4604-8303-d8790997a536",
   "metadata": {},
   "outputs": [
    {
     "name": "stdout",
     "output_type": "stream",
     "text": [
      "tensor([0.8642, 0.9022, 1.3616, 0.7983, 1.3382])\n"
     ]
    }
   ],
   "source": [
    "class_weights = class_weight.compute_class_weight('balanced', classes=np.unique(y), y=y)\n",
    "class_weights = t.tensor(class_weights, dtype=t.float)\n",
    " \n",
    "print(class_weights)"
   ]
  },
  {
   "cell_type": "code",
   "execution_count": 49,
   "id": "2f4bb1bd-3fe8-4328-af21-158912c9b14d",
   "metadata": {},
   "outputs": [
    {
     "name": "stdout",
     "output_type": "stream",
     "text": [
      "MLP(\n",
      "  (linear_1): Linear(in_features=3072, out_features=1500, bias=True)\n",
      "  (linear_1_bn): BatchNorm1d(1500, eps=1e-05, momentum=0.6, affine=True, track_running_stats=True)\n",
      "  (linear_2): Linear(in_features=1500, out_features=500, bias=True)\n",
      "  (linear_2_bn): BatchNorm1d(500, eps=1e-05, momentum=0.6, affine=True, track_running_stats=True)\n",
      "  (linear_out): Linear(in_features=500, out_features=5, bias=True)\n",
      ")\n",
      "Train: loss: 1.925300077653267\n",
      "Validation: loss: 1.6888398690657183, accuracy: 33.80681818181818%, f-score: 0.37062549779885945\n",
      "Validation loss decreased (inf --> 1.688840).  Saving model ...\n",
      "Train: loss: 1.4294483712021733\n",
      "Validation: loss: 1.5728402029384265, accuracy: 37.64204545454545%, f-score: 0.40838437823061985\n",
      "Validation loss decreased (1.688840 --> 1.572840).  Saving model ...\n",
      "Train: loss: 1.2329902665715822\n",
      "Validation: loss: 1.5188372216441415, accuracy: 38.06818181818182%, f-score: 0.4121409557304011\n",
      "Validation loss decreased (1.572840 --> 1.518837).  Saving model ...\n",
      "Train: loss: 1.080893983303661\n",
      "Validation: loss: 1.50901322202249, accuracy: 39.48863636363637%, f-score: 0.41720573075856215\n",
      "Validation loss decreased (1.518837 --> 1.509013).  Saving model ...\n",
      "Train: loss: 0.9659003875624965\n",
      "Validation: loss: 1.4954586814750324, accuracy: 41.05113636363637%, f-score: 0.4410977085038027\n",
      "Validation loss decreased (1.509013 --> 1.495459).  Saving model ...\n",
      "Train: loss: 0.8720467594307912\n",
      "Validation: loss: 1.4738191135905006, accuracy: 40.83806818181818%, f-score: 0.4393371370689337\n",
      "Validation loss decreased (1.495459 --> 1.473819).  Saving model ...\n",
      "Train: loss: 0.7705679938826763\n",
      "Validation: loss: 1.5120065334168347, accuracy: 39.346590909090914%, f-score: 0.4204316988062949\n",
      "EarlyStopping counter: 1 out of 20\n",
      "Train: loss: 0.69674693530714\n",
      "Validation: loss: 1.482162269678983, accuracy: 38.99147727272727%, f-score: 0.422183999089766\n",
      "EarlyStopping counter: 2 out of 20\n",
      "Train: loss: 0.6343200122806388\n",
      "Validation: loss: 1.4761289791627363, accuracy: 40.625%, f-score: 0.4386433091960283\n",
      "EarlyStopping counter: 3 out of 20\n",
      "Train: loss: 0.5776756556940751\n",
      "Validation: loss: 1.4496654014695773, accuracy: 42.25852272727273%, f-score: 0.45448317433463126\n",
      "Validation loss decreased (1.473819 --> 1.449665).  Saving model ...\n",
      "Train: loss: 0.5293924183073179\n",
      "Validation: loss: 1.4670480381358753, accuracy: 41.47727272727273%, f-score: 0.44162986098571405\n",
      "EarlyStopping counter: 1 out of 20\n",
      "Train: loss: 0.4724687472195693\n",
      "Validation: loss: 1.458355020393025, accuracy: 43.465909090909086%, f-score: 0.4673857434333153\n",
      "EarlyStopping counter: 2 out of 20\n",
      "Train: loss: 0.4163736659036556\n",
      "Validation: loss: 1.4920797646045685, accuracy: 42.82670454545455%, f-score: 0.4553418810292449\n",
      "EarlyStopping counter: 3 out of 20\n",
      "Train: loss: 0.3876286677911248\n",
      "Validation: loss: 1.5440458032217892, accuracy: 42.40056818181818%, f-score: 0.4559507818403618\n",
      "EarlyStopping counter: 4 out of 20\n",
      "Train: loss: 0.3535397927945768\n",
      "Validation: loss: 1.5859541256319394, accuracy: 39.559659090909086%, f-score: 0.4217460809703504\n",
      "EarlyStopping counter: 5 out of 20\n",
      "Train: loss: 0.33015104834462555\n",
      "Validation: loss: 1.51304223456166, accuracy: 42.25852272727273%, f-score: 0.45740675940241976\n",
      "EarlyStopping counter: 6 out of 20\n",
      "Train: loss: 0.2883063468714835\n",
      "Validation: loss: 1.5491901771588759, accuracy: 40.83806818181818%, f-score: 0.4354455319959747\n",
      "EarlyStopping counter: 7 out of 20\n",
      "Train: loss: 0.269113550933314\n",
      "Validation: loss: 1.5756788829510862, accuracy: 40.98011363636363%, f-score: 0.4307814332526103\n",
      "EarlyStopping counter: 8 out of 20\n",
      "Train: loss: 0.24393015092527362\n",
      "Validation: loss: 1.5457838380878621, accuracy: 42.61363636363637%, f-score: 0.4522213833117216\n",
      "EarlyStopping counter: 9 out of 20\n",
      "Train: loss: 0.2223630083698622\n",
      "Validation: loss: 1.555452360348268, accuracy: 43.53693181818182%, f-score: 0.46113453293683376\n",
      "EarlyStopping counter: 10 out of 20\n",
      "Train: loss: 0.19949674281016203\n",
      "Validation: loss: 1.5833940790458159, accuracy: 40.625%, f-score: 0.43067319020205885\n",
      "EarlyStopping counter: 11 out of 20\n",
      "Train: loss: 0.1811299397492073\n",
      "Validation: loss: 1.5959395617246628, accuracy: 44.31818181818182%, f-score: 0.46950071423798556\n",
      "EarlyStopping counter: 12 out of 20\n",
      "Train: loss: 0.1651652978969292\n",
      "Validation: loss: 1.5861243307590485, accuracy: 44.815340909090914%, f-score: 0.47421322712302094\n",
      "EarlyStopping counter: 13 out of 20\n",
      "Train: loss: 0.15576606023479517\n",
      "Validation: loss: 1.6931034136902203, accuracy: 42.04545454545455%, f-score: 0.44794169054849337\n",
      "EarlyStopping counter: 14 out of 20\n",
      "Train: loss: 0.1452196263511416\n",
      "Validation: loss: 1.5962698432532223, accuracy: 44.38920454545455%, f-score: 0.4712847760821894\n",
      "EarlyStopping counter: 15 out of 20\n",
      "Train: loss: 0.13027326175024811\n",
      "Validation: loss: 1.6572145101698963, accuracy: 43.67897727272727%, f-score: 0.4663067366490425\n",
      "EarlyStopping counter: 16 out of 20\n",
      "Train: loss: 0.11650461986870833\n",
      "Validation: loss: 1.6561050726608797, accuracy: 42.54261363636363%, f-score: 0.45009705250429877\n",
      "EarlyStopping counter: 17 out of 20\n",
      "Train: loss: 0.11315351897771929\n",
      "Validation: loss: 1.6496361453424802, accuracy: 43.82102272727273%, f-score: 0.4642346783149827\n",
      "EarlyStopping counter: 18 out of 20\n",
      "Train: loss: 0.10024168205932832\n",
      "Validation: loss: 1.6931540911847895, accuracy: 44.67329545454545%, f-score: 0.4739023283580717\n",
      "EarlyStopping counter: 19 out of 20\n",
      "Train: loss: 0.09550804104393637\n",
      "Validation: loss: 1.7494210282509977, accuracy: 42.11647727272727%, f-score: 0.4410711863226053\n",
      "EarlyStopping counter: 20 out of 20\n",
      "EarlyStopping counter is higher than patience\n",
      "Early stopping has been reached\n"
     ]
    }
   ],
   "source": [
    "#model = MLP(6144, 3000, 1000, 7)\n",
    "model = MLP(3072, 1500, 500, 5)\n",
    "#model = SimpleMLP()\n",
    "print(model)\n",
    "\n",
    "criterion = nn.CrossEntropyLoss(weight=class_weights, reduction='mean')\n",
    "\n",
    "# set up the optimizer\n",
    "optimizer = Adam(model.parameters(), lr=0.0001, weight_decay=0)\n",
    "\n",
    "trainer = Trainer(model, \"w2v\", \"icp\", criterion, optimizer, train_loader, val_loader, test_loader, \n",
    "                  cuda=t.cuda.is_available(),\\\n",
    "                  early_stopping_patience=20)\n",
    "\n",
    "# go, go, go... call fit on trainer\n",
    "res = trainer.fit(EPOCHS)"
   ]
  },
  {
   "cell_type": "code",
   "execution_count": 50,
   "id": "020a046c-4fe8-48e5-b72c-4f01c0f3aade",
   "metadata": {},
   "outputs": [
    {
     "data": {
      "image/png": "[encoded data removed]",
      "text/plain": [
       "<Figure size 640x480 with 1 Axes>"
      ]
     },
     "metadata": {},
     "output_type": "display_data"
    }
   ],
   "source": [
    "# plot the results\n",
    "plt.plot(np.arange(len(res[0])), res[0], label='train loss')\n",
    "plt.plot(np.arange(len(res[1])), res[1], label='val loss')\n",
    "plt.yscale('log')\n",
    "plt.legend()\n",
    "plt.show()\n",
    "plt.savefig('res/{}_losses_{}.png'.format(\"icp\", \"w2v\"))"
   ]
  },
  {
   "cell_type": "code",
   "execution_count": 51,
   "id": "9450eca7-1aa4-4fd5-b01d-a37c2be65995",
   "metadata": {},
   "outputs": [
    {
     "name": "stdout",
     "output_type": "stream",
     "text": [
      "Starting testing\n",
      "Test: loss: 1.7573806246121724, accuracy: 42.64322916666667%, f-score: 0.4652096251353786\n"
     ]
    }
   ],
   "source": [
    "print(\"Starting testing\")\n",
    "test_res = trainer.test()"
   ]
  },
  {
   "cell_type": "code",
   "execution_count": 52,
   "id": "f3611d4f-1ff9-4410-bdab-c2d9662a5d61",
   "metadata": {},
   "outputs": [
    {
     "name": "stdout",
     "output_type": "stream",
     "text": [
      "Test: loss: 1.7573806246121724, accuracy: 42.64322916666667%, f-score: 0.4652096251353786\n"
     ]
    }
   ],
   "source": [
    "test_res, pred = trainer.test()"
   ]
  },
  {
   "cell_type": "code",
   "execution_count": 53,
   "id": "0cbbc594-7184-41a7-bb09-e4100608e6ce",
   "metadata": {},
   "outputs": [
    {
     "data": {
      "text/plain": [
       "[0, 1, 2, 3, 4]"
      ]
     },
     "execution_count": 53,
     "metadata": {},
     "output_type": "execute_result"
    }
   ],
   "source": [
    "w2v_classes"
   ]
  },
  {
   "cell_type": "code",
   "execution_count": 54,
   "id": "3bead296-c66d-43b7-a4ad-08cff88f48a3",
   "metadata": {},
   "outputs": [
    {
     "name": "stdout",
     "output_type": "stream",
     "text": [
      "              precision    recall  f1-score   support\n",
      "\n",
      "         neu       0.38      0.31      0.34       258\n",
      "         hap       0.35      0.45      0.39       303\n",
      "         sad       0.61      0.50      0.55       143\n",
      "         fru       0.45      0.37      0.41       481\n",
      "         ang       0.47      0.56      0.51       327\n",
      "\n",
      "    accuracy                           0.43      1512\n",
      "   macro avg       0.45      0.44      0.44      1512\n",
      "weighted avg       0.43      0.43      0.43      1512\n",
      "\n"
     ]
    }
   ],
   "source": [
    "print(classification_report(y_true=y_test, y_pred=pred, target_names=w2v_classnames))"
   ]
  },
  {
   "cell_type": "markdown",
   "id": "941429e6-a2cd-4d62-8a35-e1bff607a347",
   "metadata": {},
   "source": [
    "## Confusion Matrix"
   ]
  },
  {
   "cell_type": "code",
   "execution_count": 55,
   "id": "4728d64a-d4ad-497d-b897-64743b699c76",
   "metadata": {},
   "outputs": [],
   "source": [
    "#model_version = 'SimpleMLP'\n",
    "model_version = 'MLP'"
   ]
  },
  {
   "cell_type": "code",
   "execution_count": 56,
   "id": "8256f8f9-4871-40ed-a5c8-f446032aa71f",
   "metadata": {},
   "outputs": [],
   "source": [
    "def plot_confusion_matrix(cm, classes, normalize=False,\n",
    "                          title='Confusion matrix for ' + model_version,\n",
    "                          cmap=plt.cm.RdPu):\n",
    "    \"\"\"\n",
    "    This function prints and plots the confusion matrix.\n",
    "    Normalization can be applied by setting `normalize=True`.\n",
    "    \"\"\"\n",
    "    # plt.figure(figsize=(8,8))\n",
    "    plt.imshow(cm, interpolation='nearest', cmap=cmap)\n",
    "    plt.title(title)\n",
    "    plt.colorbar()\n",
    "    tick_marks = np.arange(len(classes))\n",
    "    plt.xticks(tick_marks, classes, rotation=45)\n",
    "    plt.yticks(tick_marks, classes)\n",
    "\n",
    "    #if normalize:\n",
    "    #    cm = cm.astype('float') / cm.sum(axis=1)[:, np.newaxis]\n",
    "     #   print(\"Normalized confusion matrix\")\n",
    "    #else:\n",
    "     #   print('Confusion matrix, without normalization')\n",
    "    \n",
    "    #print(title)\n",
    "    #print(cm)\n",
    "\n",
    "    thresh = cm.max() / 2.\n",
    "    for i, j in itertools.product(range(cm.shape[0]), range(cm.shape[1])):\n",
    "        plt.text(j, i, cm[i, j],\n",
    "                 horizontalalignment=\"center\",\n",
    "                 color=\"white\" if cm[i, j] > thresh else \"black\")\n",
    "\n",
    "    plt.tight_layout()\n",
    "    plt.ylabel('True label')\n",
    "    plt.xlabel('Predicted label')\n",
    "    plt.savefig('res/conf_matrix_{}.png'.format(\"icp\"))\n",
    "    plt.show()\n",
    "    return cm\n",
    "    \n",
    "def one_hot_encoder(true_labels, num_records, num_classes):\n",
    "    temp = np.array(true_labels[:num_records])\n",
    "    true_labels = np.zeros((num_records, num_classes))\n",
    "    true_labels[np.arange(num_records), temp] = 1\n",
    "    return true_labels\n",
    "\n",
    "def display_results(y_test, pred_probs):\n",
    "    #pred = np.argmax(pred_probs, axis=-1)\n",
    "    #one_hot_true = one_hot_encoder(y_test, len(pred), len(CLASS_TO_ID))\n",
    "    one_hot_true = one_hot_encoder(y_test, len(pred_probs), len(CLASS_TO_ID))\n",
    "    acc = 'Test Set Accuracy =  {0:.3f}'.format(accuracy_score(y_test, pred_probs))\n",
    "    fscore = 'Test Set F-score =  {0:.3f}'.format(f1_score(y_test, pred_probs, average='macro'))\n",
    "    prec = 'Test Set Precision =  {0:.3f}'.format(precision_score(y_test, pred_probs, average='macro'))\n",
    "    rec = 'Test Set Recall =  {0:.3f}'.format(recall_score(y_test, pred_probs, average='macro'))\n",
    "    metrics = [acc, fscore, prec, rec]\n",
    "    #if cm:\n",
    "    cr = classification_report(y_true=y_test, y_pred=pred_probs, target_names=list(ID_TO_CLASS.values()))\n",
    "    cm = plot_confusion_matrix(confusion_matrix(y_test, pred), classes=list(ID_TO_CLASS.values()))\n",
    "    f = open('res/report_{}.txt'.format('icp'), 'w')\n",
    "    f.write('RESULTS\\n\\nMetrics\\n\\n{}\\n\\nClassification Report\\n\\n{}\\n\\nConfusion Matrix\\n\\n{}\\n'.format(metrics, cr, cm))\n",
    "    f.close()\n",
    "    print(cr)\n",
    "    plot_confusion_matrix(confusion_matrix(y_test, pred), classes=list(ID_TO_CLASS.values()))"
   ]
  },
  {
   "cell_type": "code",
   "execution_count": 57,
   "id": "1c3e4d39-563f-4036-b01a-4e947b589bac",
   "metadata": {},
   "outputs": [
    {
     "data": {
      "text/plain": [
       "numpy.float64"
      ]
     },
     "execution_count": 57,
     "metadata": {},
     "output_type": "execute_result"
    }
   ],
   "source": [
    "type(pred[0])"
   ]
  },
  {
   "cell_type": "code",
   "execution_count": 58,
   "id": "2e0f9525-36fe-43e7-8d98-58dd960396ab",
   "metadata": {},
   "outputs": [
    {
     "data": {
      "image/png": "[encoded data removed]",
      "text/plain": [
       "<Figure size 640x480 with 2 Axes>"
      ]
     },
     "metadata": {},
     "output_type": "display_data"
    },
    {
     "name": "stdout",
     "output_type": "stream",
     "text": [
      "              precision    recall  f1-score   support\n",
      "\n",
      "         neu       0.38      0.31      0.34       258\n",
      "         hap       0.35      0.45      0.39       303\n",
      "         sad       0.61      0.50      0.55       143\n",
      "         fru       0.45      0.37      0.41       481\n",
      "         ang       0.47      0.56      0.51       327\n",
      "\n",
      "    accuracy                           0.43      1512\n",
      "   macro avg       0.45      0.44      0.44      1512\n",
      "weighted avg       0.43      0.43      0.43      1512\n",
      "\n"
     ]
    },
    {
     "data": {
      "image/png": "[encoded data removed]",
      "text/plain": [
       "<Figure size 640x480 with 2 Axes>"
      ]
     },
     "metadata": {},
     "output_type": "display_data"
    }
   ],
   "source": [
    "display_results(y_test, pred)"
   ]
  },
  {
   "cell_type": "code",
   "execution_count": null,
   "id": "9005b0f4-4765-42f8-8ede-d3dc3645f455",
   "metadata": {},
   "outputs": [],
   "source": []
  },
  {
   "cell_type": "code",
   "execution_count": null,
   "id": "6632cacf-cee0-4136-b820-6251ccffb463",
   "metadata": {},
   "outputs": [],
   "source": []
  },
  {
   "cell_type": "code",
   "execution_count": 23,
   "id": "184aa893-f253-4164-8f9d-20bcaf66a0cb",
   "metadata": {},
   "outputs": [
    {
     "data": {
      "text/plain": [
       "array([4., 3., 4., ..., 2., 0., 2.])"
      ]
     },
     "execution_count": 23,
     "metadata": {},
     "output_type": "execute_result"
    }
   ],
   "source": [
    "pred"
   ]
  },
  {
   "cell_type": "code",
   "execution_count": 25,
   "id": "6ff2e50d-5306-45a5-96ff-be244e93b2f1",
   "metadata": {},
   "outputs": [
    {
     "data": {
      "text/plain": [
       "array([3, 3, 3, ..., 2, 2, 1])"
      ]
     },
     "execution_count": 25,
     "metadata": {},
     "output_type": "execute_result"
    }
   ],
   "source": [
    "y_test"
   ]
  },
  {
   "cell_type": "code",
   "execution_count": 24,
   "id": "761ed6f9-0b68-4cf1-8d7c-0221c80b898c",
   "metadata": {},
   "outputs": [
    {
     "data": {
      "text/plain": [
       "(numpy.ndarray, numpy.ndarray)"
      ]
     },
     "execution_count": 24,
     "metadata": {},
     "output_type": "execute_result"
    }
   ],
   "source": [
    "type(y_test), type(pred)"
   ]
  },
  {
   "cell_type": "code",
   "execution_count": 26,
   "id": "86f3d1c9-129b-4132-9b46-9584b2619710",
   "metadata": {},
   "outputs": [
    {
     "data": {
      "text/plain": [
       "1512"
      ]
     },
     "execution_count": 26,
     "metadata": {},
     "output_type": "execute_result"
    }
   ],
   "source": [
    "len(pred)"
   ]
  },
  {
   "cell_type": "code",
   "execution_count": 31,
   "id": "17e69c78-03ed-4781-8c7f-73a4a7bf7e7d",
   "metadata": {},
   "outputs": [],
   "source": [
    "pred_test = np.argmax(pred, axis=-1)"
   ]
  },
  {
   "cell_type": "code",
   "execution_count": 32,
   "id": "d94fa173-b61e-4cc5-86fc-89aa131a0944",
   "metadata": {},
   "outputs": [
    {
     "data": {
      "text/plain": [
       "0"
      ]
     },
     "execution_count": 32,
     "metadata": {},
     "output_type": "execute_result"
    }
   ],
   "source": [
    "pred_test"
   ]
  },
  {
   "cell_type": "code",
   "execution_count": null,
   "id": "0577d0d8-390f-4f2d-909c-0ce78a737b8f",
   "metadata": {},
   "outputs": [],
   "source": []
  }
 ],
 "metadata": {
  "kernelspec": {
   "display_name": "env:Python",
   "language": "python",
   "name": "conda-env-env-py"
  },
  "language_info": {
   "codemirror_mode": {
    "name": "ipython",
    "version": 3
   },
   "file_extension": ".py",
   "mimetype": "text/x-python",
   "name": "python",
   "nbconvert_exporter": "python",
   "pygments_lexer": "ipython3",
   "version": "3.8.12"
  }
 },
 "nbformat": 4,
 "nbformat_minor": 5
}
