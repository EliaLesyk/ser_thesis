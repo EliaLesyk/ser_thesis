{
 "cells": [
  {
   "cell_type": "code",
   "execution_count": 2,
   "id": "8310e528-6ac0-434d-929f-cce9e84845e6",
   "metadata": {},
   "outputs": [],
   "source": [
    "import pandas as pd\n",
    "import os\n",
    "import torch\n",
    "#import torchaudio\n",
    "#import requests\n",
    "#import matplotlib\n",
    "#import matplotlib.pyplot as plt\n",
    "#import IPython\n",
    "#import gc\n",
    "import numpy as np\n",
    "\n",
    "from os.path import isfile, join\n",
    "from scipy.io.wavfile import write, read\n",
    "from scipy.stats import kurtosis, skew\n",
    "#from datasets import load_dataset\n",
    "from tqdm import tqdm\n",
    "from transformers import Wav2Vec2FeatureExtractor, Wav2Vec2Model, Wav2Vec2ForPreTraining, Wav2Vec2ForXVector\n",
    "from transformers.models.wav2vec2.modeling_wav2vec2 import _compute_mask_indices"
   ]
  },
  {
   "cell_type": "code",
   "execution_count": 3,
   "id": "ec25e3fd-3ab5-4ef9-a74d-d297161016de",
   "metadata": {},
   "outputs": [],
   "source": [
    "#home_path = '/home/hpc/iwi5/iwi5055h/'\n",
    "home_path = ''\n",
    "icp_path = home_path + \"data/IEMOCAP/\"\n",
    "save_path = icp_path + \"wav2vec/\""
   ]
  },
  {
   "cell_type": "code",
   "execution_count": 4,
   "id": "ff8c461d-024b-43a3-92af-bc812b0f6c81",
   "metadata": {},
   "outputs": [],
   "source": [
    "#model_mode = 'base'\n",
    "model_mode = 'xlsr'\n",
    "#model_mode = 'xvec'\n",
    "# 'xlsr' | 'base' | 'xvec'"
   ]
  },
  {
   "cell_type": "code",
   "execution_count": 5,
   "id": "80a12efe-6632-47a6-bb19-1930c141586d",
   "metadata": {},
   "outputs": [],
   "source": [
    "#device = 'cpu'\n",
    "#if torch.cuda.is_available():\n",
    " #   device = 'cuda'"
   ]
  },
  {
   "cell_type": "code",
   "execution_count": 6,
   "id": "6e58205a-b56e-4eb4-a6e6-386cff1783c9",
   "metadata": {},
   "outputs": [],
   "source": [
    "def Wav2Vec_Models(file, model_name='xvec', plot=False, cuda=False):\n",
    "\n",
    "    try:\n",
    "        fs, audio=read(file)   \n",
    "        audio=(audio - np.mean(audio))/max(audio)\n",
    "       \n",
    "        device='cpu'\n",
    "        if cuda:\n",
    "            device='cuda'\n",
    "       \n",
    "        #sampling_rate = fs\n",
    "       \n",
    "        if model_name=='xlsr':\n",
    "            feature_extractor = Wav2Vec2FeatureExtractor.from_pretrained(\"facebook/wav2vec2-large-xlsr-53\")\n",
    "            model = Wav2Vec2Model.from_pretrained(\"facebook/wav2vec2-large-xlsr-53\").to(device)\n",
    "            #model_proj = Wav2Vec2ForPreTraining.from_pretrained(\"facebook/wav2vec2-large-xlsr-53\").to(device)\n",
    "        elif model_name=='base':\n",
    "            feature_extractor = Wav2Vec2FeatureExtractor.from_pretrained(\"facebook/wav2vec2-base-960h\")   \n",
    "            model = Wav2Vec2Model.from_pretrained(\"facebook/wav2vec2-base-960h\").to(device)\n",
    "            #model_proj = Wav2Vec2ForPreTraining.from_pretrained(\"facebook/wav2vec2-base-960h\").to(device)\n",
    "        elif model_name=='xvec':\n",
    "            feature_extractor = Wav2Vec2FeatureExtractor.from_pretrained(\"anton-l/wav2vec2-base-superb-sv\")        \n",
    "            #feature_extractor = Wav2Vec2FeatureExtractor.from_pretrained(\"superb/wav2vec2-base-superb-er\")        \n",
    "            model = Wav2Vec2ForXVector.from_pretrained(\"anton-l/wav2vec2-base-superb-sv\").to(device)\n",
    "            #model_proj = Wav2Vec2ForPreTraining.from_pretrained(\"anton-l/wav2vec2-base-superb-sv\").to(device)\n",
    "   \n",
    "        # audio file is decoded on the fly\n",
    "        input_values = feature_extractor(np.array(audio, dtype=float), sampling_rate=fs, return_tensors=\"pt\", padding=True).to(device).input_values\n",
    "        input_values_all = feature_extractor(np.array(audio, dtype=float), sampling_rate=fs, return_tensors=\"pt\", padding=True)\n",
    "\n",
    "        # compute masked indices\n",
    "        batch_size, raw_sequence_length = input_values.shape\n",
    "        sequence_length = model._get_feat_extract_output_lengths(raw_sequence_length)\n",
    "        mask_time_indices = _compute_mask_indices((batch_size, sequence_length), mask_prob=0.2, mask_length=2)\n",
    "        mask_time_indices = torch.tensor(mask_time_indices, device=input_values.device, dtype=torch.long)\n",
    "\n",
    "        with torch.inference_mode():\n",
    "\n",
    "            tmp = model(**input_values_all.to(device))\n",
    "            #tmp_proj=model_proj(input_values.to(device), mask_time_indices=mask_time_indices.to(device) )\n",
    "            if model_name=='xvec':\n",
    "                last_hidden_states = tmp.embeddings.cpu()\n",
    "                #last_hidden_states=np.hstack((last_hiddens_avg,last_hiddens_std,last_hiddens_skew,last_hiddens_kurt,last_hiddens_min,last_hiddens_max))\n",
    "\n",
    "                features = tmp.logits.cpu()\n",
    "                #features = np.hstack((features,features_std,features_skew,features_kurt,features_min,features_max))\n",
    "\n",
    "                #last_hiddens_avg=np.array(torch.mean(tmp_proj.projected_states, dim=1).cpu())\n",
    "                #last_hiddens_std=np.array(torch.std(tmp_proj.projected_states, dim=1).cpu())\n",
    "                #last_hiddens_skew=skew(np.array(tmp_proj.projected_states.cpu()), axis=1)\n",
    "                #last_hiddens_kurt=kurtosis(np.array(tmp_proj.projected_states.cpu()), axis=1)\n",
    "                #last_hiddens_min=np.array(torch.min(tmp_proj.projected_states, dim=1)[0].cpu())\n",
    "                #last_hiddens_max=np.array(torch.max(tmp_proj.projected_states, dim=1)[0].cpu())\n",
    "                #last_hiddens_proj=np.hstack((last_hiddens_avg,last_hiddens_std,last_hiddens_skew,last_hiddens_kurt,last_hiddens_min,last_hiddens_max))\n",
    "\n",
    "                #features_avg=np.array(torch.mean(tmp_proj.projected_quantized_states, dim=1).cpu())\n",
    "                #features_std=np.array(torch.std(tmp_proj.projected_quantized_states, dim=1).cpu())\n",
    "                #features_skew=skew(np.array(tmp_proj.projected_quantized_states.cpu()), axis=1)\n",
    "                #features_kurt=kurtosis(np.array(tmp_proj.projected_quantized_states.cpu()), axis=1)\n",
    "                #features_min=np.array(torch.min(tmp_proj.projected_quantized_states, dim=1)[0].cpu())\n",
    "                #features_max=np.array(torch.max(tmp_proj.projected_quantized_states, dim=1)[0].cpu())\n",
    "                #features_proj = np.hstack((features_avg,features_std,features_skew,features_kurt,features_min,features_max))\n",
    "\n",
    "            else:\n",
    "                last_hiddens_avg=np.array(torch.mean(tmp.last_hidden_state, dim=1).cpu())\n",
    "                last_hiddens_std=np.array(torch.std(tmp.last_hidden_state, dim=1).cpu())\n",
    "                last_hiddens_skew=skew(np.array(tmp.last_hidden_state.cpu()), axis=1)\n",
    "                last_hiddens_kurt=kurtosis(np.array(tmp.last_hidden_state.cpu()), axis=1)\n",
    "                last_hiddens_min=np.array(torch.min(tmp.last_hidden_state, dim=1)[0].cpu())\n",
    "                last_hiddens_max=np.array(torch.max(tmp.last_hidden_state, dim=1)[0].cpu())\n",
    "\n",
    "                last_hidden_states=np.hstack((last_hiddens_avg,last_hiddens_std,last_hiddens_skew,last_hiddens_kurt,last_hiddens_min,last_hiddens_max))\n",
    "\n",
    "                features_avg=np.array(torch.mean(tmp.extract_features, dim=1).cpu())\n",
    "                features_std=np.array(torch.std(tmp.extract_features, dim=1).cpu())\n",
    "                features_skew=skew(np.array(tmp.extract_features.cpu()), axis=1)\n",
    "                features_kurt=kurtosis(np.array(tmp.extract_features.cpu()), axis=1)\n",
    "                features_min=np.array(torch.min(tmp.extract_features, dim=1)[0].cpu())\n",
    "                features_max=np.array(torch.max(tmp.extract_features, dim=1)[0].cpu())\n",
    "\n",
    "                features = np.hstack((features_avg,features_std,features_skew,features_kurt,features_min,features_max))\n",
    "\n",
    "                #last_hiddens_avg=np.array(torch.mean(tmp_proj.projected_states, dim=1).cpu())\n",
    "                #last_hiddens_std=np.array(torch.std(tmp_proj.projected_states, dim=1).cpu())\n",
    "                #last_hiddens_skew=skew(np.array(tmp_proj.projected_states.cpu()), axis=1)\n",
    "                #last_hiddens_kurt=kurtosis(np.array(tmp_proj.projected_states.cpu()), axis=1)\n",
    "                #last_hiddens_min=np.array(torch.min(tmp_proj.projected_states, dim=1)[0].cpu())\n",
    "                #last_hiddens_max=np.array(torch.max(tmp_proj.projected_states, dim=1)[0].cpu())\n",
    "                #last_hiddens_proj=np.hstack((last_hiddens_avg,last_hiddens_std,last_hiddens_skew,last_hiddens_kurt,last_hiddens_min,last_hiddens_max))\n",
    "\n",
    "                #features_avg=np.array(torch.mean(tmp_proj.projected_quantized_states, dim=1).cpu())\n",
    "                #features_std=np.array(torch.std(tmp_proj.projected_quantized_states, dim=1).cpu())\n",
    "                #features_skew=skew(np.array(tmp_proj.projected_quantized_states.cpu()), axis=1)\n",
    "                #features_kurt=kurtosis(np.array(tmp_proj.projected_quantized_states.cpu()), axis=1)\n",
    "                #features_min=np.array(torch.min(tmp_proj.projected_quantized_states, dim=1)[0].cpu())\n",
    "                #features_max=np.array(torch.max(tmp_proj.projected_quantized_states, dim=1)[0].cpu())\n",
    "                #features_proj = np.hstack((features_avg,features_std,features_skew,features_kurt,features_min,features_max))\n",
    "\n",
    "        return features[0], last_hidden_states[0]\n",
    "    except:\n",
    "        print('sequence not long enough')\n"
   ]
  },
  {
   "cell_type": "markdown",
   "id": "88d0405c-6d25-4273-be57-34c9fc79120a",
   "metadata": {
    "jp-MarkdownHeadingCollapsed": true,
    "tags": []
   },
   "source": [
    "### Testing a file"
   ]
  },
  {
   "cell_type": "code",
   "execution_count": 6,
   "id": "ef8c6f9a-be14-4b2e-8858-bf7463fa77d2",
   "metadata": {},
   "outputs": [],
   "source": [
    "#test_file = 'data/AIBO/wav/Mont_01_053_00.wav'"
   ]
  },
  {
   "cell_type": "code",
   "execution_count": 8,
   "id": "a96da571-3292-4d91-a519-5f8b03a6c862",
   "metadata": {},
   "outputs": [],
   "source": [
    "#model_name = 'base'\n",
    "#device = 'cpu'\n",
    "#if torch.cuda.is_available():\n",
    " #   device = 'cuda'"
   ]
  },
  {
   "cell_type": "code",
   "execution_count": 9,
   "id": "db72e6ec-ed2e-4122-b6d3-27eb2688145a",
   "metadata": {},
   "outputs": [],
   "source": [
    "#fs, audio=read(test_file)   \n",
    "#audio=(audio-np.mean(audio))/max(audio)\n",
    "#sampling_rate = fs\n",
    "\n",
    "#if model_name=='xlsr':\n",
    " #   feature_extractor = Wav2Vec2FeatureExtractor.from_pretrained(\"facebook/wav2vec2-large-xlsr-53\")\n",
    "  #  model = Wav2Vec2Model.from_pretrained(\"facebook/wav2vec2-large-xlsr-53\").to(device)\n",
    "   # #model_proj = Wav2Vec2ForPreTraining.from_pretrained(\"facebook/wav2vec2-large-xlsr-53\").to(device)\n",
    "#elif model_name=='base':\n",
    " #   feature_extractor = Wav2Vec2FeatureExtractor.from_pretrained(\"facebook/wav2vec2-base-960h\")   \n",
    "  #  model = Wav2Vec2Model.from_pretrained(\"facebook/wav2vec2-base-960h\").to(device)\n",
    "   # #model_proj = Wav2Vec2ForPreTraining.from_pretrained(\"facebook/wav2vec2-base-960h\").to(device)\n",
    "#elif model_name=='xvec':\n",
    " #   feature_extractor = Wav2Vec2FeatureExtractor.from_pretrained(\"anton-l/wav2vec2-base-superb-sv\")        \n",
    "  #  model = Wav2Vec2ForXVector.from_pretrained(\"anton-l/wav2vec2-base-superb-sv\").to(device)\n",
    "    #feature_extractor = Wav2Vec2FeatureExtractor.from_pretrained(\"superb/wav2vec2-base-superb-er\")  # size mistmatch        \n",
    "    #model = Wav2Vec2ForXVector.from_pretrained(\"superb/wav2vec2-base-superb-er\").to(device)\n",
    "    #model_proj = Wav2Vec2ForPreTraining.from_pretrained(\"anton-l/wav2vec2-base-superb-sv\").to(device)"
   ]
  },
  {
   "cell_type": "code",
   "execution_count": 10,
   "id": "cb85582c-12db-4939-8d67-7b7cf7d583c1",
   "metadata": {
    "tags": []
   },
   "outputs": [
    {
     "data": {
      "text/plain": [
       "'\\n    else:\\n        last_hiddens_avg=np.array(torch.mean(tmp.last_hidden_state, dim=1).cpu())\\n        last_hiddens_std=np.array(torch.std(tmp.last_hidden_state, dim=1).cpu())\\n        last_hiddens_skew=skew(np.array(tmp.last_hidden_state.cpu()), axis=1)\\n        last_hiddens_kurt=kurtosis(np.array(tmp.last_hidden_state.cpu()), axis=1)\\n        last_hiddens_min=np.array(torch.min(tmp.last_hidden_state, dim=1)[0].cpu())\\n        last_hiddens_max=np.array(torch.max(tmp.last_hidden_state, dim=1)[0].cpu())\\n\\n        last_hidden_states=np.hstack((last_hiddens_avg,last_hiddens_std,last_hiddens_skew,last_hiddens_kurt,last_hiddens_min,last_hiddens_max))\\n\\n        features_avg=np.array(torch.mean(tmp.extract_features, dim=1).cpu())\\n        features_std=np.array(torch.std(tmp.extract_features, dim=1).cpu())\\n        features_skew=skew(np.array(tmp.extract_features.cpu()), axis=1)\\n        features_kurt=kurtosis(np.array(tmp.extract_features.cpu()), axis=1)\\n        features_min=np.array(torch.min(tmp.extract_features, dim=1)[0].cpu())\\n        features_max=np.array(torch.max(tmp.extract_features, dim=1)[0].cpu())\\n\\n        features = np.hstack((features_avg,features_std,features_skew,features_kurt,features_min,features_max))\\n\\n        #last_hiddens_avg=np.array(torch.mean(tmp_proj.projected_states, dim=1).cpu())\\n        #last_hiddens_std=np.array(torch.std(tmp_proj.projected_states, dim=1).cpu())\\n        #last_hiddens_skew=skew(np.array(tmp_proj.projected_states.cpu()), axis=1)\\n        #last_hiddens_kurt=kurtosis(np.array(tmp_proj.projected_states.cpu()), axis=1)\\n        #last_hiddens_min=np.array(torch.min(tmp_proj.projected_states, dim=1)[0].cpu())\\n        #last_hiddens_max=np.array(torch.max(tmp_proj.projected_states, dim=1)[0].cpu())\\n        #last_hiddens_proj=np.hstack((last_hiddens_avg,last_hiddens_std,last_hiddens_skew,last_hiddens_kurt,last_hiddens_min,last_hiddens_max))\\n\\n        #features_avg=np.array(torch.mean(tmp_proj.projected_quantized_states, dim=1).cpu())\\n        #features_std=np.array(torch.std(tmp_proj.projected_quantized_states, dim=1).cpu())\\n        #features_skew=skew(np.array(tmp_proj.projected_quantized_states.cpu()), axis=1)\\n        #features_kurt=kurtosis(np.array(tmp_proj.projected_quantized_states.cpu()), axis=1)\\n        #features_min=np.array(torch.min(tmp_proj.projected_quantized_states, dim=1)[0].cpu())\\n        #features_max=np.array(torch.max(tmp_proj.projected_quantized_states, dim=1)[0].cpu())\\n        #features_proj = np.hstack((features_avg,features_std,features_skew,features_kurt,features_min,features_max))\\n\\nprint(features[0], last_hidden_states[0])\\n'"
      ]
     },
     "execution_count": 10,
     "metadata": {},
     "output_type": "execute_result"
    }
   ],
   "source": [
    "# audio file is decoded on the fly\n",
    "#input_values = feature_extractor(np.array(audio, dtype=float), sampling_rate=fs, return_tensors=\"pt\", padding=True).to(device).input_values\n",
    "#input_values_all = feature_extractor(np.array(audio, dtype=float), sampling_rate=fs, return_tensors=\"pt\", padding=True)\n",
    "\n",
    "# compute masked indices\n",
    "#batch_size, raw_sequence_length = input_values.shape\n",
    "#sequence_length = model._get_feat_extract_output_lengths(raw_sequence_length)\n",
    "#mask_time_indices = _compute_mask_indices((batch_size, sequence_length), mask_prob=0.2, mask_length=2)\n",
    "#mask_time_indices = torch.tensor(mask_time_indices, device=input_values.device, dtype=torch.long)\n",
    "\n",
    "#with torch.inference_mode():\n",
    "           \n",
    " #   tmp = model(**input_values_all.to(device))\n",
    "    #tmp_proj=model_proj(input_values.to(device), mask_time_indices=mask_time_indices.to(device) )\n",
    "  #  if model_name=='xvec':\n",
    "   #     last_hidden_states = tmp.embeddings.cpu()\n",
    "        #last_hidden_states=np.hstack((last_hiddens_avg,last_hiddens_std,last_hiddens_skew,last_hiddens_kurt,last_hiddens_min,last_hiddens_max))\n",
    "\n",
    "    #    features = tmp.logits.cpu()\n",
    "        #features = np.hstack((features,features_std,features_skew,features_kurt,features_min,features_max))\n",
    "\n",
    "        #last_hiddens_avg=np.array(torch.mean(tmp_proj.projected_states, dim=1).cpu())\n",
    "        #last_hiddens_std=np.array(torch.std(tmp_proj.projected_states, dim=1).cpu())\n",
    "        #last_hiddens_skew=skew(np.array(tmp_proj.projected_states.cpu()), axis=1)\n",
    "        #last_hiddens_kurt=kurtosis(np.array(tmp_proj.projected_states.cpu()), axis=1)\n",
    "        #last_hiddens_min=np.array(torch.min(tmp_proj.projected_states, dim=1)[0].cpu())\n",
    "        #last_hiddens_max=np.array(torch.max(tmp_proj.projected_states, dim=1)[0].cpu())\n",
    "        #last_hiddens_proj=np.hstack((last_hiddens_avg,last_hiddens_std,last_hiddens_skew,last_hiddens_kurt,last_hiddens_min,last_hiddens_max))\n",
    "\n",
    "        #features_avg=np.array(torch.mean(tmp_proj.projected_quantized_states, dim=1).cpu())\n",
    "        #features_std=np.array(torch.std(tmp_proj.projected_quantized_states, dim=1).cpu())\n",
    "        #features_skew=skew(np.array(tmp_proj.projected_quantized_states.cpu()), axis=1)\n",
    "        #features_kurt=kurtosis(np.array(tmp_proj.projected_quantized_states.cpu()), axis=1)\n",
    "        #features_min=np.array(torch.min(tmp_proj.projected_quantized_states, dim=1)[0].cpu())\n",
    "        #features_max=np.array(torch.max(tmp_proj.projected_quantized_states, dim=1)[0].cpu())\n",
    "        #features_proj = np.hstack((features_avg,features_std,features_skew,features_kurt,features_min,features_max))\n",
    "'''\n",
    "    else:\n",
    "        last_hiddens_avg=np.array(torch.mean(tmp.last_hidden_state, dim=1).cpu())\n",
    "        last_hiddens_std=np.array(torch.std(tmp.last_hidden_state, dim=1).cpu())\n",
    "        last_hiddens_skew=skew(np.array(tmp.last_hidden_state.cpu()), axis=1)\n",
    "        last_hiddens_kurt=kurtosis(np.array(tmp.last_hidden_state.cpu()), axis=1)\n",
    "        last_hiddens_min=np.array(torch.min(tmp.last_hidden_state, dim=1)[0].cpu())\n",
    "        last_hiddens_max=np.array(torch.max(tmp.last_hidden_state, dim=1)[0].cpu())\n",
    "\n",
    "        last_hidden_states=np.hstack((last_hiddens_avg,last_hiddens_std,last_hiddens_skew,last_hiddens_kurt,last_hiddens_min,last_hiddens_max))\n",
    "\n",
    "        features_avg=np.array(torch.mean(tmp.extract_features, dim=1).cpu())\n",
    "        features_std=np.array(torch.std(tmp.extract_features, dim=1).cpu())\n",
    "        features_skew=skew(np.array(tmp.extract_features.cpu()), axis=1)\n",
    "        features_kurt=kurtosis(np.array(tmp.extract_features.cpu()), axis=1)\n",
    "        features_min=np.array(torch.min(tmp.extract_features, dim=1)[0].cpu())\n",
    "        features_max=np.array(torch.max(tmp.extract_features, dim=1)[0].cpu())\n",
    "\n",
    "        features = np.hstack((features_avg,features_std,features_skew,features_kurt,features_min,features_max))\n",
    "\n",
    "        #last_hiddens_avg=np.array(torch.mean(tmp_proj.projected_states, dim=1).cpu())\n",
    "        #last_hiddens_std=np.array(torch.std(tmp_proj.projected_states, dim=1).cpu())\n",
    "        #last_hiddens_skew=skew(np.array(tmp_proj.projected_states.cpu()), axis=1)\n",
    "        #last_hiddens_kurt=kurtosis(np.array(tmp_proj.projected_states.cpu()), axis=1)\n",
    "        #last_hiddens_min=np.array(torch.min(tmp_proj.projected_states, dim=1)[0].cpu())\n",
    "        #last_hiddens_max=np.array(torch.max(tmp_proj.projected_states, dim=1)[0].cpu())\n",
    "        #last_hiddens_proj=np.hstack((last_hiddens_avg,last_hiddens_std,last_hiddens_skew,last_hiddens_kurt,last_hiddens_min,last_hiddens_max))\n",
    "\n",
    "        #features_avg=np.array(torch.mean(tmp_proj.projected_quantized_states, dim=1).cpu())\n",
    "        #features_std=np.array(torch.std(tmp_proj.projected_quantized_states, dim=1).cpu())\n",
    "        #features_skew=skew(np.array(tmp_proj.projected_quantized_states.cpu()), axis=1)\n",
    "        #features_kurt=kurtosis(np.array(tmp_proj.projected_quantized_states.cpu()), axis=1)\n",
    "        #features_min=np.array(torch.min(tmp_proj.projected_quantized_states, dim=1)[0].cpu())\n",
    "        #features_max=np.array(torch.max(tmp_proj.projected_quantized_states, dim=1)[0].cpu())\n",
    "        #features_proj = np.hstack((features_avg,features_std,features_skew,features_kurt,features_min,features_max))\n",
    "\n",
    "print(features[0], last_hidden_states[0])\n",
    "'''"
   ]
  },
  {
   "cell_type": "markdown",
   "id": "885edf09-cdbf-472c-abfe-d1b209add853",
   "metadata": {
    "jp-MarkdownHeadingCollapsed": true,
    "tags": []
   },
   "source": [
    "## Creating .csv"
   ]
  },
  {
   "cell_type": "code",
   "execution_count": 7,
   "id": "219ba04e-0f90-47c5-a501-2b37e201249f",
   "metadata": {
    "tags": []
   },
   "outputs": [],
   "source": [
    "full_labels_df = pd.read_csv(icp_path + \"metadata.csv\")\n",
    "# Create a column for gender\n",
    "full_labels_df['gender'] = full_labels_df.ID.str[-1:]\n",
    "# Convert gender to numeric\n",
    "full_labels_df['gender'] = full_labels_df['gender'].map(dict(zip(['M', 'F'], [0, 1])))\n",
    "# emotions = np.array(['ang', 'hap', 'sad', 'neu', 'fru', 'exc', 'fea', 'sur', 'dis'])\n",
    "# filt_df = labels_df[labels_df['emotion'].isin(emotions)]\n",
    "#iemocap_list = labels_df[['File Name', 'emotion', 'gender']].copy()  # wav_file, label\n",
    "full_labels_df['session'] = full_labels_df['ID'].str[1:2]\n",
    "full_labels_df['path'] = icp_path + \"Session\" + full_labels_df['session'] + \"/\" + full_labels_df['File Name'] + \".wav\""
   ]
  },
  {
   "cell_type": "code",
   "execution_count": 8,
   "id": "883c5cd5-6763-47c2-892d-555a8db4af6e",
   "metadata": {
    "tags": []
   },
   "outputs": [],
   "source": [
    "#USED_CLASSES = [\"neu\", \"hap\", \"sad\", \"ang\", \"fru\", \"exc\"]\n",
    "USED_CLASSES = [\"neu\", \"hap\", \"sad\", \"fru\", \"ang\"]\n",
    "CLASS_TO_ID = {\"neu\": 0, \"hap\": 1, \"sad\": 2, \"fru\": 3, \"ang\": 4}"
   ]
  },
  {
   "cell_type": "code",
   "execution_count": 9,
   "id": "f4a68d12-fb95-4db6-bed3-c9141710485a",
   "metadata": {},
   "outputs": [],
   "source": [
    "full_labels_df[\"session\"] = pd.to_numeric(full_labels_df[\"session\"])"
   ]
  },
  {
   "cell_type": "code",
   "execution_count": 10,
   "id": "9d545319-181e-4371-b7b2-70d5059843fb",
   "metadata": {},
   "outputs": [],
   "source": [
    "train_index = [1,3,5]\n",
    "test_index = 4\n",
    "val_index = 2"
   ]
  },
  {
   "cell_type": "code",
   "execution_count": 11,
   "id": "5f23664b-da0c-4edf-a313-9f004353e0a9",
   "metadata": {},
   "outputs": [],
   "source": [
    "full_labels_df['split']=full_labels_df['session'].apply(lambda x: 'test' if x == test_index else ('val' if x == val_index else 'train'))"
   ]
  },
  {
   "cell_type": "code",
   "execution_count": 12,
   "id": "7fe6b151-6fc7-42ab-b1c9-cb0421a3b6da",
   "metadata": {},
   "outputs": [],
   "source": [
    "# merge \"exc\" into \"hap\"\n",
    "full_labels_df.loc[full_labels_df['emotion'] == 'exc', 'emotion'] = 'hap'"
   ]
  },
  {
   "cell_type": "code",
   "execution_count": 13,
   "id": "8c0e0c41-95e0-4a0b-9a17-285e4af53071",
   "metadata": {},
   "outputs": [],
   "source": [
    "full_labels_df['lb'] = full_labels_df['emotion'].map(CLASS_TO_ID)"
   ]
  },
  {
   "cell_type": "code",
   "execution_count": 14,
   "id": "aae749f5-337e-46fa-a310-a75515277693",
   "metadata": {},
   "outputs": [
    {
     "data": {
      "text/plain": [
       "xxx    2507\n",
       "sur     107\n",
       "fea      40\n",
       "oth       3\n",
       "dis       2\n",
       "Name: emotion, dtype: int64"
      ]
     },
     "execution_count": 14,
     "metadata": {},
     "output_type": "execute_result"
    }
   ],
   "source": [
    "filtered_df = full_labels_df[full_labels_df['lb'].isnull()]\n",
    "filtered_df.emotion.value_counts()"
   ]
  },
  {
   "cell_type": "code",
   "execution_count": 15,
   "id": "deac3cd4-d430-4402-a9f0-33acb4faeba6",
   "metadata": {},
   "outputs": [],
   "source": [
    "labels_df = full_labels_df[full_labels_df['emotion'].isin(USED_CLASSES)]"
   ]
  },
  {
   "cell_type": "code",
   "execution_count": 16,
   "id": "33ce9a1e-3133-4a4f-a7ca-38a95769989e",
   "metadata": {},
   "outputs": [
    {
     "data": {
      "text/html": [
       "<div>\n",
       "<style scoped>\n",
       "    .dataframe tbody tr th:only-of-type {\n",
       "        vertical-align: middle;\n",
       "    }\n",
       "\n",
       "    .dataframe tbody tr th {\n",
       "        vertical-align: top;\n",
       "    }\n",
       "\n",
       "    .dataframe thead th {\n",
       "        text-align: right;\n",
       "    }\n",
       "</style>\n",
       "<table border=\"1\" class=\"dataframe\">\n",
       "  <thead>\n",
       "    <tr style=\"text-align: right;\">\n",
       "      <th></th>\n",
       "      <th>ID</th>\n",
       "      <th>File Name</th>\n",
       "      <th>arousal</th>\n",
       "      <th>dominance</th>\n",
       "      <th>emotion</th>\n",
       "      <th>valence</th>\n",
       "      <th>Quadrant</th>\n",
       "      <th>gender</th>\n",
       "      <th>session</th>\n",
       "      <th>path</th>\n",
       "      <th>split</th>\n",
       "      <th>lb</th>\n",
       "    </tr>\n",
       "  </thead>\n",
       "  <tbody>\n",
       "    <tr>\n",
       "      <th>5767</th>\n",
       "      <td>04F</td>\n",
       "      <td>Ses04F_impro01_F001</td>\n",
       "      <td>2.5</td>\n",
       "      <td>4.0</td>\n",
       "      <td>fru</td>\n",
       "      <td>4.0</td>\n",
       "      <td>0</td>\n",
       "      <td>1</td>\n",
       "      <td>4</td>\n",
       "      <td>data/IEMOCAP/Session4/Ses04F_impro01_F001.wav</td>\n",
       "      <td>test</td>\n",
       "      <td>3.0</td>\n",
       "    </tr>\n",
       "    <tr>\n",
       "      <th>5768</th>\n",
       "      <td>04F</td>\n",
       "      <td>Ses04F_impro01_F002</td>\n",
       "      <td>2.0</td>\n",
       "      <td>4.5</td>\n",
       "      <td>fru</td>\n",
       "      <td>4.5</td>\n",
       "      <td>3</td>\n",
       "      <td>1</td>\n",
       "      <td>4</td>\n",
       "      <td>data/IEMOCAP/Session4/Ses04F_impro01_F002.wav</td>\n",
       "      <td>test</td>\n",
       "      <td>3.0</td>\n",
       "    </tr>\n",
       "    <tr>\n",
       "      <th>5769</th>\n",
       "      <td>04F</td>\n",
       "      <td>Ses04F_impro01_F003</td>\n",
       "      <td>2.5</td>\n",
       "      <td>4.5</td>\n",
       "      <td>fru</td>\n",
       "      <td>4.0</td>\n",
       "      <td>0</td>\n",
       "      <td>1</td>\n",
       "      <td>4</td>\n",
       "      <td>data/IEMOCAP/Session4/Ses04F_impro01_F003.wav</td>\n",
       "      <td>test</td>\n",
       "      <td>3.0</td>\n",
       "    </tr>\n",
       "    <tr>\n",
       "      <th>5770</th>\n",
       "      <td>04F</td>\n",
       "      <td>Ses04F_impro01_F004</td>\n",
       "      <td>2.0</td>\n",
       "      <td>4.5</td>\n",
       "      <td>ang</td>\n",
       "      <td>4.0</td>\n",
       "      <td>3</td>\n",
       "      <td>1</td>\n",
       "      <td>4</td>\n",
       "      <td>data/IEMOCAP/Session4/Ses04F_impro01_F004.wav</td>\n",
       "      <td>test</td>\n",
       "      <td>4.0</td>\n",
       "    </tr>\n",
       "    <tr>\n",
       "      <th>5771</th>\n",
       "      <td>04F</td>\n",
       "      <td>Ses04F_impro01_F005</td>\n",
       "      <td>1.5</td>\n",
       "      <td>4.5</td>\n",
       "      <td>fru</td>\n",
       "      <td>4.0</td>\n",
       "      <td>3</td>\n",
       "      <td>1</td>\n",
       "      <td>4</td>\n",
       "      <td>data/IEMOCAP/Session4/Ses04F_impro01_F005.wav</td>\n",
       "      <td>test</td>\n",
       "      <td>3.0</td>\n",
       "    </tr>\n",
       "    <tr>\n",
       "      <th>...</th>\n",
       "      <td>...</td>\n",
       "      <td>...</td>\n",
       "      <td>...</td>\n",
       "      <td>...</td>\n",
       "      <td>...</td>\n",
       "      <td>...</td>\n",
       "      <td>...</td>\n",
       "      <td>...</td>\n",
       "      <td>...</td>\n",
       "      <td>...</td>\n",
       "      <td>...</td>\n",
       "      <td>...</td>\n",
       "    </tr>\n",
       "    <tr>\n",
       "      <th>7864</th>\n",
       "      <td>04M</td>\n",
       "      <td>Ses04M_script03_2_M052</td>\n",
       "      <td>2.5</td>\n",
       "      <td>4.0</td>\n",
       "      <td>ang</td>\n",
       "      <td>4.5</td>\n",
       "      <td>0</td>\n",
       "      <td>0</td>\n",
       "      <td>4</td>\n",
       "      <td>data/IEMOCAP/Session4/Ses04M_script03_2_M052.wav</td>\n",
       "      <td>test</td>\n",
       "      <td>4.0</td>\n",
       "    </tr>\n",
       "    <tr>\n",
       "      <th>7865</th>\n",
       "      <td>04M</td>\n",
       "      <td>Ses04M_script03_2_M053</td>\n",
       "      <td>1.5</td>\n",
       "      <td>4.0</td>\n",
       "      <td>ang</td>\n",
       "      <td>4.0</td>\n",
       "      <td>3</td>\n",
       "      <td>0</td>\n",
       "      <td>4</td>\n",
       "      <td>data/IEMOCAP/Session4/Ses04M_script03_2_M053.wav</td>\n",
       "      <td>test</td>\n",
       "      <td>4.0</td>\n",
       "    </tr>\n",
       "    <tr>\n",
       "      <th>7866</th>\n",
       "      <td>04M</td>\n",
       "      <td>Ses04M_script03_2_M054</td>\n",
       "      <td>1.5</td>\n",
       "      <td>4.0</td>\n",
       "      <td>ang</td>\n",
       "      <td>4.0</td>\n",
       "      <td>3</td>\n",
       "      <td>0</td>\n",
       "      <td>4</td>\n",
       "      <td>data/IEMOCAP/Session4/Ses04M_script03_2_M054.wav</td>\n",
       "      <td>test</td>\n",
       "      <td>4.0</td>\n",
       "    </tr>\n",
       "    <tr>\n",
       "      <th>7867</th>\n",
       "      <td>04M</td>\n",
       "      <td>Ses04M_script03_2_M055</td>\n",
       "      <td>1.5</td>\n",
       "      <td>4.0</td>\n",
       "      <td>ang</td>\n",
       "      <td>4.0</td>\n",
       "      <td>3</td>\n",
       "      <td>0</td>\n",
       "      <td>4</td>\n",
       "      <td>data/IEMOCAP/Session4/Ses04M_script03_2_M055.wav</td>\n",
       "      <td>test</td>\n",
       "      <td>4.0</td>\n",
       "    </tr>\n",
       "    <tr>\n",
       "      <th>7868</th>\n",
       "      <td>04M</td>\n",
       "      <td>Ses04M_script03_2_M056</td>\n",
       "      <td>1.5</td>\n",
       "      <td>4.5</td>\n",
       "      <td>ang</td>\n",
       "      <td>4.5</td>\n",
       "      <td>3</td>\n",
       "      <td>0</td>\n",
       "      <td>4</td>\n",
       "      <td>data/IEMOCAP/Session4/Ses04M_script03_2_M056.wav</td>\n",
       "      <td>test</td>\n",
       "      <td>4.0</td>\n",
       "    </tr>\n",
       "  </tbody>\n",
       "</table>\n",
       "<p>1512 rows × 12 columns</p>\n",
       "</div>"
      ],
      "text/plain": [
       "       ID               File Name  arousal  dominance emotion  valence  \\\n",
       "5767  04F     Ses04F_impro01_F001      2.5        4.0     fru      4.0   \n",
       "5768  04F     Ses04F_impro01_F002      2.0        4.5     fru      4.5   \n",
       "5769  04F     Ses04F_impro01_F003      2.5        4.5     fru      4.0   \n",
       "5770  04F     Ses04F_impro01_F004      2.0        4.5     ang      4.0   \n",
       "5771  04F     Ses04F_impro01_F005      1.5        4.5     fru      4.0   \n",
       "...   ...                     ...      ...        ...     ...      ...   \n",
       "7864  04M  Ses04M_script03_2_M052      2.5        4.0     ang      4.5   \n",
       "7865  04M  Ses04M_script03_2_M053      1.5        4.0     ang      4.0   \n",
       "7866  04M  Ses04M_script03_2_M054      1.5        4.0     ang      4.0   \n",
       "7867  04M  Ses04M_script03_2_M055      1.5        4.0     ang      4.0   \n",
       "7868  04M  Ses04M_script03_2_M056      1.5        4.5     ang      4.5   \n",
       "\n",
       "      Quadrant  gender  session  \\\n",
       "5767         0       1        4   \n",
       "5768         3       1        4   \n",
       "5769         0       1        4   \n",
       "5770         3       1        4   \n",
       "5771         3       1        4   \n",
       "...        ...     ...      ...   \n",
       "7864         0       0        4   \n",
       "7865         3       0        4   \n",
       "7866         3       0        4   \n",
       "7867         3       0        4   \n",
       "7868         3       0        4   \n",
       "\n",
       "                                                  path split   lb  \n",
       "5767     data/IEMOCAP/Session4/Ses04F_impro01_F001.wav  test  3.0  \n",
       "5768     data/IEMOCAP/Session4/Ses04F_impro01_F002.wav  test  3.0  \n",
       "5769     data/IEMOCAP/Session4/Ses04F_impro01_F003.wav  test  3.0  \n",
       "5770     data/IEMOCAP/Session4/Ses04F_impro01_F004.wav  test  4.0  \n",
       "5771     data/IEMOCAP/Session4/Ses04F_impro01_F005.wav  test  3.0  \n",
       "...                                                ...   ...  ...  \n",
       "7864  data/IEMOCAP/Session4/Ses04M_script03_2_M052.wav  test  4.0  \n",
       "7865  data/IEMOCAP/Session4/Ses04M_script03_2_M053.wav  test  4.0  \n",
       "7866  data/IEMOCAP/Session4/Ses04M_script03_2_M054.wav  test  4.0  \n",
       "7867  data/IEMOCAP/Session4/Ses04M_script03_2_M055.wav  test  4.0  \n",
       "7868  data/IEMOCAP/Session4/Ses04M_script03_2_M056.wav  test  4.0  \n",
       "\n",
       "[1512 rows x 12 columns]"
      ]
     },
     "execution_count": 16,
     "metadata": {},
     "output_type": "execute_result"
    }
   ],
   "source": [
    "labels_df[labels_df.split=='test']"
   ]
  },
  {
   "cell_type": "code",
   "execution_count": 17,
   "id": "5a52ccb5-398d-4342-b891-179d50d3f008",
   "metadata": {},
   "outputs": [
    {
     "data": {
      "text/html": [
       "<div>\n",
       "<style scoped>\n",
       "    .dataframe tbody tr th:only-of-type {\n",
       "        vertical-align: middle;\n",
       "    }\n",
       "\n",
       "    .dataframe tbody tr th {\n",
       "        vertical-align: top;\n",
       "    }\n",
       "\n",
       "    .dataframe thead th {\n",
       "        text-align: right;\n",
       "    }\n",
       "</style>\n",
       "<table border=\"1\" class=\"dataframe\">\n",
       "  <thead>\n",
       "    <tr style=\"text-align: right;\">\n",
       "      <th></th>\n",
       "      <th>ID</th>\n",
       "      <th>File Name</th>\n",
       "      <th>arousal</th>\n",
       "      <th>dominance</th>\n",
       "      <th>emotion</th>\n",
       "      <th>valence</th>\n",
       "      <th>Quadrant</th>\n",
       "      <th>gender</th>\n",
       "      <th>session</th>\n",
       "      <th>path</th>\n",
       "      <th>split</th>\n",
       "      <th>lb</th>\n",
       "    </tr>\n",
       "  </thead>\n",
       "  <tbody>\n",
       "    <tr>\n",
       "      <th>1819</th>\n",
       "      <td>02F</td>\n",
       "      <td>Ses02F_impro01_F000</td>\n",
       "      <td>4.0</td>\n",
       "      <td>2.0</td>\n",
       "      <td>neu</td>\n",
       "      <td>3.0</td>\n",
       "      <td>0</td>\n",
       "      <td>1</td>\n",
       "      <td>2</td>\n",
       "      <td>data/IEMOCAP/Session2/Ses02F_impro01_F000.wav</td>\n",
       "      <td>val</td>\n",
       "      <td>0.0</td>\n",
       "    </tr>\n",
       "    <tr>\n",
       "      <th>1822</th>\n",
       "      <td>02F</td>\n",
       "      <td>Ses02F_impro01_F003</td>\n",
       "      <td>2.0</td>\n",
       "      <td>2.5</td>\n",
       "      <td>fru</td>\n",
       "      <td>3.5</td>\n",
       "      <td>3</td>\n",
       "      <td>1</td>\n",
       "      <td>2</td>\n",
       "      <td>data/IEMOCAP/Session2/Ses02F_impro01_F003.wav</td>\n",
       "      <td>val</td>\n",
       "      <td>3.0</td>\n",
       "    </tr>\n",
       "    <tr>\n",
       "      <th>1823</th>\n",
       "      <td>02F</td>\n",
       "      <td>Ses02F_impro01_F004</td>\n",
       "      <td>2.0</td>\n",
       "      <td>2.0</td>\n",
       "      <td>fru</td>\n",
       "      <td>3.5</td>\n",
       "      <td>3</td>\n",
       "      <td>1</td>\n",
       "      <td>2</td>\n",
       "      <td>data/IEMOCAP/Session2/Ses02F_impro01_F004.wav</td>\n",
       "      <td>val</td>\n",
       "      <td>3.0</td>\n",
       "    </tr>\n",
       "    <tr>\n",
       "      <th>1824</th>\n",
       "      <td>02F</td>\n",
       "      <td>Ses02F_impro01_F005</td>\n",
       "      <td>2.0</td>\n",
       "      <td>3.0</td>\n",
       "      <td>fru</td>\n",
       "      <td>3.5</td>\n",
       "      <td>3</td>\n",
       "      <td>1</td>\n",
       "      <td>2</td>\n",
       "      <td>data/IEMOCAP/Session2/Ses02F_impro01_F005.wav</td>\n",
       "      <td>val</td>\n",
       "      <td>3.0</td>\n",
       "    </tr>\n",
       "    <tr>\n",
       "      <th>1825</th>\n",
       "      <td>02F</td>\n",
       "      <td>Ses02F_impro01_F006</td>\n",
       "      <td>2.0</td>\n",
       "      <td>2.5</td>\n",
       "      <td>fru</td>\n",
       "      <td>3.0</td>\n",
       "      <td>3</td>\n",
       "      <td>1</td>\n",
       "      <td>2</td>\n",
       "      <td>data/IEMOCAP/Session2/Ses02F_impro01_F006.wav</td>\n",
       "      <td>val</td>\n",
       "      <td>3.0</td>\n",
       "    </tr>\n",
       "    <tr>\n",
       "      <th>...</th>\n",
       "      <td>...</td>\n",
       "      <td>...</td>\n",
       "      <td>...</td>\n",
       "      <td>...</td>\n",
       "      <td>...</td>\n",
       "      <td>...</td>\n",
       "      <td>...</td>\n",
       "      <td>...</td>\n",
       "      <td>...</td>\n",
       "      <td>...</td>\n",
       "      <td>...</td>\n",
       "      <td>...</td>\n",
       "    </tr>\n",
       "    <tr>\n",
       "      <th>3625</th>\n",
       "      <td>02M</td>\n",
       "      <td>Ses02M_script03_2_M043</td>\n",
       "      <td>2.0</td>\n",
       "      <td>4.0</td>\n",
       "      <td>ang</td>\n",
       "      <td>2.5</td>\n",
       "      <td>3</td>\n",
       "      <td>0</td>\n",
       "      <td>2</td>\n",
       "      <td>data/IEMOCAP/Session2/Ses02M_script03_2_M043.wav</td>\n",
       "      <td>val</td>\n",
       "      <td>4.0</td>\n",
       "    </tr>\n",
       "    <tr>\n",
       "      <th>3626</th>\n",
       "      <td>02M</td>\n",
       "      <td>Ses02M_script03_2_M044</td>\n",
       "      <td>1.5</td>\n",
       "      <td>4.0</td>\n",
       "      <td>ang</td>\n",
       "      <td>2.5</td>\n",
       "      <td>3</td>\n",
       "      <td>0</td>\n",
       "      <td>2</td>\n",
       "      <td>data/IEMOCAP/Session2/Ses02M_script03_2_M044.wav</td>\n",
       "      <td>val</td>\n",
       "      <td>4.0</td>\n",
       "    </tr>\n",
       "    <tr>\n",
       "      <th>3627</th>\n",
       "      <td>02M</td>\n",
       "      <td>Ses02M_script03_2_M045</td>\n",
       "      <td>2.0</td>\n",
       "      <td>3.5</td>\n",
       "      <td>ang</td>\n",
       "      <td>3.5</td>\n",
       "      <td>3</td>\n",
       "      <td>0</td>\n",
       "      <td>2</td>\n",
       "      <td>data/IEMOCAP/Session2/Ses02M_script03_2_M045.wav</td>\n",
       "      <td>val</td>\n",
       "      <td>4.0</td>\n",
       "    </tr>\n",
       "    <tr>\n",
       "      <th>3628</th>\n",
       "      <td>02M</td>\n",
       "      <td>Ses02M_script03_2_M046</td>\n",
       "      <td>2.5</td>\n",
       "      <td>4.0</td>\n",
       "      <td>ang</td>\n",
       "      <td>3.5</td>\n",
       "      <td>0</td>\n",
       "      <td>0</td>\n",
       "      <td>2</td>\n",
       "      <td>data/IEMOCAP/Session2/Ses02M_script03_2_M046.wav</td>\n",
       "      <td>val</td>\n",
       "      <td>4.0</td>\n",
       "    </tr>\n",
       "    <tr>\n",
       "      <th>3629</th>\n",
       "      <td>02M</td>\n",
       "      <td>Ses02M_script03_2_M047</td>\n",
       "      <td>1.5</td>\n",
       "      <td>5.0</td>\n",
       "      <td>ang</td>\n",
       "      <td>4.5</td>\n",
       "      <td>3</td>\n",
       "      <td>0</td>\n",
       "      <td>2</td>\n",
       "      <td>data/IEMOCAP/Session2/Ses02M_script03_2_M047.wav</td>\n",
       "      <td>val</td>\n",
       "      <td>4.0</td>\n",
       "    </tr>\n",
       "  </tbody>\n",
       "</table>\n",
       "<p>1348 rows × 12 columns</p>\n",
       "</div>"
      ],
      "text/plain": [
       "       ID               File Name  arousal  dominance emotion  valence  \\\n",
       "1819  02F     Ses02F_impro01_F000      4.0        2.0     neu      3.0   \n",
       "1822  02F     Ses02F_impro01_F003      2.0        2.5     fru      3.5   \n",
       "1823  02F     Ses02F_impro01_F004      2.0        2.0     fru      3.5   \n",
       "1824  02F     Ses02F_impro01_F005      2.0        3.0     fru      3.5   \n",
       "1825  02F     Ses02F_impro01_F006      2.0        2.5     fru      3.0   \n",
       "...   ...                     ...      ...        ...     ...      ...   \n",
       "3625  02M  Ses02M_script03_2_M043      2.0        4.0     ang      2.5   \n",
       "3626  02M  Ses02M_script03_2_M044      1.5        4.0     ang      2.5   \n",
       "3627  02M  Ses02M_script03_2_M045      2.0        3.5     ang      3.5   \n",
       "3628  02M  Ses02M_script03_2_M046      2.5        4.0     ang      3.5   \n",
       "3629  02M  Ses02M_script03_2_M047      1.5        5.0     ang      4.5   \n",
       "\n",
       "      Quadrant  gender  session  \\\n",
       "1819         0       1        2   \n",
       "1822         3       1        2   \n",
       "1823         3       1        2   \n",
       "1824         3       1        2   \n",
       "1825         3       1        2   \n",
       "...        ...     ...      ...   \n",
       "3625         3       0        2   \n",
       "3626         3       0        2   \n",
       "3627         3       0        2   \n",
       "3628         0       0        2   \n",
       "3629         3       0        2   \n",
       "\n",
       "                                                  path split   lb  \n",
       "1819     data/IEMOCAP/Session2/Ses02F_impro01_F000.wav   val  0.0  \n",
       "1822     data/IEMOCAP/Session2/Ses02F_impro01_F003.wav   val  3.0  \n",
       "1823     data/IEMOCAP/Session2/Ses02F_impro01_F004.wav   val  3.0  \n",
       "1824     data/IEMOCAP/Session2/Ses02F_impro01_F005.wav   val  3.0  \n",
       "1825     data/IEMOCAP/Session2/Ses02F_impro01_F006.wav   val  3.0  \n",
       "...                                                ...   ...  ...  \n",
       "3625  data/IEMOCAP/Session2/Ses02M_script03_2_M043.wav   val  4.0  \n",
       "3626  data/IEMOCAP/Session2/Ses02M_script03_2_M044.wav   val  4.0  \n",
       "3627  data/IEMOCAP/Session2/Ses02M_script03_2_M045.wav   val  4.0  \n",
       "3628  data/IEMOCAP/Session2/Ses02M_script03_2_M046.wav   val  4.0  \n",
       "3629  data/IEMOCAP/Session2/Ses02M_script03_2_M047.wav   val  4.0  \n",
       "\n",
       "[1348 rows x 12 columns]"
      ]
     },
     "execution_count": 17,
     "metadata": {},
     "output_type": "execute_result"
    }
   ],
   "source": [
    "labels_df[labels_df.split=='val']"
   ]
  },
  {
   "cell_type": "code",
   "execution_count": 18,
   "id": "f954f595-0dc2-4697-8ea5-d89e2dae00dc",
   "metadata": {},
   "outputs": [],
   "source": [
    "labels_df.to_csv(icp_path + 'final_labels_df.csv')"
   ]
  },
  {
   "cell_type": "markdown",
   "id": "653d341d-f6ea-4b69-b741-b9e6b4b21852",
   "metadata": {
    "tags": []
   },
   "source": [
    "## Extracting .npy samplewise"
   ]
  },
  {
   "cell_type": "code",
   "execution_count": 21,
   "id": "8b60a31a-62aa-4921-8354-c836c50ef633",
   "metadata": {},
   "outputs": [
    {
     "data": {
      "text/html": [
       "<div>\n",
       "<style scoped>\n",
       "    .dataframe tbody tr th:only-of-type {\n",
       "        vertical-align: middle;\n",
       "    }\n",
       "\n",
       "    .dataframe tbody tr th {\n",
       "        vertical-align: top;\n",
       "    }\n",
       "\n",
       "    .dataframe thead th {\n",
       "        text-align: right;\n",
       "    }\n",
       "</style>\n",
       "<table border=\"1\" class=\"dataframe\">\n",
       "  <thead>\n",
       "    <tr style=\"text-align: right;\">\n",
       "      <th></th>\n",
       "      <th>ID</th>\n",
       "      <th>File Name</th>\n",
       "      <th>arousal</th>\n",
       "      <th>dominance</th>\n",
       "      <th>emotion</th>\n",
       "      <th>valence</th>\n",
       "      <th>Quadrant</th>\n",
       "      <th>gender</th>\n",
       "      <th>session</th>\n",
       "      <th>path</th>\n",
       "      <th>split</th>\n",
       "      <th>lb</th>\n",
       "    </tr>\n",
       "  </thead>\n",
       "  <tbody>\n",
       "    <tr>\n",
       "      <th>0</th>\n",
       "      <td>01F</td>\n",
       "      <td>Ses01F_impro01_F000</td>\n",
       "      <td>2.5</td>\n",
       "      <td>2.5</td>\n",
       "      <td>neu</td>\n",
       "      <td>2.5</td>\n",
       "      <td>0</td>\n",
       "      <td>1</td>\n",
       "      <td>1</td>\n",
       "      <td>data/IEMOCAP/Session1/Ses01F_impro01_F000.wav</td>\n",
       "      <td>train</td>\n",
       "      <td>0.0</td>\n",
       "    </tr>\n",
       "    <tr>\n",
       "      <th>1</th>\n",
       "      <td>01F</td>\n",
       "      <td>Ses01F_impro01_F001</td>\n",
       "      <td>2.5</td>\n",
       "      <td>2.5</td>\n",
       "      <td>neu</td>\n",
       "      <td>2.5</td>\n",
       "      <td>0</td>\n",
       "      <td>1</td>\n",
       "      <td>1</td>\n",
       "      <td>data/IEMOCAP/Session1/Ses01F_impro01_F001.wav</td>\n",
       "      <td>train</td>\n",
       "      <td>0.0</td>\n",
       "    </tr>\n",
       "    <tr>\n",
       "      <th>2</th>\n",
       "      <td>01F</td>\n",
       "      <td>Ses01F_impro01_F002</td>\n",
       "      <td>2.5</td>\n",
       "      <td>2.5</td>\n",
       "      <td>neu</td>\n",
       "      <td>2.5</td>\n",
       "      <td>0</td>\n",
       "      <td>1</td>\n",
       "      <td>1</td>\n",
       "      <td>data/IEMOCAP/Session1/Ses01F_impro01_F002.wav</td>\n",
       "      <td>train</td>\n",
       "      <td>0.0</td>\n",
       "    </tr>\n",
       "    <tr>\n",
       "      <th>5</th>\n",
       "      <td>01F</td>\n",
       "      <td>Ses01F_impro01_F005</td>\n",
       "      <td>2.5</td>\n",
       "      <td>2.0</td>\n",
       "      <td>neu</td>\n",
       "      <td>3.5</td>\n",
       "      <td>0</td>\n",
       "      <td>1</td>\n",
       "      <td>1</td>\n",
       "      <td>data/IEMOCAP/Session1/Ses01F_impro01_F005.wav</td>\n",
       "      <td>train</td>\n",
       "      <td>0.0</td>\n",
       "    </tr>\n",
       "    <tr>\n",
       "      <th>6</th>\n",
       "      <td>01F</td>\n",
       "      <td>Ses01F_impro01_F006</td>\n",
       "      <td>2.0</td>\n",
       "      <td>3.5</td>\n",
       "      <td>fru</td>\n",
       "      <td>3.5</td>\n",
       "      <td>3</td>\n",
       "      <td>1</td>\n",
       "      <td>1</td>\n",
       "      <td>data/IEMOCAP/Session1/Ses01F_impro01_F006.wav</td>\n",
       "      <td>train</td>\n",
       "      <td>3.0</td>\n",
       "    </tr>\n",
       "    <tr>\n",
       "      <th>...</th>\n",
       "      <td>...</td>\n",
       "      <td>...</td>\n",
       "      <td>...</td>\n",
       "      <td>...</td>\n",
       "      <td>...</td>\n",
       "      <td>...</td>\n",
       "      <td>...</td>\n",
       "      <td>...</td>\n",
       "      <td>...</td>\n",
       "      <td>...</td>\n",
       "      <td>...</td>\n",
       "      <td>...</td>\n",
       "    </tr>\n",
       "    <tr>\n",
       "      <th>10034</th>\n",
       "      <td>05M</td>\n",
       "      <td>Ses05M_script03_2_M041</td>\n",
       "      <td>1.0</td>\n",
       "      <td>5.0</td>\n",
       "      <td>ang</td>\n",
       "      <td>4.5</td>\n",
       "      <td>3</td>\n",
       "      <td>0</td>\n",
       "      <td>5</td>\n",
       "      <td>data/IEMOCAP/Session5/Ses05M_script03_2_M041.wav</td>\n",
       "      <td>train</td>\n",
       "      <td>4.0</td>\n",
       "    </tr>\n",
       "    <tr>\n",
       "      <th>10035</th>\n",
       "      <td>05M</td>\n",
       "      <td>Ses05M_script03_2_M042</td>\n",
       "      <td>1.0</td>\n",
       "      <td>4.5</td>\n",
       "      <td>ang</td>\n",
       "      <td>4.5</td>\n",
       "      <td>3</td>\n",
       "      <td>0</td>\n",
       "      <td>5</td>\n",
       "      <td>data/IEMOCAP/Session5/Ses05M_script03_2_M042.wav</td>\n",
       "      <td>train</td>\n",
       "      <td>4.0</td>\n",
       "    </tr>\n",
       "    <tr>\n",
       "      <th>10036</th>\n",
       "      <td>05M</td>\n",
       "      <td>Ses05M_script03_2_M043</td>\n",
       "      <td>1.5</td>\n",
       "      <td>4.5</td>\n",
       "      <td>ang</td>\n",
       "      <td>4.0</td>\n",
       "      <td>3</td>\n",
       "      <td>0</td>\n",
       "      <td>5</td>\n",
       "      <td>data/IEMOCAP/Session5/Ses05M_script03_2_M043.wav</td>\n",
       "      <td>train</td>\n",
       "      <td>4.0</td>\n",
       "    </tr>\n",
       "    <tr>\n",
       "      <th>10037</th>\n",
       "      <td>05M</td>\n",
       "      <td>Ses05M_script03_2_M044</td>\n",
       "      <td>1.0</td>\n",
       "      <td>5.0</td>\n",
       "      <td>ang</td>\n",
       "      <td>5.0</td>\n",
       "      <td>3</td>\n",
       "      <td>0</td>\n",
       "      <td>5</td>\n",
       "      <td>data/IEMOCAP/Session5/Ses05M_script03_2_M044.wav</td>\n",
       "      <td>train</td>\n",
       "      <td>4.0</td>\n",
       "    </tr>\n",
       "    <tr>\n",
       "      <th>10038</th>\n",
       "      <td>05M</td>\n",
       "      <td>Ses05M_script03_2_M045</td>\n",
       "      <td>1.0</td>\n",
       "      <td>5.0</td>\n",
       "      <td>ang</td>\n",
       "      <td>5.0</td>\n",
       "      <td>3</td>\n",
       "      <td>0</td>\n",
       "      <td>5</td>\n",
       "      <td>data/IEMOCAP/Session5/Ses05M_script03_2_M045.wav</td>\n",
       "      <td>train</td>\n",
       "      <td>4.0</td>\n",
       "    </tr>\n",
       "  </tbody>\n",
       "</table>\n",
       "<p>7380 rows × 12 columns</p>\n",
       "</div>"
      ],
      "text/plain": [
       "        ID               File Name  arousal  dominance emotion  valence  \\\n",
       "0      01F     Ses01F_impro01_F000      2.5        2.5     neu      2.5   \n",
       "1      01F     Ses01F_impro01_F001      2.5        2.5     neu      2.5   \n",
       "2      01F     Ses01F_impro01_F002      2.5        2.5     neu      2.5   \n",
       "5      01F     Ses01F_impro01_F005      2.5        2.0     neu      3.5   \n",
       "6      01F     Ses01F_impro01_F006      2.0        3.5     fru      3.5   \n",
       "...    ...                     ...      ...        ...     ...      ...   \n",
       "10034  05M  Ses05M_script03_2_M041      1.0        5.0     ang      4.5   \n",
       "10035  05M  Ses05M_script03_2_M042      1.0        4.5     ang      4.5   \n",
       "10036  05M  Ses05M_script03_2_M043      1.5        4.5     ang      4.0   \n",
       "10037  05M  Ses05M_script03_2_M044      1.0        5.0     ang      5.0   \n",
       "10038  05M  Ses05M_script03_2_M045      1.0        5.0     ang      5.0   \n",
       "\n",
       "       Quadrant  gender  session  \\\n",
       "0             0       1        1   \n",
       "1             0       1        1   \n",
       "2             0       1        1   \n",
       "5             0       1        1   \n",
       "6             3       1        1   \n",
       "...         ...     ...      ...   \n",
       "10034         3       0        5   \n",
       "10035         3       0        5   \n",
       "10036         3       0        5   \n",
       "10037         3       0        5   \n",
       "10038         3       0        5   \n",
       "\n",
       "                                                   path  split   lb  \n",
       "0         data/IEMOCAP/Session1/Ses01F_impro01_F000.wav  train  0.0  \n",
       "1         data/IEMOCAP/Session1/Ses01F_impro01_F001.wav  train  0.0  \n",
       "2         data/IEMOCAP/Session1/Ses01F_impro01_F002.wav  train  0.0  \n",
       "5         data/IEMOCAP/Session1/Ses01F_impro01_F005.wav  train  0.0  \n",
       "6         data/IEMOCAP/Session1/Ses01F_impro01_F006.wav  train  3.0  \n",
       "...                                                 ...    ...  ...  \n",
       "10034  data/IEMOCAP/Session5/Ses05M_script03_2_M041.wav  train  4.0  \n",
       "10035  data/IEMOCAP/Session5/Ses05M_script03_2_M042.wav  train  4.0  \n",
       "10036  data/IEMOCAP/Session5/Ses05M_script03_2_M043.wav  train  4.0  \n",
       "10037  data/IEMOCAP/Session5/Ses05M_script03_2_M044.wav  train  4.0  \n",
       "10038  data/IEMOCAP/Session5/Ses05M_script03_2_M045.wav  train  4.0  \n",
       "\n",
       "[7380 rows x 12 columns]"
      ]
     },
     "execution_count": 21,
     "metadata": {},
     "output_type": "execute_result"
    }
   ],
   "source": [
    "labels_df = pd.read_csv(icp_path + 'final_labels_df.csv', header=0, index_col=0)\n",
    "labels_df"
   ]
  },
  {
   "cell_type": "code",
   "execution_count": 20,
   "id": "17851eee-8479-49e1-ac30-23786f42d21b",
   "metadata": {},
   "outputs": [],
   "source": [
    "def w2v_path(file, split):    \n",
    "    return save_path + model_mode + \"_extract_features/\" + split + '-' + file + '.npy'"
   ]
  },
  {
   "cell_type": "code",
   "execution_count": 21,
   "id": "b205f266-666f-4579-8131-aa230a87cabb",
   "metadata": {},
   "outputs": [],
   "source": [
    "na_files = []\n",
    "problems = []"
   ]
  },
  {
   "cell_type": "code",
   "execution_count": 22,
   "id": "218669a9-9068-4582-b35e-34399ff43aed",
   "metadata": {
    "tags": []
   },
   "outputs": [],
   "source": [
    "for k,v in labels_df.iterrows():\n",
    "    try:\n",
    "        if not isfile(v['path']):\n",
    "            na_files.append(v['path'])\n",
    "            print(\"wav for {} not available\". format(v['File Name']))\n",
    "        elif isfile(w2v_path(v['File Name'], v['split'])):\n",
    "            pass\n",
    "            #print(\"w2v features found for {}\".format(v['File Name']))\n",
    "        else:\n",
    "            #ft, hs = Wav2Vec_Model(v['path'])\n",
    "            ft, hs = Wav2Vec_Models(v['path'], model_name=model_mode, cuda=True)\n",
    "            #np.save(save_path + \"extract_features/\" + v['split'] + '-' + v['filename'] + '.npy', ft)\n",
    "            np.save(save_path +  model_mode + \"_extract_features/\" + v['split'] + '-' + v['File Name'] + '.npy', ft)\n",
    "            np.save(save_path +  model_mode + \"_hidden_states/\" + v['split'] + '-' + v['File Name'] + '.npy', hs)\n",
    "            print(\"saved for {}\".format(v['File Name']))\n",
    "    except:\n",
    "        problems.append(v['File Name'])\n",
    "        print(\"wrong\")"
   ]
  },
  {
   "cell_type": "code",
   "execution_count": 23,
   "id": "82de2407-88f1-448b-8ae9-3f06a62e231a",
   "metadata": {},
   "outputs": [
    {
     "data": {
      "text/plain": [
       "[]"
      ]
     },
     "execution_count": 23,
     "metadata": {},
     "output_type": "execute_result"
    }
   ],
   "source": [
    "na_files"
   ]
  },
  {
   "cell_type": "code",
   "execution_count": 24,
   "id": "404ab2ad-afaf-437f-b4b5-9f9f9f4db13d",
   "metadata": {},
   "outputs": [
    {
     "data": {
      "text/plain": [
       "[]"
      ]
     },
     "execution_count": 24,
     "metadata": {},
     "output_type": "execute_result"
    }
   ],
   "source": [
    "problems"
   ]
  },
  {
   "cell_type": "markdown",
   "id": "184f4ef9-1427-4529-980c-09171c06f4e7",
   "metadata": {},
   "source": [
    "## Gathering .npy arrays into train/val/test with features, hidden states and layers"
   ]
  },
  {
   "cell_type": "code",
   "execution_count": 25,
   "id": "47b7a22f-53e2-4ef2-bcbe-ec0600499999",
   "metadata": {},
   "outputs": [],
   "source": [
    "icp_ft_train = []\n",
    "icp_ft_val = []\n",
    "icp_ft_test = []"
   ]
  },
  {
   "cell_type": "code",
   "execution_count": 26,
   "id": "1f3f6fa9-8c0b-4155-bcc6-950a9930b72b",
   "metadata": {},
   "outputs": [],
   "source": [
    "icp_hs_train = []\n",
    "icp_hs_val = []\n",
    "icp_hs_test = []"
   ]
  },
  {
   "cell_type": "code",
   "execution_count": 27,
   "id": "2b320e3f-4de7-4750-91fd-ef83a64c8fc4",
   "metadata": {},
   "outputs": [],
   "source": [
    "icp_lb_train = []\n",
    "icp_lb_val = []\n",
    "icp_lb_test = []"
   ]
  },
  {
   "cell_type": "code",
   "execution_count": 28,
   "id": "2579f282-bab9-4447-a233-4d6f4810dcc5",
   "metadata": {},
   "outputs": [],
   "source": [
    "for file in os.listdir(save_path + model_mode + \"_extract_features/\"):\n",
    "    if file.startswith(\"train-\"):\n",
    "        #filename = file.split(\"-\")[1]\n",
    "        ft = np.load(save_path + model_mode + \"_extract_features/\" + file) \n",
    "        icp_ft_train.append(ft)\n",
    "    elif file.startswith(\"val-\"):\n",
    "        #filename = file.split(\"-\")[1]\n",
    "        ft = np.load(save_path + model_mode + \"_extract_features/\" + file) \n",
    "        icp_ft_val.append(ft)\n",
    "    else:\n",
    "        ft = np.load(save_path + model_mode + \"_extract_features/\" + file) \n",
    "        icp_ft_test.append(ft)        \n",
    "np.save(save_path + model_mode + \"_icp_ft_train.npy\", icp_ft_train)\n",
    "np.save(save_path + model_mode + \"_icp_ft_val.npy\", icp_ft_val)\n",
    "np.save(save_path + model_mode + \"_icp_ft_test.npy\", icp_ft_test)"
   ]
  },
  {
   "cell_type": "code",
   "execution_count": 29,
   "id": "b744929b-1344-4c51-9d19-2fcf1bd4c29d",
   "metadata": {},
   "outputs": [],
   "source": [
    "for file in os.listdir(save_path + model_mode + \"_hidden_states/\"):\n",
    "    if file.startswith(\"train-\"):\n",
    "        #filename = file.split(\"-\")[1]\n",
    "        hs = np.load(save_path + model_mode + \"_hidden_states/\" + file) \n",
    "        icp_hs_train.append(hs)\n",
    "    elif file.startswith(\"val-\"):\n",
    "        #filename = file.split(\"-\")[1]\n",
    "        hs = np.load(save_path + model_mode + \"_hidden_states/\" + file) \n",
    "        icp_hs_val.append(hs)\n",
    "    else:\n",
    "        hs = np.load(save_path + model_mode + \"_hidden_states/\" + file) \n",
    "        icp_hs_test.append(hs)        \n",
    "np.save(save_path + model_mode + \"_icp_hs_train.npy\", icp_hs_train)\n",
    "np.save(save_path + model_mode + \"_icp_hs_val.npy\", icp_hs_val)\n",
    "np.save(save_path + model_mode + \"_icp_hs_test.npy\", icp_hs_test)"
   ]
  },
  {
   "cell_type": "code",
   "execution_count": 30,
   "id": "71c1ad82-7e4c-41b9-a25e-a8f3d8cc3878",
   "metadata": {},
   "outputs": [
    {
     "data": {
      "text/plain": [
       "ID            object\n",
       "File Name     object\n",
       "arousal      float64\n",
       "dominance    float64\n",
       "emotion       object\n",
       "valence      float64\n",
       "Quadrant       int64\n",
       "gender         int64\n",
       "session        int64\n",
       "path          object\n",
       "split         object\n",
       "lb           float64\n",
       "dtype: object"
      ]
     },
     "execution_count": 30,
     "metadata": {},
     "output_type": "execute_result"
    }
   ],
   "source": [
    "labels_df.dtypes"
   ]
  },
  {
   "cell_type": "code",
   "execution_count": 31,
   "id": "61727f68-7748-461c-b1b9-d9cf811b0d9a",
   "metadata": {
    "tags": []
   },
   "outputs": [],
   "source": [
    "for file in os.listdir(save_path + model_mode + \"_extract_features/\"):\n",
    "    label = labels_df.loc[labels_df['File Name'] == file.split(\"-\")[1].split(\".\")[0], 'lb']\n",
    "    lb = int(label.tolist()[0])\n",
    "    if file.startswith(\"train-\"):\n",
    "        icp_lb_train.append(lb)\n",
    "    elif file.startswith(\"val-\"):\n",
    "        icp_lb_val.append(lb)\n",
    "    else:\n",
    "        icp_lb_test.append(lb)\n",
    "np.save(save_path + model_mode + \"_icp_lb_train.npy\", icp_lb_train)\n",
    "np.save(save_path + model_mode + \"_icp_lb_val.npy\", icp_lb_val)\n",
    "np.save(save_path + model_mode + \"_icp_lb_test.npy\", icp_lb_test)"
   ]
  },
  {
   "cell_type": "code",
   "execution_count": 32,
   "id": "21f41768-bc61-4b3e-a004-99eb4a3b052f",
   "metadata": {},
   "outputs": [],
   "source": [
    "#len(os.listdir(save_path + model_mode + \"_extract_features/\"))"
   ]
  },
  {
   "cell_type": "code",
   "execution_count": 33,
   "id": "ac44b9c1-c017-4a00-a90d-9095d1677b7a",
   "metadata": {},
   "outputs": [
    {
     "data": {
      "text/plain": [
       "1348"
      ]
     },
     "execution_count": 33,
     "metadata": {},
     "output_type": "execute_result"
    }
   ],
   "source": [
    "len(icp_lb_val)"
   ]
  },
  {
   "cell_type": "code",
   "execution_count": 34,
   "id": "e159bf37-c53e-490c-bdcc-766bb5138084",
   "metadata": {},
   "outputs": [
    {
     "data": {
      "text/plain": [
       "4520"
      ]
     },
     "execution_count": 34,
     "metadata": {},
     "output_type": "execute_result"
    }
   ],
   "source": [
    "len(icp_lb_train)"
   ]
  },
  {
   "cell_type": "code",
   "execution_count": 35,
   "id": "0ec28e8a-8ab2-4bf3-a45e-00399d6879f7",
   "metadata": {},
   "outputs": [],
   "source": [
    "#len(aibo_hs_val)"
   ]
  },
  {
   "cell_type": "code",
   "execution_count": 36,
   "id": "4af44c17-1c4a-41bd-9553-66cdca5b082d",
   "metadata": {},
   "outputs": [
    {
     "data": {
      "text/plain": [
       "1512"
      ]
     },
     "execution_count": 36,
     "metadata": {},
     "output_type": "execute_result"
    }
   ],
   "source": [
    "len(icp_lb_test)"
   ]
  },
  {
   "cell_type": "code",
   "execution_count": 37,
   "id": "113d3e8c-97d7-4677-919d-a6423aceb77d",
   "metadata": {
    "tags": []
   },
   "outputs": [],
   "source": [
    "#len(aibo_hs_test)"
   ]
  },
  {
   "cell_type": "code",
   "execution_count": 38,
   "id": "b06dc079-f161-471a-bc82-b2947f4930e4",
   "metadata": {
    "tags": []
   },
   "outputs": [],
   "source": [
    "#aibo_lb_train[634]"
   ]
  },
  {
   "cell_type": "code",
   "execution_count": 26,
   "id": "b068756f-9d9b-4ba2-847f-53c28335b358",
   "metadata": {},
   "outputs": [],
   "source": [
    "#type(aibo_lb_test[0].replace)"
   ]
  },
  {
   "cell_type": "code",
   "execution_count": 27,
   "id": "b11cc2b7-92ea-4238-930b-b85cd8c6fdea",
   "metadata": {},
   "outputs": [
    {
     "data": {
      "text/plain": [
       "84"
      ]
     },
     "execution_count": 27,
     "metadata": {},
     "output_type": "execute_result"
    }
   ],
   "source": [
    "#len(aibo_lb_val)"
   ]
  },
  {
   "cell_type": "code",
   "execution_count": 118,
   "id": "644d8d9e-a800-480f-88ef-d55c1f36d0b9",
   "metadata": {},
   "outputs": [
    {
     "data": {
      "text/plain": [
       "['2']"
      ]
     },
     "execution_count": 118,
     "metadata": {},
     "output_type": "execute_result"
    }
   ],
   "source": [
    "#str(aibo_lb_val[0]).replace('\\n', ' ').split(' ')"
   ]
  },
  {
   "cell_type": "code",
   "execution_count": 137,
   "id": "52ce0fac-079c-41b5-8547-d2c31137d282",
   "metadata": {},
   "outputs": [],
   "source": [
    "#for i in range(len(aibo_lb_val)):\n",
    " #   a = str(aibo_lb_val[i]).replace('\\n', ' ').split(' ')[4]\n",
    "  #  aibo_lb_val[i] = int(float(a))"
   ]
  },
  {
   "cell_type": "code",
   "execution_count": 138,
   "id": "3f182875-4e1e-46c1-a6f6-1f6fdfb9a121",
   "metadata": {},
   "outputs": [
    {
     "data": {
      "text/plain": [
       "int"
      ]
     },
     "execution_count": 138,
     "metadata": {},
     "output_type": "execute_result"
    }
   ],
   "source": [
    "#type(int(float(aibo_lb_test[0])))"
   ]
  },
  {
   "cell_type": "code",
   "execution_count": 31,
   "id": "2f72f791-b45a-4679-b47d-4b07bfe8a688",
   "metadata": {},
   "outputs": [
    {
     "data": {
      "text/plain": [
       "8"
      ]
     },
     "execution_count": 31,
     "metadata": {},
     "output_type": "execute_result"
    }
   ],
   "source": [
    "#len(aibo_lb_train[2].split(' '))"
   ]
  },
  {
   "cell_type": "code",
   "execution_count": 40,
   "id": "6f1a7b88-2b1e-42a4-a8a4-10e89b4baabe",
   "metadata": {},
   "outputs": [
    {
     "data": {
      "text/plain": [
       "1"
      ]
     },
     "execution_count": 40,
     "metadata": {},
     "output_type": "execute_result"
    }
   ],
   "source": [
    "#int(float(aibo_lb_train[2].replace('\\n', ' ').split(' ')[4]))"
   ]
  },
  {
   "cell_type": "code",
   "execution_count": 39,
   "id": "6b151ffb-ddf4-4a06-8bb7-b6bb063a643b",
   "metadata": {},
   "outputs": [
    {
     "data": {
      "text/plain": [
       "int"
      ]
     },
     "execution_count": 39,
     "metadata": {},
     "output_type": "execute_result"
    }
   ],
   "source": [
    "#type(int(float(aibo_lb_train[2].replace('\\n', ' ').split(' ')[4])))"
   ]
  },
  {
   "cell_type": "code",
   "execution_count": null,
   "id": "1823d734-0e1a-42b3-96bc-35dd1d84dd0b",
   "metadata": {},
   "outputs": [],
   "source": [
    "#np.unique(labels)"
   ]
  },
  {
   "cell_type": "code",
   "execution_count": 17,
   "id": "0c31ae57-457b-437e-863b-6a90683d46b9",
   "metadata": {},
   "outputs": [
    {
     "data": {
      "text/plain": [
       "3547"
      ]
     },
     "execution_count": 17,
     "metadata": {},
     "output_type": "execute_result"
    }
   ],
   "source": [
    "#len(os.listdir('data/AIBO/wav/'))"
   ]
  },
  {
   "cell_type": "code",
   "execution_count": 21,
   "id": "0712d258-b3fc-44d6-89a8-2c10d67d7494",
   "metadata": {},
   "outputs": [
    {
     "data": {
      "text/plain": [
       "14874"
      ]
     },
     "execution_count": 21,
     "metadata": {},
     "output_type": "execute_result"
    }
   ],
   "source": [
    "#len(na_files)"
   ]
  },
  {
   "cell_type": "code",
   "execution_count": null,
   "id": "51d42c0c-2c68-4a52-8178-9583e95b038a",
   "metadata": {},
   "outputs": [],
   "source": []
  }
 ],
 "metadata": {
  "kernelspec": {
   "display_name": "env:Python",
   "language": "python",
   "name": "conda-env-env-py"
  },
  "language_info": {
   "codemirror_mode": {
    "name": "ipython",
    "version": 3
   },
   "file_extension": ".py",
   "mimetype": "text/x-python",
   "name": "python",
   "nbconvert_exporter": "python",
   "pygments_lexer": "ipython3",
   "version": "3.8.12"
  }
 },
 "nbformat": 4,
 "nbformat_minor": 5
}
