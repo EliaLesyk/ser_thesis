{
 "cells": [
  {
   "cell_type": "code",
   "execution_count": 1,
   "id": "290bba44",
   "metadata": {
    "id": "290bba44"
   },
   "outputs": [
    {
     "name": "stderr",
     "output_type": "stream",
     "text": [
      "/home/studio-lab-user/.conda/envs/env/lib/python3.8/site-packages/xgboost/compat.py:36: FutureWarning: pandas.Int64Index is deprecated and will be removed from pandas in a future version. Use pandas.Index with the appropriate dtype instead.\n",
      "  from pandas import MultiIndex, Int64Index\n"
     ]
    }
   ],
   "source": [
    "import pickle\n",
    "import numpy as np\n",
    "#import librosa\n",
    "import os\n",
    "import tqdm\n",
    "import pandas as pd\n",
    "import numpy as np\n",
    "import xgboost as xgb\n",
    "import pickle\n",
    "import matplotlib\n",
    "import matplotlib.pyplot as plt\n",
    "\n",
    "from os.path import isfile, join\n",
    "from sklearn.svm import SVC, LinearSVC\n",
    "from sklearn.naive_bayes import MultinomialNB\n",
    "from sklearn.linear_model import LogisticRegression\n",
    "from sklearn.ensemble import RandomForestClassifier\n",
    "from sklearn.model_selection import train_test_split\n",
    "from sklearn.neural_network import MLPClassifier\n",
    "from sklearn.metrics import confusion_matrix, f1_score, accuracy_score, precision_score, recall_score, classification_report\n",
    "from sklearn.preprocessing import MinMaxScaler, OneHotEncoder\n",
    "from sklearn.feature_selection import SelectFromModel\n",
    "from sklearn.utils.class_weight import compute_class_weight\n",
    "import itertools\n",
    "from IPython.display import display\n",
    "\n",
    "%matplotlib inline"
   ]
  },
  {
   "cell_type": "code",
   "execution_count": 2,
   "id": "PYVW5-biFSm1",
   "metadata": {
    "colab": {
     "base_uri": "https://localhost:8080/"
    },
    "id": "PYVW5-biFSm1",
    "outputId": "961df7fb-f05a-4d32-c4b8-fc3656dee0dd"
   },
   "outputs": [],
   "source": [
    "#from google.colab import drive\n",
    "#drive.mount('/content/drive')"
   ]
  },
  {
   "cell_type": "code",
   "execution_count": 3,
   "id": "GM_K2HBmFSBj",
   "metadata": {
    "id": "GM_K2HBmFSBj"
   },
   "outputs": [],
   "source": [
    "#ICP_PATH = \"/content/drive/MyDrive/Thesis/IEMOCAP/\"\n",
    "home_path = os.getcwd() + '/'\n",
    "#AIBO_PATH = \"/content/drive/MyDrive/Thesis/AIBO/\"\n",
    "ICP_PATH = home_path + \"/data/IEMOCAP/wav2vec/\""
   ]
  },
  {
   "cell_type": "code",
   "execution_count": 4,
   "id": "esMhDVdgpj7l",
   "metadata": {
    "id": "esMhDVdgpj7l"
   },
   "outputs": [],
   "source": [
    "model_option = 'xlsr' "
   ]
  },
  {
   "cell_type": "code",
   "execution_count": 5,
   "id": "VRvLWG5ipRDU",
   "metadata": {
    "id": "VRvLWG5ipRDU"
   },
   "outputs": [],
   "source": [
    "x_train_trn = np.load(ICP_PATH+ model_option+ \"_icp_ft_train.npy\")\n",
    "x_train_vld = np.load(ICP_PATH + model_option + \"_icp_ft_val.npy\")\n",
    "X_train = np.vstack([x_train_trn, x_train_vld])\n",
    "\n",
    "y_train_trn = np.load(ICP_PATH + model_option+ \"_icp_lb_train.npy\", allow_pickle=True)\n",
    "y_train_vld = np.load(ICP_PATH + model_option + \"_icp_lb_val.npy\", allow_pickle=True)\n",
    "y_train = np.hstack([y_train_trn, y_train_vld])"
   ]
  },
  {
   "cell_type": "code",
   "execution_count": 6,
   "id": "NdKXDab5r4V2",
   "metadata": {
    "id": "NdKXDab5r4V2"
   },
   "outputs": [],
   "source": [
    "X_test = np.load(ICP_PATH + model_option + \"_icp_ft_test.npy\")\n",
    "y_test = np.load(ICP_PATH + model_option + \"_icp_lb_test.npy\", allow_pickle=True)"
   ]
  },
  {
   "cell_type": "code",
   "execution_count": 7,
   "id": "9dddf5c8",
   "metadata": {
    "id": "9dddf5c8"
   },
   "outputs": [],
   "source": [
    "#FT_PATH = ICP_PATH + \"aibo_ft.npy\"\n",
    "#LABELS_PATH = ICP_PATH + \"aibo_labels.npy\"\n",
    "#df = np.load(FT_PATH)\n",
    "#df = np.load(\"/Users/el/embrace/data/data_wav2vec2/icp/\" + \"icp_hs.npy\")\n",
    "#labels_df = np.load(LABELS_PATH)"
   ]
  },
  {
   "cell_type": "code",
   "execution_count": 8,
   "id": "7548cb1b",
   "metadata": {
    "colab": {
     "base_uri": "https://localhost:8080/"
    },
    "id": "7548cb1b",
    "outputId": "a5accec4-475c-4d37-e3a2-71027d28f30e"
   },
   "outputs": [
    {
     "data": {
      "text/plain": [
       "[0, 1, 2, 3, 4]"
      ]
     },
     "execution_count": 8,
     "metadata": {},
     "output_type": "execute_result"
    }
   ],
   "source": [
    "CLASS_TO_ID = {\"neu\": 0, \"hap\": 1, \"sad\": 2, \"fru\": 3, \"ang\": 4}\n",
    "ID_TO_CLASS = {v: k for k, v in CLASS_TO_ID.items()}\n",
    "w2v_classes = list(ID_TO_CLASS.keys())\n",
    "w2v_classes\n",
    "#lb_df = np.array([CLASS_TO_ID[letter] for letter in labels_df])"
   ]
  },
  {
   "cell_type": "code",
   "execution_count": 9,
   "id": "XrEreC2kJ-_m",
   "metadata": {
    "id": "XrEreC2kJ-_m"
   },
   "outputs": [],
   "source": [
    "#print(np.unique(lb_df))"
   ]
  },
  {
   "cell_type": "code",
   "execution_count": 10,
   "id": "aiatEYrlFmPm",
   "metadata": {
    "id": "aiatEYrlFmPm"
   },
   "outputs": [],
   "source": [
    "#unique, counts = np.unique(labels_df, return_counts=True)\n",
    "#dict(zip(unique, counts))"
   ]
  },
  {
   "cell_type": "code",
   "execution_count": 11,
   "id": "73c70dda",
   "metadata": {
    "id": "73c70dda"
   },
   "outputs": [],
   "source": [
    "#my_x = df\n",
    "#my_y = lb_df\n",
    "\n",
    "#X_train, X_test, y_train, y_test = train_test_split(my_x, my_y, test_size=0.33, random_state=42)\n",
    "\n",
    "#split_index = int(my_y.shape[0]*0.8)\n",
    "#all_indexes = list(range(my_x.shape[0]))\n",
    "#test_indexes = all_indexes[(split_index + 1):]\n",
    "#X_test = my_x[test_indexes]\n",
    "#y_test = my_y[test_indexes]\n",
    "\n",
    "#train_indexes = all_indexes[:(split_index + 1)]\n",
    "#X_train = my_x[train_indexes]\n",
    "#y_train = my_y[train_indexes]\n",
    "\n",
    "#eval_split_index = 934\n",
    "#all_indexes = list(range(X_train.shape[0]))\n",
    "#eval_indexes = all_indexes[(eval_split_index + 1):]\n",
    "#eval_train_indexes = all_indexes[:(eval_split_index + 1)]\n",
    "\n",
    "#X_train_eval = X_train[eval_indexes]\n",
    "#y_train_eval = y_train[eval_indexes]\n",
    "#x_eval = X_train[eval_train_indexes]\n",
    "#y_eval = y_train[eval_train_indexes]\n",
    "\n",
    "# X_train_eval=np.vstack(X_train_eval).astype(np.float)\n",
    "# y_train_eval=np.vstack(y_train_eval).astype(np.str)\n",
    "\n",
    "# print(y_train_eval.shape, y_eval.shape, y_test.shape)       # (4696,) (935,) (1407,)\n",
    "# print(X_train_eval.shape, x_eval.shape, X_test.shape)       # (4696, 3072) (935, 3072) (1407, 3072)\n",
    "\n",
    "#train_dataset = TensorDataset(torch.tensor(X_train_eval), torch.tensor(y_train_eval))  # create your dataset\n",
    "#train_dataset = TensorDataset(torch.from_numpy(X_train_eval).float(), torch.from_numpy(y_train_eval).float())\n",
    "#eval_dataset = TensorDataset(torch.tensor(x_eval), torch.tensor(y_eval))  # create your dataset\n",
    "#test_dataset = TensorDataset(torch.tensor(X_test), torch.tensor(y_test))\n",
    "\n",
    "#train_loader = DataLoader(dataset=train_dataset, batch_size=128, shuffle=True)\n",
    "#valid_loader = DataLoader(dataset=eval_dataset, batch_size=128, shuffle=False)\n",
    "#test_loader = DataLoader(dataset=test_dataset, batch_size=128, shuffle=False)\n"
   ]
  },
  {
   "cell_type": "code",
   "execution_count": 12,
   "id": "fe687e3a",
   "metadata": {
    "colab": {
     "base_uri": "https://localhost:8080/"
    },
    "id": "fe687e3a",
    "outputId": "70467f9f-8a9a-4851-87fe-e7f6ca51357a"
   },
   "outputs": [
    {
     "name": "stdout",
     "output_type": "stream",
     "text": [
      "(5868, 3072)\n",
      "(5868,)\n",
      "(1512, 3072)\n",
      "(1512,)\n"
     ]
    }
   ],
   "source": [
    "print(X_train.shape)\n",
    "print(y_train.shape)\n",
    "print(X_test.shape)\n",
    "print(y_test.shape)"
   ]
  },
  {
   "cell_type": "code",
   "execution_count": 13,
   "id": "623fb757",
   "metadata": {
    "id": "623fb757"
   },
   "outputs": [],
   "source": [
    "def min_max_scaling(col):\n",
    "    return (col - col.min())/(col.max()-col.min())"
   ]
  },
  {
   "cell_type": "code",
   "execution_count": 14,
   "id": "431a71fe",
   "metadata": {
    "id": "431a71fe"
   },
   "outputs": [],
   "source": [
    "for col in range(X_train.shape[1]):\n",
    "    X_train[col] = min_max_scaling(X_train[col])"
   ]
  },
  {
   "cell_type": "code",
   "execution_count": 15,
   "id": "4c8c000b",
   "metadata": {
    "colab": {
     "base_uri": "https://localhost:8080/"
    },
    "id": "4c8c000b",
    "outputId": "cbf473a5-8e31-4203-e0a8-f78153d97125"
   },
   "outputs": [
    {
     "data": {
      "text/plain": [
       "array([[ 7.69469365e-02,  6.66742250e-02,  9.31248516e-02, ...,\n",
       "         1.15098163e-01,  1.28664628e-01,  1.12677865e-01],\n",
       "       [ 3.12073547e-02,  2.61426847e-02,  2.98637059e-02, ...,\n",
       "         4.38158847e-02,  6.53981864e-02,  4.31308076e-02],\n",
       "       [ 4.23047058e-02,  3.88826504e-02,  4.72520180e-02, ...,\n",
       "         6.93552494e-02,  1.25301421e-01,  6.21320419e-02],\n",
       "       ...,\n",
       "       [ 1.41835198e-01, -4.62522984e-01, -2.58707721e-02, ...,\n",
       "         1.51740062e+00,  5.59904194e+00,  1.44006312e+00],\n",
       "       [ 1.76113427e-01, -6.18074477e-01, -3.93590420e-01, ...,\n",
       "         1.85114336e+00,  6.22531605e+00,  1.92419970e+00],\n",
       "       [ 7.63968676e-02, -4.90954161e-01, -1.59908741e-04, ...,\n",
       "         1.48735905e+00,  9.37830329e-01,  1.50027156e+00]], dtype=float32)"
      ]
     },
     "execution_count": 15,
     "metadata": {},
     "output_type": "execute_result"
    }
   ],
   "source": [
    "X_train"
   ]
  },
  {
   "cell_type": "code",
   "execution_count": 16,
   "id": "UU6XqmDK8vSd",
   "metadata": {
    "id": "UU6XqmDK8vSd"
   },
   "outputs": [],
   "source": [
    "def plot_confusion_matrix(cm, classes, normalize=False,\n",
    "                          title='Confusion matrix',\n",
    "                          cmap=plt.cm.RdPu):\n",
    "    \"\"\"\n",
    "    This function prints and plots the confusion matrix.\n",
    "    Normalization can be applied by setting `normalize=True`.\n",
    "    \"\"\"\n",
    "    # plt.figure(figsize=(8,8))\n",
    "    plt.imshow(cm, interpolation='nearest', cmap=cmap)\n",
    "    plt.title(title + \" for \" + model)\n",
    "    plt.colorbar()\n",
    "    tick_marks = np.arange(len(classes))\n",
    "    plt.xticks(tick_marks, classes, rotation=45)\n",
    "    plt.yticks(tick_marks, classes)\n",
    "\n",
    "    #if normalize:\n",
    "    #    cm = cm.astype('float') / cm.sum(axis=1)[:, np.newaxis]\n",
    "     #   print(\"Normalized confusion matrix\")\n",
    "    #else:\n",
    "     #   print('Confusion matrix, without normalization')\n",
    "    #print('Confusion matrix')\n",
    "\n",
    "    #print(cm)\n",
    "\n",
    "    thresh = cm.max() / 2.\n",
    "    for i, j in itertools.product(range(cm.shape[0]), range(cm.shape[1])):\n",
    "        plt.text(j, i, cm[i, j],\n",
    "                 horizontalalignment=\"center\",\n",
    "                 color=\"white\" if cm[i, j] > thresh else \"black\")\n",
    "\n",
    "    plt.tight_layout()\n",
    "    plt.ylabel('True label')\n",
    "    plt.xlabel('Predicted label')\n",
    "    plt.savefig(home_path + 'skl_res/ICP/conf_matrix_{}_{}.png'.format(\"icp\", model))\n",
    "    plt.show()\n",
    "    return cm\n",
    "    \n",
    "def one_hot_encoder(true_labels, num_records, num_classes):\n",
    "    temp = np.array(true_labels[:num_records])\n",
    "    true_labels = np.zeros((num_records, num_classes))\n",
    "    true_labels[np.arange(num_records), temp] = 1\n",
    "    return true_labels\n",
    "\n",
    "def display_results(y_test, pred_probs):\n",
    "    pred = np.argmax(pred_probs, axis=-1)\n",
    "    one_hot_true = one_hot_encoder(y_test, len(pred_probs), len(CLASS_TO_ID))\n",
    "\n",
    "    acc = 'Test Set Accuracy =  {0:.3f}'.format(accuracy_score(y_test, pred))\n",
    "    fscore = 'Test Set F-score =  {0:.3f}'.format(f1_score(y_test, pred, average='macro'))\n",
    "    prec = 'Test Set Precision =  {0:.3f}'.format(precision_score(y_test, pred, average='macro'))\n",
    "    rec = 'Test Set Recall =  {0:.3f}'.format(recall_score(y_test, pred, average='macro'))\n",
    "    metrics = [acc, fscore, prec, rec]\n",
    "    #if cm:\n",
    "    cr = classification_report(y_true=y_test, y_pred=pred, target_names=list(ID_TO_CLASS.values()), zero_division=1)\n",
    "    cm = plot_confusion_matrix(confusion_matrix(y_test, pred), classes=list(ID_TO_CLASS.values()))\n",
    "    f = open(home_path + 'skl_res/ICP/report_{}_{}.txt'.format('icp', model), 'w')\n",
    "    f.write('RESULTS\\n\\nMetrics\\n\\n{}\\n\\nClassification Report\\n\\n{}\\n\\nConfusion Matrix\\n\\n{}\\n'.format(metrics, cr, cm))\n",
    "    f.close()\n",
    "    print(cr)"
   ]
  },
  {
   "cell_type": "code",
   "execution_count": 17,
   "id": "45OfTa_7EduG",
   "metadata": {
    "colab": {
     "base_uri": "https://localhost:8080/"
    },
    "id": "45OfTa_7EduG",
    "outputId": "262ecc08-c0cd-49e9-ce67-5475320c633f"
   },
   "outputs": [
    {
     "data": {
      "text/plain": [
       "[0, 1, 2, 3, 4]"
      ]
     },
     "execution_count": 17,
     "metadata": {},
     "output_type": "execute_result"
    }
   ],
   "source": [
    "list(ID_TO_CLASS.keys())"
   ]
  },
  {
   "cell_type": "code",
   "execution_count": 18,
   "id": "e533807f",
   "metadata": {
    "colab": {
     "base_uri": "https://localhost:8080/",
     "height": 1000
    },
    "id": "e533807f",
    "outputId": "c7d7c6d8-4734-405c-8833-f628abacca63"
   },
   "outputs": [
    {
     "name": "stderr",
     "output_type": "stream",
     "text": [
      "[Parallel(n_jobs=-1)]: Using backend ThreadingBackend with 4 concurrent workers.\n"
     ]
    },
    {
     "name": "stdout",
     "output_type": "stream",
     "text": [
      "building tree 1 of 100\n",
      "building tree 2 of 100building tree 3 of 100\n",
      "building tree 4 of 100\n",
      "\n",
      "building tree 5 of 100\n",
      "building tree 6 of 100\n",
      "building tree 7 of 100\n",
      "building tree 8 of 100\n",
      "building tree 9 of 100\n",
      "building tree 10 of 100\n",
      "building tree 11 of 100\n",
      "building tree 12 of 100\n",
      "building tree 13 of 100\n",
      "building tree 14 of 100\n",
      "building tree 15 of 100\n",
      "building tree 16 of 100\n",
      "building tree 17 of 100\n",
      "building tree 18 of 100\n",
      "building tree 19 of 100\n",
      "building tree 20 of 100\n",
      "building tree 21 of 100\n",
      "building tree 22 of 100\n",
      "building tree 23 of 100\n",
      "building tree 24 of 100\n",
      "building tree 25 of 100\n",
      "building tree 26 of 100\n",
      "building tree 27 of 100\n",
      "building tree 28 of 100\n"
     ]
    },
    {
     "name": "stderr",
     "output_type": "stream",
     "text": [
      "[Parallel(n_jobs=-1)]: Done  24 tasks      | elapsed:    4.7s\n"
     ]
    },
    {
     "name": "stdout",
     "output_type": "stream",
     "text": [
      "building tree 29 of 100\n",
      "building tree 30 of 100\n",
      "building tree 31 of 100\n",
      "building tree 32 of 100\n",
      "building tree 33 of 100\n",
      "building tree 34 of 100\n",
      "building tree 35 of 100\n",
      "building tree 36 of 100\n",
      "building tree 37 of 100\n",
      "building tree 38 of 100\n",
      "building tree 39 of 100\n",
      "building tree 40 of 100\n",
      "building tree 41 of 100\n",
      "building tree 42 of 100\n",
      "building tree 43 of 100\n",
      "building tree 44 of 100\n",
      "building tree 45 of 100\n",
      "building tree 46 of 100\n",
      "building tree 47 of 100building tree 48 of 100\n",
      "\n",
      "building tree 49 of 100\n",
      "building tree 50 of 100\n",
      "building tree 51 of 100\n",
      "building tree 52 of 100\n",
      "building tree 53 of 100\n",
      "building tree 54 of 100\n",
      "building tree 55 of 100\n",
      "building tree 56 of 100\n",
      "building tree 57 of 100\n",
      "building tree 58 of 100\n",
      "building tree 59 of 100\n",
      "building tree 60 of 100\n",
      "building tree 61 of 100\n",
      "building tree 62 of 100\n",
      "building tree 63 of 100\n",
      "building tree 64 of 100\n",
      "building tree 65 of 100\n",
      "building tree 66 of 100\n",
      "building tree 67 of 100\n",
      "building tree 68 of 100\n",
      "building tree 69 of 100\n",
      "building tree 70 of 100\n",
      "building tree 71 of 100\n",
      "building tree 72 of 100\n",
      "building tree 73 of 100\n",
      "building tree 74 of 100\n",
      "building tree 75 of 100\n",
      "building tree 76 of 100\n",
      "building tree 77 of 100\n",
      "building tree 78 of 100\n",
      "building tree 79 of 100\n",
      "building tree 80 of 100\n",
      "building tree 81 of 100\n",
      "building tree 82 of 100\n",
      "building tree 83 of 100\n",
      "building tree 84 of 100\n",
      "building tree 85 of 100\n",
      "building tree 86 of 100\n",
      "building tree 87 of 100\n",
      "building tree 88 of 100\n",
      "building tree 89 of 100\n",
      "building tree 90 of 100\n",
      "building tree 91 of 100\n",
      "building tree 92 of 100\n",
      "building tree 93 of 100\n",
      "building tree 94 of 100\n",
      "building tree 95 of 100\n",
      "building tree 96 of 100\n",
      "building tree 97 of 100\n",
      "building tree 98 of 100\n",
      "building tree 99 of 100\n",
      "building tree 100 of 100\n"
     ]
    },
    {
     "name": "stderr",
     "output_type": "stream",
     "text": [
      "[Parallel(n_jobs=-1)]: Done 100 out of 100 | elapsed:   19.5s finished\n",
      "[Parallel(n_jobs=4)]: Using backend ThreadingBackend with 4 concurrent workers.\n",
      "[Parallel(n_jobs=4)]: Done  24 tasks      | elapsed:    0.1s\n",
      "[Parallel(n_jobs=4)]: Done 100 out of 100 | elapsed:    0.1s finished\n"
     ]
    },
    {
     "name": "stdout",
     "output_type": "stream",
     "text": [
      "(1512,)\n",
      "(1512, 5)\n"
     ]
    },
    {
     "data": {
      "image/png": "[encoded data removed]",
      "text/plain": [
       "<Figure size 432x288 with 2 Axes>"
      ]
     },
     "metadata": {
      "needs_background": "light"
     },
     "output_type": "display_data"
    },
    {
     "name": "stdout",
     "output_type": "stream",
     "text": [
      "              precision    recall  f1-score   support\n",
      "\n",
      "         neu       0.41      0.37      0.39       258\n",
      "         hap       0.35      0.25      0.29       303\n",
      "         sad       0.55      0.59      0.57       143\n",
      "         fru       0.41      0.47      0.44       481\n",
      "         ang       0.46      0.50      0.48       327\n",
      "\n",
      "    accuracy                           0.43      1512\n",
      "   macro avg       0.44      0.44      0.43      1512\n",
      "weighted avg       0.42      0.43      0.42      1512\n",
      "\n"
     ]
    }
   ],
   "source": [
    "rf_classifier = RandomForestClassifier(n_estimators = 100,verbose=3,n_jobs=-1)\n",
    "rf_classifier.fit(X_train, y_train)\n",
    "\n",
    "# Predict\n",
    "pred_probs = rf_classifier.predict_proba(X_test)\n",
    "\n",
    "# Results\n",
    "print(y_test.shape)\n",
    "print(pred_probs.shape)\n",
    "model = 'rf'\n",
    "display_results(y_test, pred_probs)\n",
    "\n",
    "with open(home_path + 'skl_res/ICP/rf_classifier.pkl', 'wb') as f:\n",
    "    pickle.dump(pred_probs, f)"
   ]
  },
  {
   "cell_type": "code",
   "execution_count": 19,
   "id": "4a083320",
   "metadata": {
    "colab": {
     "base_uri": "https://localhost:8080/",
     "height": 525
    },
    "id": "4a083320",
    "outputId": "40f7221a-fa74-4314-acaa-3320cd1c90cd"
   },
   "outputs": [
    {
     "name": "stderr",
     "output_type": "stream",
     "text": [
      "/home/studio-lab-user/.conda/envs/env/lib/python3.8/site-packages/sklearn/metrics/_classification.py:1318: UndefinedMetricWarning: Precision is ill-defined and being set to 0.0 in labels with no predicted samples. Use `zero_division` parameter to control this behavior.\n",
      "  _warn_prf(average, modifier, msg_start, len(result))\n"
     ]
    },
    {
     "data": {
      "image/png": "[encoded data removed]",
      "text/plain": [
       "<Figure size 432x288 with 2 Axes>"
      ]
     },
     "metadata": {
      "needs_background": "light"
     },
     "output_type": "display_data"
    },
    {
     "name": "stdout",
     "output_type": "stream",
     "text": [
      "              precision    recall  f1-score   support\n",
      "\n",
      "         neu       0.21      0.01      0.02       258\n",
      "         hap       1.00      0.00      0.00       303\n",
      "         sad       0.63      0.29      0.39       143\n",
      "         fru       0.33      0.98      0.49       481\n",
      "         ang       1.00      0.00      0.00       327\n",
      "\n",
      "    accuracy                           0.34      1512\n",
      "   macro avg       0.63      0.26      0.18      1512\n",
      "weighted avg       0.62      0.34      0.20      1512\n",
      "\n"
     ]
    }
   ],
   "source": [
    "mlp_classifier = MLPClassifier(hidden_layer_sizes=(650, ), activation='relu', solver='adam', alpha=0.0001,\n",
    "                               batch_size='auto', learning_rate='adaptive', learning_rate_init=0.01,\n",
    "                               power_t=0.5, max_iter=1000, shuffle=True, random_state=None, tol=0.0001,\n",
    "                               verbose=False, warm_start=True, momentum=0.8, nesterovs_momentum=True,\n",
    "                               early_stopping=False, validation_fraction=0.1, beta_1=0.9, beta_2=0.999,\n",
    "                               epsilon=1e-08)\n",
    "\n",
    "mlp_classifier.fit(X_train, y_train)\n",
    "\n",
    "# Predict\n",
    "pred_probs = mlp_classifier.predict_proba(X_test)\n",
    "\n",
    "# Results\n",
    "model = 'mlp'\n",
    "display_results(y_test, pred_probs)\n",
    "\n",
    "with open(home_path + 'skl_res/ICP/mlp_classifier.pkl', 'wb') as f:\n",
    "    pickle.dump(pred_probs, f)"
   ]
  },
  {
   "cell_type": "code",
   "execution_count": 20,
   "id": "957e3078-3192-49af-9484-99e37a613b18",
   "metadata": {},
   "outputs": [],
   "source": [
    "from sklearn import preprocessing\n",
    "\n",
    "min_max_scaler = preprocessing.MinMaxScaler()\n",
    "X_train_minmax = min_max_scaler.fit_transform(X_train)"
   ]
  },
  {
   "cell_type": "code",
   "execution_count": 21,
   "id": "9f734fc7",
   "metadata": {
    "colab": {
     "background_save": true
    },
    "id": "9f734fc7",
    "outputId": "9650d82b-f9de-4a9a-e92e-9ea4ca41a278"
   },
   "outputs": [
    {
     "name": "stderr",
     "output_type": "stream",
     "text": [
      "/home/studio-lab-user/.conda/envs/env/lib/python3.8/site-packages/sklearn/svm/_base.py:1206: ConvergenceWarning: Liblinear failed to converge, increase the number of iterations.\n",
      "  warnings.warn(\n",
      "/home/studio-lab-user/.conda/envs/env/lib/python3.8/site-packages/sklearn/metrics/_classification.py:1318: UndefinedMetricWarning: Precision is ill-defined and being set to 0.0 in labels with no predicted samples. Use `zero_division` parameter to control this behavior.\n",
      "  _warn_prf(average, modifier, msg_start, len(result))\n"
     ]
    },
    {
     "data": {
      "image/png": "[encoded data removed]",
      "text/plain": [
       "<Figure size 432x288 with 2 Axes>"
      ]
     },
     "metadata": {
      "needs_background": "light"
     },
     "output_type": "display_data"
    },
    {
     "name": "stdout",
     "output_type": "stream",
     "text": [
      "              precision    recall  f1-score   support\n",
      "\n",
      "         neu       0.21      0.01      0.02       258\n",
      "         hap       1.00      0.00      0.00       303\n",
      "         sad       0.63      0.29      0.39       143\n",
      "         fru       0.33      0.98      0.49       481\n",
      "         ang       1.00      0.00      0.00       327\n",
      "\n",
      "    accuracy                           0.34      1512\n",
      "   macro avg       0.63      0.26      0.18      1512\n",
      "weighted avg       0.62      0.34      0.20      1512\n",
      "\n"
     ]
    }
   ],
   "source": [
    "svc_classifier = LinearSVC()\n",
    "\n",
    "svc_classifier.fit(X_train_minmax, y_train)\n",
    "\n",
    "# Predict\n",
    "pred = svc_classifier.predict(X_test)\n",
    "\n",
    "# Results\n",
    "model = 'svc'\n",
    "display_results(y_test, pred_probs)\n",
    "\n",
    "with open(home_path + 'skl_res/ICP/svc_classifier_model.pkl', 'wb') as f:\n",
    "    pickle.dump(svc_classifier, f)"
   ]
  },
  {
   "cell_type": "code",
   "execution_count": 22,
   "id": "9ca8b701",
   "metadata": {
    "colab": {
     "background_save": true
    },
    "id": "9ca8b701",
    "outputId": "7e14a308-f29c-4b97-f378-2add5d1c34fb"
   },
   "outputs": [
    {
     "name": "stderr",
     "output_type": "stream",
     "text": [
      "/home/studio-lab-user/.conda/envs/env/lib/python3.8/site-packages/sklearn/metrics/_classification.py:1318: UndefinedMetricWarning: Precision is ill-defined and being set to 0.0 in labels with no predicted samples. Use `zero_division` parameter to control this behavior.\n",
      "  _warn_prf(average, modifier, msg_start, len(result))\n"
     ]
    },
    {
     "data": {
      "image/png": "[encoded data removed]",
      "text/plain": [
       "<Figure size 432x288 with 2 Axes>"
      ]
     },
     "metadata": {
      "needs_background": "light"
     },
     "output_type": "display_data"
    },
    {
     "name": "stdout",
     "output_type": "stream",
     "text": [
      "              precision    recall  f1-score   support\n",
      "\n",
      "         neu       1.00      0.00      0.00       258\n",
      "         hap       1.00      0.00      0.00       303\n",
      "         sad       1.00      0.00      0.00       143\n",
      "         fru       0.32      1.00      0.48       481\n",
      "         ang       1.00      0.00      0.00       327\n",
      "\n",
      "    accuracy                           0.32      1512\n",
      "   macro avg       0.86      0.20      0.10      1512\n",
      "weighted avg       0.78      0.32      0.15      1512\n",
      "\n"
     ]
    }
   ],
   "source": [
    "mnb_classifier = MultinomialNB()\n",
    "\n",
    "mnb_classifier.fit(X_train_minmax, y_train)\n",
    "\n",
    "# Predict\n",
    "pred_probs = mnb_classifier.predict_proba(X_test)\n",
    "\n",
    "# Results\n",
    "model = 'mnb'\n",
    "display_results(y_test, pred_probs)\n",
    "\n",
    "with open(home_path + 'skl_res/ICP/mnb_classifier.pkl', 'wb') as f:\n",
    "    pickle.dump(pred_probs, f)"
   ]
  },
  {
   "cell_type": "code",
   "execution_count": 23,
   "id": "4ff570e1",
   "metadata": {
    "colab": {
     "background_save": true
    },
    "id": "4ff570e1",
    "outputId": "aac9c156-e278-4169-cf15-59d924dbc148"
   },
   "outputs": [
    {
     "data": {
      "image/png": "[encoded data removed]",
      "text/plain": [
       "<Figure size 432x288 with 2 Axes>"
      ]
     },
     "metadata": {
      "needs_background": "light"
     },
     "output_type": "display_data"
    },
    {
     "name": "stdout",
     "output_type": "stream",
     "text": [
      "              precision    recall  f1-score   support\n",
      "\n",
      "         neu       0.43      0.35      0.39       258\n",
      "         hap       0.35      0.25      0.29       303\n",
      "         sad       0.45      0.60      0.52       143\n",
      "         fru       0.44      0.36      0.39       481\n",
      "         ang       0.42      0.65      0.51       327\n",
      "\n",
      "    accuracy                           0.42      1512\n",
      "   macro avg       0.42      0.44      0.42      1512\n",
      "weighted avg       0.42      0.42      0.41      1512\n",
      "\n"
     ]
    }
   ],
   "source": [
    "lr_classifier = LogisticRegression(solver='lbfgs', multi_class='multinomial', max_iter=5000)\n",
    "\n",
    "lr_classifier.fit(X_train, y_train)\n",
    "\n",
    "# Predict\n",
    "pred_probs = lr_classifier.predict_proba(X_test)\n",
    "\n",
    "# Results\n",
    "model = 'lr'\n",
    "display_results(y_test, pred_probs)\n",
    "\n",
    "with open(home_path + 'skl_res/ICP/lr_classifier.pkl', 'wb') as f:\n",
    "    pickle.dump(pred_probs, f)"
   ]
  },
  {
   "cell_type": "code",
   "execution_count": null,
   "id": "d0de4a04",
   "metadata": {
    "colab": {
     "background_save": true
    },
    "id": "d0de4a04",
    "outputId": "75ffece4-bfcb-4062-aff9-e33154c60d4a"
   },
   "outputs": [
    {
     "name": "stderr",
     "output_type": "stream",
     "text": [
      "/home/studio-lab-user/.conda/envs/env/lib/python3.8/site-packages/xgboost/sklearn.py:1224: UserWarning: The use of label encoder in XGBClassifier is deprecated and will be removed in a future release. To remove this warning, do the following: 1) Pass option use_label_encoder=False when constructing XGBClassifier object; and 2) Encode your labels (y) as integers starting with 0, i.e. 0, 1, 2, ..., [num_class - 1].\n",
      "  warnings.warn(label_encoder_deprecation_msg, UserWarning)\n"
     ]
    },
    {
     "name": "stdout",
     "output_type": "stream",
     "text": [
      "[16:28:25] WARNING: /home/conda/feedstock_root/build_artifacts/xgboost-split_1645117766796/work/src/learner.cc:576: \n",
      "Parameters: { \"sub_sample\" } might not be used.\n",
      "\n",
      "  This could be a false alarm, with some parameters getting used by language bindings but\n",
      "  then being mistakenly passed down to XGBoost core, or some parameter actually being used\n",
      "  but getting flagged wrongly here. Please open an issue if you find any such cases.\n",
      "\n",
      "\n",
      "[16:28:39] WARNING: /home/conda/feedstock_root/build_artifacts/xgboost-split_1645117766796/work/src/learner.cc:1115: Starting in XGBoost 1.3.0, the default evaluation metric used with the objective 'multi:softprob' was changed from 'merror' to 'mlogloss'. Explicitly set eval_metric if you'd like to restore the old behavior.\n"
     ]
    },
    {
     "data": {
      "image/png": "[encoded data removed]",
      "text/plain": [
       "<Figure size 432x288 with 2 Axes>"
      ]
     },
     "metadata": {
      "needs_background": "light"
     },
     "output_type": "display_data"
    },
    {
     "name": "stdout",
     "output_type": "stream",
     "text": [
      "              precision    recall  f1-score   support\n",
      "\n",
      "         neu       0.37      0.34      0.36       258\n",
      "         hap       0.32      0.28      0.30       303\n",
      "         sad       0.56      0.55      0.55       143\n",
      "         fru       0.41      0.42      0.42       481\n",
      "         ang       0.47      0.52      0.49       327\n",
      "\n",
      "    accuracy                           0.41      1512\n",
      "   macro avg       0.42      0.42      0.42      1512\n",
      "weighted avg       0.41      0.41      0.41      1512\n",
      "\n"
     ]
    }
   ],
   "source": [
    "xgb_classifier = xgb.XGBClassifier(max_depth=7, learning_rate=0.008, objective='multi:softprob', \n",
    "                                   n_estimators=100, sub_sample=0.8, num_class=len(CLASS_TO_ID),\n",
    "                                   booster='gbtree', n_jobs=4)\n",
    "xgb_classifier.fit(X_train, y_train)\n",
    "\n",
    "# Predict\n",
    "pred_probs = xgb_classifier.predict_proba(X_test)\n",
    "\n",
    "# Results\n",
    "model = 'xgb'\n",
    "display_results(y_test, pred_probs)\n",
    "\n",
    "with open(home_path + 'skl_res/ICP/xgb_classifier.pkl', 'wb') as f:\n",
    "    pickle.dump(pred_probs, f)"
   ]
  },
  {
   "cell_type": "code",
   "execution_count": null,
   "id": "f48d502e",
   "metadata": {
    "colab": {
     "background_save": true
    },
    "id": "f48d502e",
    "outputId": "80d44c27-4483-4cfe-f325-a50b3cf0d71e"
   },
   "outputs": [
    {
     "data": {
      "image/png": "[encoded data removed]",
      "text/plain": [
       "<Figure size 576x576 with 1 Axes>"
      ]
     },
     "metadata": {
      "needs_background": "light"
     },
     "output_type": "display_data"
    }
   ],
   "source": [
    "ax = xgb.plot_importance(xgb_classifier, max_num_features=10, height=0.5, show_values=False)\n",
    "fig = ax.figure\n",
    "fig.set_size_inches(8, 8)"
   ]
  },
  {
   "cell_type": "code",
   "execution_count": null,
   "id": "9acd978c",
   "metadata": {
    "colab": {
     "background_save": true
    },
    "id": "9acd978c",
    "outputId": "cbedcf20-1640-432a-861c-a05800778f31"
   },
   "outputs": [
    {
     "data": {
      "text/plain": [
       "array([6.73693794e-05, 7.00032469e-05, 1.07928354e-04, ...,\n",
       "       4.09034808e-04, 3.12010030e-04, 3.49508598e-04], dtype=float32)"
      ]
     },
     "execution_count": 26,
     "metadata": {},
     "output_type": "execute_result"
    }
   ],
   "source": [
    "contribution_scores = xgb_classifier.feature_importances_\n",
    "contribution_scores"
   ]
  },
  {
   "cell_type": "code",
   "execution_count": null,
   "id": "89ff7661",
   "metadata": {
    "colab": {
     "background_save": true
    },
    "id": "89ff7661",
    "outputId": "d796e278-0975-4575-c6c0-4fc9d0744f1c"
   },
   "outputs": [
    {
     "name": "stdout",
     "output_type": "stream",
     "text": [
      "Stats for top 3 features:\n",
      "[17:03:03] WARNING: /home/conda/feedstock_root/build_artifacts/xgboost-split_1645117766796/work/src/learner.cc:576: \n",
      "Parameters: { \"sub_sample\" } might not be used.\n",
      "\n",
      "  This could be a false alarm, with some parameters getting used by language bindings but\n",
      "  then being mistakenly passed down to XGBoost core, or some parameter actually being used\n",
      "  but getting flagged wrongly here. Please open an issue if you find any such cases.\n",
      "\n",
      "\n"
     ]
    },
    {
     "name": "stderr",
     "output_type": "stream",
     "text": [
      "/home/studio-lab-user/.conda/envs/env/lib/python3.8/site-packages/xgboost/sklearn.py:1224: UserWarning: The use of label encoder in XGBClassifier is deprecated and will be removed in a future release. To remove this warning, do the following: 1) Pass option use_label_encoder=False when constructing XGBClassifier object; and 2) Encode your labels (y) as integers starting with 0, i.e. 0, 1, 2, ..., [num_class - 1].\n",
      "  warnings.warn(label_encoder_deprecation_msg, UserWarning)\n"
     ]
    },
    {
     "name": "stdout",
     "output_type": "stream",
     "text": [
      "[17:03:04] WARNING: /home/conda/feedstock_root/build_artifacts/xgboost-split_1645117766796/work/src/learner.cc:1115: Starting in XGBoost 1.3.0, the default evaluation metric used with the objective 'multi:softprob' was changed from 'merror' to 'mlogloss'. Explicitly set eval_metric if you'd like to restore the old behavior.\n"
     ]
    },
    {
     "data": {
      "image/png": "[encoded data removed]",
      "text/plain": [
       "<Figure size 432x288 with 2 Axes>"
      ]
     },
     "metadata": {
      "needs_background": "light"
     },
     "output_type": "display_data"
    },
    {
     "name": "stdout",
     "output_type": "stream",
     "text": [
      "              precision    recall  f1-score   support\n",
      "\n",
      "         neu       0.25      0.38      0.30       258\n",
      "         hap       0.25      0.27      0.26       303\n",
      "         sad       0.28      0.20      0.23       143\n",
      "         fru       0.34      0.40      0.37       481\n",
      "         ang       0.33      0.13      0.19       327\n",
      "\n",
      "    accuracy                           0.29      1512\n",
      "   macro avg       0.29      0.28      0.27      1512\n",
      "weighted avg       0.30      0.29      0.28      1512\n",
      "\n",
      "Stats for top 5 features:\n",
      "[17:14:32] WARNING: /home/conda/feedstock_root/build_artifacts/xgboost-split_1645117766796/work/src/learner.cc:576: \n",
      "Parameters: { \"sub_sample\" } might not be used.\n",
      "\n",
      "  This could be a false alarm, with some parameters getting used by language bindings but\n",
      "  then being mistakenly passed down to XGBoost core, or some parameter actually being used\n",
      "  but getting flagged wrongly here. Please open an issue if you find any such cases.\n",
      "\n",
      "\n"
     ]
    },
    {
     "name": "stderr",
     "output_type": "stream",
     "text": [
      "/home/studio-lab-user/.conda/envs/env/lib/python3.8/site-packages/xgboost/sklearn.py:1224: UserWarning: The use of label encoder in XGBClassifier is deprecated and will be removed in a future release. To remove this warning, do the following: 1) Pass option use_label_encoder=False when constructing XGBClassifier object; and 2) Encode your labels (y) as integers starting with 0, i.e. 0, 1, 2, ..., [num_class - 1].\n",
      "  warnings.warn(label_encoder_deprecation_msg, UserWarning)\n"
     ]
    },
    {
     "name": "stdout",
     "output_type": "stream",
     "text": [
      "[17:14:32] WARNING: /home/conda/feedstock_root/build_artifacts/xgboost-split_1645117766796/work/src/learner.cc:1115: Starting in XGBoost 1.3.0, the default evaluation metric used with the objective 'multi:softprob' was changed from 'merror' to 'mlogloss'. Explicitly set eval_metric if you'd like to restore the old behavior.\n"
     ]
    },
    {
     "data": {
      "image/png": "[encoded data removed]",
      "text/plain": [
       "<Figure size 432x288 with 2 Axes>"
      ]
     },
     "metadata": {
      "needs_background": "light"
     },
     "output_type": "display_data"
    },
    {
     "name": "stdout",
     "output_type": "stream",
     "text": [
      "              precision    recall  f1-score   support\n",
      "\n",
      "         neu       0.37      0.34      0.35       258\n",
      "         hap       0.25      0.19      0.22       303\n",
      "         sad       0.46      0.42      0.44       143\n",
      "         fru       0.36      0.39      0.37       481\n",
      "         ang       0.42      0.49      0.45       327\n",
      "\n",
      "    accuracy                           0.37      1512\n",
      "   macro avg       0.37      0.37      0.37      1512\n",
      "weighted avg       0.36      0.37      0.36      1512\n",
      "\n",
      "Stats for top 8 features:\n",
      "[17:45:48] WARNING: /home/conda/feedstock_root/build_artifacts/xgboost-split_1645117766796/work/src/learner.cc:576: \n",
      "Parameters: { \"sub_sample\" } might not be used.\n",
      "\n",
      "  This could be a false alarm, with some parameters getting used by language bindings but\n",
      "  then being mistakenly passed down to XGBoost core, or some parameter actually being used\n",
      "  but getting flagged wrongly here. Please open an issue if you find any such cases.\n",
      "\n",
      "\n"
     ]
    },
    {
     "name": "stderr",
     "output_type": "stream",
     "text": [
      "/home/studio-lab-user/.conda/envs/env/lib/python3.8/site-packages/xgboost/sklearn.py:1224: UserWarning: The use of label encoder in XGBClassifier is deprecated and will be removed in a future release. To remove this warning, do the following: 1) Pass option use_label_encoder=False when constructing XGBClassifier object; and 2) Encode your labels (y) as integers starting with 0, i.e. 0, 1, 2, ..., [num_class - 1].\n",
      "  warnings.warn(label_encoder_deprecation_msg, UserWarning)\n"
     ]
    },
    {
     "name": "stdout",
     "output_type": "stream",
     "text": [
      "[17:45:49] WARNING: /home/conda/feedstock_root/build_artifacts/xgboost-split_1645117766796/work/src/learner.cc:1115: Starting in XGBoost 1.3.0, the default evaluation metric used with the objective 'multi:softprob' was changed from 'merror' to 'mlogloss'. Explicitly set eval_metric if you'd like to restore the old behavior.\n"
     ]
    },
    {
     "data": {
      "image/png": "[encoded data removed]",
      "text/plain": [
       "<Figure size 432x288 with 2 Axes>"
      ]
     },
     "metadata": {
      "needs_background": "light"
     },
     "output_type": "display_data"
    },
    {
     "name": "stdout",
     "output_type": "stream",
     "text": [
      "              precision    recall  f1-score   support\n",
      "\n",
      "         neu       0.42      0.30      0.35       258\n",
      "         hap       0.26      0.18      0.22       303\n",
      "         sad       0.48      0.44      0.46       143\n",
      "         fru       0.38      0.42      0.40       481\n",
      "         ang       0.42      0.57      0.48       327\n",
      "\n",
      "    accuracy                           0.39      1512\n",
      "   macro avg       0.39      0.38      0.38      1512\n",
      "weighted avg       0.38      0.39      0.38      1512\n",
      "\n"
     ]
    }
   ],
   "source": [
    "top_n = [3, 5, 6, 7, 8]  # number of features\n",
    "for n in top_n:\n",
    "    threshold = np.argsort(contribution_scores)[::-1][:n][-1]\n",
    "    print('Stats for top {} features:'.format(n))\n",
    "    # Select features using threshold\n",
    "    selection = SelectFromModel(xgb_classifier, threshold=contribution_scores[threshold], prefit=True)\n",
    "    select_X_train = selection.transform(X_train)\n",
    "    select_X_test = selection.transform(X_test)\n",
    "    \n",
    "    # Train\n",
    "    select_xgb_classifier = xgb.XGBClassifier(max_depth=7, learning_rate=0.008, objective='multi:softprob', \n",
    "                                              n_estimators=1200, sub_sample = 0.8, num_class = len(CLASS_TO_ID),\n",
    "                                              booster='gbtree', n_jobs=4)\n",
    "    select_xgb_classifier.fit(select_X_train, y_train)\n",
    "\n",
    "    # Predict\n",
    "    pred_probs = select_xgb_classifier.predict_proba(select_X_test)\n",
    "\n",
    "    # Results\n",
    "    model = 'select_xgb'\n",
    "    display_results(y_test, pred_probs)"
   ]
  },
  {
   "cell_type": "code",
   "execution_count": null,
   "id": "2787e491",
   "metadata": {
    "colab": {
     "background_save": true
    },
    "id": "2787e491",
    "outputId": "fc1ee682-2871-4db9-ec68-605cefbdd13d"
   },
   "outputs": [
    {
     "data": {
      "image/png": "[encoded data removed]",
      "text/plain": [
       "<Figure size 432x288 with 2 Axes>"
      ]
     },
     "metadata": {
      "needs_background": "light"
     },
     "output_type": "display_data"
    },
    {
     "name": "stdout",
     "output_type": "stream",
     "text": [
      "              precision    recall  f1-score   support\n",
      "\n",
      "         neu       0.44      0.29      0.35       258\n",
      "         hap       0.37      0.27      0.31       303\n",
      "         sad       0.63      0.55      0.59       143\n",
      "         fru       0.40      0.60      0.48       481\n",
      "         ang       0.49      0.42      0.45       327\n",
      "\n",
      "    accuracy                           0.44      1512\n",
      "   macro avg       0.47      0.43      0.44      1512\n",
      "weighted avg       0.45      0.44      0.43      1512\n",
      "\n"
     ]
    }
   ],
   "source": [
    "# Load predicted probabilities\n",
    "with open(home_path + 'skl_res/ICP/rf_classifier.pkl', 'rb') as f:\n",
    "    rf_pred_probs = pickle.load(f)\n",
    "\n",
    "with open(home_path + 'skl_res/ICP/xgb_classifier.pkl', 'rb') as f:\n",
    "    xgb_pred_probs = pickle.load(f)\n",
    "    \n",
    "with open(home_path + 'skl_res/ICP/svc_classifier_model.pkl', 'rb') as f:\n",
    "    svc_preds = pickle.load(f)\n",
    "    \n",
    "with open(home_path + 'skl_res/ICP/mnb_classifier.pkl', 'rb') as f:\n",
    "    mnb_pred_probs = pickle.load(f)\n",
    "    \n",
    "with open(home_path + 'skl_res/ICP/mlp_classifier.pkl', 'rb') as f:\n",
    "    mlp_pred_probs = pickle.load(f)\n",
    "    \n",
    "with open(home_path + 'skl_res/ICP/lr_classifier.pkl', 'rb') as f:\n",
    "    lr_pred_probs = pickle.load(f)\n",
    "\n",
    "#with open(home_path + 'skl_res/ICP/lstm_classifier.pkl', 'rb') as f:\n",
    " #   lstm_pred_probs = pickle.load(f)\n",
    "\n",
    "# Average of the predicted probabilites\n",
    "ensemble_pred_probs = (xgb_pred_probs + mlp_pred_probs + rf_pred_probs)/3.0\n",
    "# Show metrics\n",
    "model = \"ensemble\"\n",
    "display_results(y_test, ensemble_pred_probs)"
   ]
  },
  {
   "cell_type": "code",
   "execution_count": null,
   "id": "9c64ea6b",
   "metadata": {
    "colab": {
     "background_save": true
    },
    "id": "9c64ea6b"
   },
   "outputs": [],
   "source": []
  },
  {
   "cell_type": "code",
   "execution_count": null,
   "id": "87ad1f4f-949a-49f9-8e09-3c6a23b33547",
   "metadata": {},
   "outputs": [],
   "source": []
  }
 ],
 "metadata": {
  "colab": {
   "collapsed_sections": [],
   "name": "W2V with sklearn for ICP.ipynb",
   "provenance": []
  },
  "kernelspec": {
   "display_name": "env:Python",
   "language": "python",
   "name": "conda-env-env-py"
  },
  "language_info": {
   "codemirror_mode": {
    "name": "ipython",
    "version": 3
   },
   "file_extension": ".py",
   "mimetype": "text/x-python",
   "name": "python",
   "nbconvert_exporter": "python",
   "pygments_lexer": "ipython3",
   "version": "3.8.12"
  }
 },
 "nbformat": 4,
 "nbformat_minor": 5
}
